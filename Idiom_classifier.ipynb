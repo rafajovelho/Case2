{
 "cells": [
  {
   "cell_type": "markdown",
   "metadata": {},
   "source": [
    "Magroove Data Science Test\n",
    "=======================\n",
    "\n",
    "### Intro\n",
    "The goal of this test is to access your ability to use data science to tackle a real life issue. Because the nature of the issue is just so complex, we do not expect your solution to be definitive or highly performant - we actually don’t really care about the accuracy of your results at all. What we really care about is your thought process or the way you take an issue, distill it into something solvable by a machine and turn all that into code. As you may imagine at this point, this test will revolve around a machine learning problem - a classification one to be more specific, so let’s get to it.\n",
    "\n",
    "### The Problem\n",
    "When uploading an album to digital streaming platforms (DPSs) like Spotify, Apple or so on, it is important that all the metadata that goes with that album to be accurate. Metadata includes basic information like the album name, the year when it was recorded, the artists involved in the tracks and much more. In this exercise we are particularly interested in a specific element of the metadata - language.\n",
    "\n",
    "Language is an important piece of metadata as it helps the DPSs recommend a given album to listeners that understand that language and will most likely appreciate it. Because of that, DSPs are quite strict with the correct language being assigned when receiving an album.\n",
    "\n",
    "However, it does occur quite frequently for our users to incorrectly fill the language field in our form when submitting an album, which later leads to conflicts between the given user, our company and the DSPs. The goal of this test then is to work on a solution for a simplified version of such problem.\n",
    "\n",
    "Together with this description you will find two files - dataset-hindi.csv and dataset-spanish.csv. The names are quite intuitive, each contains metadata from albums we already distribute and that we know their metadata are either written in Spanish or Hindi. Each CSV contains three columns - artist_name, release_name and song_name. Even though the names are rather intuitive, you should pay attention to the fact that the columns artist_name and release_name tend to have repeated entries as the same artist can have several albums and an album can have several songs.\n",
    "\n",
    "**Your goal then is to create a model to classify future metadata as either written in Spanish or Hindi.**\n",
    "\n",
    "### The deliverables\n",
    "We expect to receive from you a single python script (run.py) and a requirements (requirements.txt) file listing all the dependencies to run it. Your script should be written using Python 3.x and it should output a model we could later use for inference in a production-like environment. You can use any packages or libraries you want as long as you don’t use any pre-trained model. You are also forbidden to use third party APIs or services for language inference like AWS Comprehend or GCP Translation. Your single script should contain everything from data cleaning and preprocessing all the way to model training and inference.\n",
    "\n",
    "### Evaluation and final thoughts\n",
    "\n",
    "Again, even though accuracy is always a good metric, our primary focus will definitely not be performance (we would be running a Kaggle competition if it was =) ). Our attention will be on the logic you used to try and solve the issue and how it translated into code. So don’t worry if your model performs poorly at the end - we would choose nine out of ten times a poor model performance with a smart approach and attempt to solve the problem in question.\n",
    "\n",
    "And finally, don’t hesitate to get in touch if you have any questions, doubts or simply need a kick start. Here at Magroove we have a strong culture of helping each other out - so you can definitely count on us - and we promise that any calls for help will not affect your evaluation at all. In the end solving challenging problems is mostly about asking the right questions, so well thought questions are more than welcome. So good luck with your test and keep us in the loop!\n"
   ]
  },
  {
   "cell_type": "markdown",
   "metadata": {},
   "source": [
    "##  Visualização dos Dados"
   ]
  },
  {
   "cell_type": "code",
   "execution_count": 1,
   "metadata": {},
   "outputs": [],
   "source": [
    "import pandas as pd\n",
    "import numpy as np\n",
    "import unidecode\n",
    "import os\n",
    "import re\n",
    "import matplotlib.pyplot as plt\n",
    "import seaborn as sns\n",
    "from sklearn import metrics\n",
    "from sklearn.compose import make_column_transformer\n",
    "from sklearn.feature_extraction.text import CountVectorizer # (converter as colunas em um array)\n",
    "from sklearn.model_selection import train_test_split\n",
    "from sklearn.naive_bayes import MultinomialNB\n",
    "from sklearn.neighbors import KNeighborsClassifier"
   ]
  },
  {
   "cell_type": "code",
   "execution_count": 2,
   "metadata": {},
   "outputs": [],
   "source": [
    "# Function to Reduce repeated characters and punctuations\n",
    "def reducing_incorrect_character_repeatation(text):\n",
    "    \"\"\"\n",
    "    This Function will reduce repeatition to two characters \n",
    "    for alphabets and to one character for punctuations.\n",
    "    \n",
    "    arguments:\n",
    "         input_text: \"text\" of type \"String\".\n",
    "         \n",
    "    return:\n",
    "        value: Finally formatted text with alphabets repeating to \n",
    "        two characters & punctuations limited to one repeatition \n",
    "        \n",
    "    Example:\n",
    "    Input : Realllllllllyyyyy,        Greeeeaaaatttt   !!!!?....;;;;:)\n",
    "    Output : Reallyy, Greeaatt !?.;:)\n",
    "    \n",
    "    \"\"\"\n",
    "    # Pattern matching for all case alphabets\n",
    "    Pattern_alpha = re.compile(r\"([A-Za-z])\\1{1,}\", re.DOTALL)\n",
    "    \n",
    "    # Limiting all the  repeatation to two characters.\n",
    "    Formatted_text = Pattern_alpha.sub(r\"\\1\\1\", text) \n",
    "    \n",
    "    # Pattern matching for all the punctuations that can occur\n",
    "    Pattern_Punct = re.compile(r'([.,/#!$%^&*?;:{}=_`~()+-])\\1{1,}')\n",
    "    \n",
    "    # Limiting punctuations in previously formatted string to only one.\n",
    "    Combined_Formatted = Pattern_Punct.sub(r'\\1', Formatted_text)\n",
    "    \n",
    "    # The below statement is replacing repeatation of spaces that occur more than two times with that of one occurrence.\n",
    "    Final_Formatted = re.sub(' {2,}',' ', Combined_Formatted)\n",
    "    return Final_Formatted"
   ]
  },
  {
   "cell_type": "markdown",
   "metadata": {},
   "source": [
    "## Análise Exploratória"
   ]
  },
  {
   "cell_type": "code",
   "execution_count": 3,
   "metadata": {},
   "outputs": [],
   "source": [
    "# Importando os dados\n",
    "df_sp = pd.read_csv('dataset-spanish.csv', header = 0)\n",
    "df_hi = pd.read_csv('dataset-hindi.csv', header = 0)"
   ]
  },
  {
   "cell_type": "code",
   "execution_count": 4,
   "metadata": {},
   "outputs": [
    {
     "data": {
      "text/html": [
       "<div>\n",
       "<style scoped>\n",
       "    .dataframe tbody tr th:only-of-type {\n",
       "        vertical-align: middle;\n",
       "    }\n",
       "\n",
       "    .dataframe tbody tr th {\n",
       "        vertical-align: top;\n",
       "    }\n",
       "\n",
       "    .dataframe thead th {\n",
       "        text-align: right;\n",
       "    }\n",
       "</style>\n",
       "<table border=\"1\" class=\"dataframe\">\n",
       "  <thead>\n",
       "    <tr style=\"text-align: right;\">\n",
       "      <th></th>\n",
       "      <th>artist_name</th>\n",
       "      <th>release_name</th>\n",
       "      <th>song_name</th>\n",
       "    </tr>\n",
       "  </thead>\n",
       "  <tbody>\n",
       "    <tr>\n",
       "      <th>2614</th>\n",
       "      <td>Esteban Estevez</td>\n",
       "      <td>Senderos</td>\n",
       "      <td>Como, Donde Y Cuando</td>\n",
       "    </tr>\n",
       "    <tr>\n",
       "      <th>3480</th>\n",
       "      <td>CNV</td>\n",
       "      <td>Identidad</td>\n",
       "      <td>enero</td>\n",
       "    </tr>\n",
       "    <tr>\n",
       "      <th>417</th>\n",
       "      <td>Tommy G</td>\n",
       "      <td>Baby Baby Baby</td>\n",
       "      <td>Baby Baby Baby</td>\n",
       "    </tr>\n",
       "    <tr>\n",
       "      <th>4347</th>\n",
       "      <td>El Soldado De Jesus Oficial</td>\n",
       "      <td>Hay Unos</td>\n",
       "      <td>me enamore de ti</td>\n",
       "    </tr>\n",
       "    <tr>\n",
       "      <th>1508</th>\n",
       "      <td>Djkeivis</td>\n",
       "      <td>24 Rosas</td>\n",
       "      <td>24 Rosas</td>\n",
       "    </tr>\n",
       "  </tbody>\n",
       "</table>\n",
       "</div>"
      ],
      "text/plain": [
       "                      artist_name    release_name             song_name\n",
       "2614              Esteban Estevez       Senderos   Como, Donde Y Cuando\n",
       "3480                          CNV       Identidad                 enero\n",
       "417                       Tommy G  Baby Baby Baby        Baby Baby Baby\n",
       "4347  El Soldado De Jesus Oficial        Hay Unos      me enamore de ti\n",
       "1508                     Djkeivis        24 Rosas              24 Rosas"
      ]
     },
     "execution_count": 4,
     "metadata": {},
     "output_type": "execute_result"
    }
   ],
   "source": [
    "# Visualização dos dados\n",
    "df_sp.sample(5)"
   ]
  },
  {
   "cell_type": "code",
   "execution_count": 5,
   "metadata": {},
   "outputs": [
    {
     "data": {
      "text/html": [
       "<div>\n",
       "<style scoped>\n",
       "    .dataframe tbody tr th:only-of-type {\n",
       "        vertical-align: middle;\n",
       "    }\n",
       "\n",
       "    .dataframe tbody tr th {\n",
       "        vertical-align: top;\n",
       "    }\n",
       "\n",
       "    .dataframe thead th {\n",
       "        text-align: right;\n",
       "    }\n",
       "</style>\n",
       "<table border=\"1\" class=\"dataframe\">\n",
       "  <thead>\n",
       "    <tr style=\"text-align: right;\">\n",
       "      <th></th>\n",
       "      <th>artist_name</th>\n",
       "      <th>release_name</th>\n",
       "      <th>song_name</th>\n",
       "    </tr>\n",
       "  </thead>\n",
       "  <tbody>\n",
       "    <tr>\n",
       "      <th>38</th>\n",
       "      <td>Atul Anand</td>\n",
       "      <td>Ai Khuda</td>\n",
       "      <td>Ai Khuda</td>\n",
       "    </tr>\n",
       "    <tr>\n",
       "      <th>704</th>\n",
       "      <td>Visual Chinmay</td>\n",
       "      <td>Dildara</td>\n",
       "      <td>Dildara</td>\n",
       "    </tr>\n",
       "    <tr>\n",
       "      <th>3002</th>\n",
       "      <td>Nabeel Khan</td>\n",
       "      <td>Kesariya Balam (Sarangi)</td>\n",
       "      <td>Kesariya Balam (Sarangi)</td>\n",
       "    </tr>\n",
       "    <tr>\n",
       "      <th>2972</th>\n",
       "      <td>Devansu Rathva</td>\n",
       "      <td>Jethalala</td>\n",
       "      <td>Bhide</td>\n",
       "    </tr>\n",
       "    <tr>\n",
       "      <th>4122</th>\n",
       "      <td>Jaikant Bhardwaj</td>\n",
       "      <td>Kabhi Kabhi</td>\n",
       "      <td>Kabhi Kabhi</td>\n",
       "    </tr>\n",
       "  </tbody>\n",
       "</table>\n",
       "</div>"
      ],
      "text/plain": [
       "           artist_name               release_name                  song_name\n",
       "38          Atul Anand                   Ai Khuda                   Ai Khuda\n",
       "704     Visual Chinmay                   Dildara                    Dildara \n",
       "3002       Nabeel Khan  Kesariya Balam (Sarangi)   Kesariya Balam (Sarangi) \n",
       "2972    Devansu Rathva                  Jethalala                      Bhide\n",
       "4122  Jaikant Bhardwaj               Kabhi Kabhi                 Kabhi Kabhi"
      ]
     },
     "execution_count": 5,
     "metadata": {},
     "output_type": "execute_result"
    }
   ],
   "source": [
    "# Visualização dos dados\n",
    "df_hi.sample(5)"
   ]
  },
  {
   "cell_type": "code",
   "execution_count": 6,
   "metadata": {},
   "outputs": [
    {
     "name": "stdout",
     "output_type": "stream",
     "text": [
      "Spanish dataset length: 5000 \n",
      "Hindi dataset lenght: 5000\n"
     ]
    }
   ],
   "source": [
    "# Checking the dataset lenght\n",
    "print(f'Spanish dataset length: {len(df_sp)} \\nHindi dataset lenght: {len(df_hi)}')"
   ]
  },
  {
   "cell_type": "code",
   "execution_count": 7,
   "metadata": {},
   "outputs": [
    {
     "data": {
      "text/html": [
       "<div>\n",
       "<style scoped>\n",
       "    .dataframe tbody tr th:only-of-type {\n",
       "        vertical-align: middle;\n",
       "    }\n",
       "\n",
       "    .dataframe tbody tr th {\n",
       "        vertical-align: top;\n",
       "    }\n",
       "\n",
       "    .dataframe thead th {\n",
       "        text-align: right;\n",
       "    }\n",
       "</style>\n",
       "<table border=\"1\" class=\"dataframe\">\n",
       "  <thead>\n",
       "    <tr style=\"text-align: right;\">\n",
       "      <th></th>\n",
       "      <th>artist_name</th>\n",
       "      <th>release_name</th>\n",
       "      <th>song_name</th>\n",
       "    </tr>\n",
       "  </thead>\n",
       "  <tbody>\n",
       "    <tr>\n",
       "      <th>count</th>\n",
       "      <td>5000</td>\n",
       "      <td>4999</td>\n",
       "      <td>4999</td>\n",
       "    </tr>\n",
       "    <tr>\n",
       "      <th>unique</th>\n",
       "      <td>1415</td>\n",
       "      <td>1870</td>\n",
       "      <td>4702</td>\n",
       "    </tr>\n",
       "    <tr>\n",
       "      <th>top</th>\n",
       "      <td>Various</td>\n",
       "      <td>Cumbias Sonideras</td>\n",
       "      <td>Title Error</td>\n",
       "    </tr>\n",
       "    <tr>\n",
       "      <th>freq</th>\n",
       "      <td>134</td>\n",
       "      <td>134</td>\n",
       "      <td>24</td>\n",
       "    </tr>\n",
       "  </tbody>\n",
       "</table>\n",
       "</div>"
      ],
      "text/plain": [
       "       artist_name       release_name    song_name\n",
       "count         5000               4999         4999\n",
       "unique        1415               1870         4702\n",
       "top        Various  Cumbias Sonideras  Title Error\n",
       "freq           134                134           24"
      ]
     },
     "execution_count": 7,
     "metadata": {},
     "output_type": "execute_result"
    }
   ],
   "source": [
    "# Describe dos dados\n",
    "df_sp.describe()\n"
   ]
  },
  {
   "cell_type": "code",
   "execution_count": 8,
   "metadata": {},
   "outputs": [
    {
     "data": {
      "text/html": [
       "<div>\n",
       "<style scoped>\n",
       "    .dataframe tbody tr th:only-of-type {\n",
       "        vertical-align: middle;\n",
       "    }\n",
       "\n",
       "    .dataframe tbody tr th {\n",
       "        vertical-align: top;\n",
       "    }\n",
       "\n",
       "    .dataframe thead th {\n",
       "        text-align: right;\n",
       "    }\n",
       "</style>\n",
       "<table border=\"1\" class=\"dataframe\">\n",
       "  <thead>\n",
       "    <tr style=\"text-align: right;\">\n",
       "      <th></th>\n",
       "      <th>artist_name</th>\n",
       "      <th>release_name</th>\n",
       "      <th>song_name</th>\n",
       "    </tr>\n",
       "  </thead>\n",
       "  <tbody>\n",
       "    <tr>\n",
       "      <th>count</th>\n",
       "      <td>5000</td>\n",
       "      <td>5000</td>\n",
       "      <td>4997</td>\n",
       "    </tr>\n",
       "    <tr>\n",
       "      <th>unique</th>\n",
       "      <td>2436</td>\n",
       "      <td>4034</td>\n",
       "      <td>4616</td>\n",
       "    </tr>\n",
       "    <tr>\n",
       "      <th>top</th>\n",
       "      <td>Visual Chinmay</td>\n",
       "      <td>Vibeee:)</td>\n",
       "      <td>Title Error</td>\n",
       "    </tr>\n",
       "    <tr>\n",
       "      <th>freq</th>\n",
       "      <td>134</td>\n",
       "      <td>59</td>\n",
       "      <td>33</td>\n",
       "    </tr>\n",
       "  </tbody>\n",
       "</table>\n",
       "</div>"
      ],
      "text/plain": [
       "           artist_name release_name    song_name\n",
       "count             5000         5000         4997\n",
       "unique            2436         4034         4616\n",
       "top     Visual Chinmay     Vibeee:)  Title Error\n",
       "freq               134           59           33"
      ]
     },
     "execution_count": 8,
     "metadata": {},
     "output_type": "execute_result"
    }
   ],
   "source": [
    "df_hi.describe()"
   ]
  },
  {
   "cell_type": "markdown",
   "metadata": {},
   "source": [
    "## Data Cleaning"
   ]
  },
  {
   "cell_type": "markdown",
   "metadata": {},
   "source": [
    "> Before starting the data cleaning process, I'll add the column 'Idiom' in the datasets so I can already concatenate them to make the cleaning for the whole dataset"
   ]
  },
  {
   "cell_type": "code",
   "execution_count": 9,
   "metadata": {},
   "outputs": [],
   "source": [
    "# Adding a 'Idiom' column\n",
    "df_sp['Idiom'] = 'Spanish'\n",
    "df_hi['Idiom'] = 'Hindi'"
   ]
  },
  {
   "cell_type": "code",
   "execution_count": 10,
   "metadata": {},
   "outputs": [
    {
     "data": {
      "text/plain": [
       "10000"
      ]
     },
     "execution_count": 10,
     "metadata": {},
     "output_type": "execute_result"
    }
   ],
   "source": [
    "# Concatenating the datasets\n",
    "df = pd.concat([df_sp, df_hi])\n",
    "len(df)"
   ]
  },
  {
   "cell_type": "code",
   "execution_count": 11,
   "metadata": {},
   "outputs": [
    {
     "name": "stdout",
     "output_type": "stream",
     "text": [
      "154\n"
     ]
    }
   ],
   "source": [
    "print(df.duplicated().sum())"
   ]
  },
  {
   "cell_type": "code",
   "execution_count": 12,
   "metadata": {},
   "outputs": [],
   "source": [
    "# Dropping duplicated rows\n",
    "df.drop_duplicates(inplace= True)"
   ]
  },
  {
   "cell_type": "code",
   "execution_count": 13,
   "metadata": {},
   "outputs": [
    {
     "data": {
      "text/plain": [
       "artist_name     0\n",
       "release_name    1\n",
       "song_name       4\n",
       "Idiom           0\n",
       "dtype: int64"
      ]
     },
     "execution_count": 13,
     "metadata": {},
     "output_type": "execute_result"
    }
   ],
   "source": [
    "# Checkin missing values\n",
    "df.isna().sum()"
   ]
  },
  {
   "cell_type": "code",
   "execution_count": 14,
   "metadata": {},
   "outputs": [],
   "source": [
    "# Dropping the rows with missing values\n",
    "df.dropna(inplace=True)"
   ]
  },
  {
   "cell_type": "code",
   "execution_count": 15,
   "metadata": {},
   "outputs": [
    {
     "name": "stdout",
     "output_type": "stream",
     "text": [
      "Spanish dataset length: 4935 \n",
      "Hindi dataset lenght: 4906\n"
     ]
    }
   ],
   "source": [
    "# Checking dataset lenght after dropping the duplications for the spanish and the hindi (so we can see if it's still balanced)\n",
    "print(f\"Spanish dataset length: {len(df[(df.Idiom == 'Spanish')])} \\nHindi dataset lenght: {len(df[(df.Idiom == 'Hindi')])}\")"
   ]
  },
  {
   "cell_type": "code",
   "execution_count": 16,
   "metadata": {},
   "outputs": [
    {
     "data": {
      "text/html": [
       "<div>\n",
       "<style scoped>\n",
       "    .dataframe tbody tr th:only-of-type {\n",
       "        vertical-align: middle;\n",
       "    }\n",
       "\n",
       "    .dataframe tbody tr th {\n",
       "        vertical-align: top;\n",
       "    }\n",
       "\n",
       "    .dataframe thead th {\n",
       "        text-align: right;\n",
       "    }\n",
       "</style>\n",
       "<table border=\"1\" class=\"dataframe\">\n",
       "  <thead>\n",
       "    <tr style=\"text-align: right;\">\n",
       "      <th></th>\n",
       "      <th>artist_name</th>\n",
       "      <th>release_name</th>\n",
       "      <th>song_name</th>\n",
       "      <th>Idiom</th>\n",
       "    </tr>\n",
       "  </thead>\n",
       "  <tbody>\n",
       "    <tr>\n",
       "      <th>count</th>\n",
       "      <td>9841</td>\n",
       "      <td>9841</td>\n",
       "      <td>9841</td>\n",
       "      <td>9841</td>\n",
       "    </tr>\n",
       "    <tr>\n",
       "      <th>unique</th>\n",
       "      <td>3843</td>\n",
       "      <td>5891</td>\n",
       "      <td>9299</td>\n",
       "      <td>2</td>\n",
       "    </tr>\n",
       "    <tr>\n",
       "      <th>top</th>\n",
       "      <td>Various</td>\n",
       "      <td>Cumbias Sonideras</td>\n",
       "      <td>Title Error</td>\n",
       "      <td>Spanish</td>\n",
       "    </tr>\n",
       "    <tr>\n",
       "      <th>freq</th>\n",
       "      <td>134</td>\n",
       "      <td>134</td>\n",
       "      <td>31</td>\n",
       "      <td>4935</td>\n",
       "    </tr>\n",
       "  </tbody>\n",
       "</table>\n",
       "</div>"
      ],
      "text/plain": [
       "       artist_name       release_name    song_name    Idiom\n",
       "count         9841               9841         9841     9841\n",
       "unique        3843               5891         9299        2\n",
       "top        Various  Cumbias Sonideras  Title Error  Spanish\n",
       "freq           134                134           31     4935"
      ]
     },
     "execution_count": 16,
     "metadata": {},
     "output_type": "execute_result"
    }
   ],
   "source": [
    "df.describe()"
   ]
  },
  {
   "cell_type": "code",
   "execution_count": 17,
   "metadata": {},
   "outputs": [
    {
     "data": {
      "text/plain": [
       "Title Error              31\n",
       "Intro                     9\n",
       "TITLE_ERROR               7\n",
       "Contigo                   6\n",
       "Ranjha                    5\n",
       "                         ..\n",
       "Me Llevo a Las Gyales     1\n",
       "Yuca                      1\n",
       "Cash Out                  1\n",
       "Lunes Rahib               1\n",
       "The Devue                 1\n",
       "Name: song_name, Length: 9299, dtype: int64"
      ]
     },
     "execution_count": 17,
     "metadata": {},
     "output_type": "execute_result"
    }
   ],
   "source": [
    "# Taking a deep look into the variables to clean it properly\n",
    "df['song_name'].value_counts()"
   ]
  },
  {
   "cell_type": "code",
   "execution_count": 18,
   "metadata": {},
   "outputs": [],
   "source": [
    "# I'll remove the rows with Title Error (and TITLE_ERROR) and also the Intro songs, since it doesn't mean much about the idiom of the song (which is what we are looking for in this project)\n",
    "df = df[(df.song_name != 'Title Error') & (df.song_name != 'TITLE_ERROR') & (df.song_name.str.startswith('Intro') == False)]"
   ]
  },
  {
   "cell_type": "code",
   "execution_count": 19,
   "metadata": {},
   "outputs": [
    {
     "data": {
      "text/html": [
       "<div>\n",
       "<style scoped>\n",
       "    .dataframe tbody tr th:only-of-type {\n",
       "        vertical-align: middle;\n",
       "    }\n",
       "\n",
       "    .dataframe tbody tr th {\n",
       "        vertical-align: top;\n",
       "    }\n",
       "\n",
       "    .dataframe thead th {\n",
       "        text-align: right;\n",
       "    }\n",
       "</style>\n",
       "<table border=\"1\" class=\"dataframe\">\n",
       "  <thead>\n",
       "    <tr style=\"text-align: right;\">\n",
       "      <th></th>\n",
       "      <th>artist_name</th>\n",
       "      <th>release_name</th>\n",
       "      <th>song_name</th>\n",
       "      <th>Idiom</th>\n",
       "    </tr>\n",
       "  </thead>\n",
       "  <tbody>\n",
       "    <tr>\n",
       "      <th>count</th>\n",
       "      <td>9781</td>\n",
       "      <td>9781</td>\n",
       "      <td>9781</td>\n",
       "      <td>9781</td>\n",
       "    </tr>\n",
       "    <tr>\n",
       "      <th>unique</th>\n",
       "      <td>3822</td>\n",
       "      <td>5864</td>\n",
       "      <td>9283</td>\n",
       "      <td>2</td>\n",
       "    </tr>\n",
       "    <tr>\n",
       "      <th>top</th>\n",
       "      <td>Various</td>\n",
       "      <td>Cumbias Sonideras</td>\n",
       "      <td>Contigo</td>\n",
       "      <td>Spanish</td>\n",
       "    </tr>\n",
       "    <tr>\n",
       "      <th>freq</th>\n",
       "      <td>134</td>\n",
       "      <td>134</td>\n",
       "      <td>6</td>\n",
       "      <td>4903</td>\n",
       "    </tr>\n",
       "  </tbody>\n",
       "</table>\n",
       "</div>"
      ],
      "text/plain": [
       "       artist_name       release_name song_name    Idiom\n",
       "count         9781               9781      9781     9781\n",
       "unique        3822               5864      9283        2\n",
       "top        Various  Cumbias Sonideras   Contigo  Spanish\n",
       "freq           134                134         6     4903"
      ]
     },
     "execution_count": 19,
     "metadata": {},
     "output_type": "execute_result"
    }
   ],
   "source": [
    "df.describe()"
   ]
  },
  {
   "cell_type": "code",
   "execution_count": 20,
   "metadata": {},
   "outputs": [],
   "source": [
    "# Removing possible double whitespace in the text\n",
    "for i in range(0,len(df.columns)):\n",
    "    for j in range(0, len(df)):\n",
    "        df[(df.columns.values[i])].values[j] = re.sub(r'\\s+', ' ', df[(df.columns.values[i])].values[j])"
   ]
  },
  {
   "cell_type": "code",
   "execution_count": 21,
   "metadata": {},
   "outputs": [
    {
     "data": {
      "text/html": [
       "<div>\n",
       "<style scoped>\n",
       "    .dataframe tbody tr th:only-of-type {\n",
       "        vertical-align: middle;\n",
       "    }\n",
       "\n",
       "    .dataframe tbody tr th {\n",
       "        vertical-align: top;\n",
       "    }\n",
       "\n",
       "    .dataframe thead th {\n",
       "        text-align: right;\n",
       "    }\n",
       "</style>\n",
       "<table border=\"1\" class=\"dataframe\">\n",
       "  <thead>\n",
       "    <tr style=\"text-align: right;\">\n",
       "      <th></th>\n",
       "      <th>artist_name</th>\n",
       "      <th>release_name</th>\n",
       "      <th>song_name</th>\n",
       "      <th>Idiom</th>\n",
       "    </tr>\n",
       "  </thead>\n",
       "  <tbody>\n",
       "    <tr>\n",
       "      <th>1977</th>\n",
       "      <td>Lemon X</td>\n",
       "      <td>Hey Girl</td>\n",
       "      <td>Hey Girl</td>\n",
       "      <td>Hindi</td>\n",
       "    </tr>\n",
       "    <tr>\n",
       "      <th>3813</th>\n",
       "      <td>Udit Narayan</td>\n",
       "      <td>Udit Narayan Songs</td>\n",
       "      <td>Dhire Dhire Aap Mere</td>\n",
       "      <td>Hindi</td>\n",
       "    </tr>\n",
       "    <tr>\n",
       "      <th>1450</th>\n",
       "      <td>Iteo</td>\n",
       "      <td>Pala, Olla</td>\n",
       "      <td>Pala, Olla</td>\n",
       "      <td>Spanish</td>\n",
       "    </tr>\n",
       "    <tr>\n",
       "      <th>3168</th>\n",
       "      <td>Kanha Uk 08</td>\n",
       "      <td>Poison</td>\n",
       "      <td>Poison</td>\n",
       "      <td>Hindi</td>\n",
       "    </tr>\n",
       "    <tr>\n",
       "      <th>2399</th>\n",
       "      <td>Sakubu</td>\n",
       "      <td>Reshoma Ka Matla</td>\n",
       "      <td>Reshoma Ka Matla</td>\n",
       "      <td>Hindi</td>\n",
       "    </tr>\n",
       "  </tbody>\n",
       "</table>\n",
       "</div>"
      ],
      "text/plain": [
       "       artist_name        release_name             song_name    Idiom\n",
       "1977       Lemon X            Hey Girl             Hey Girl     Hindi\n",
       "3813  Udit Narayan  Udit Narayan Songs  Dhire Dhire Aap Mere    Hindi\n",
       "1450          Iteo          Pala, Olla            Pala, Olla  Spanish\n",
       "3168   Kanha Uk 08              Poison                Poison    Hindi\n",
       "2399        Sakubu    Reshoma Ka Matla      Reshoma Ka Matla    Hindi"
      ]
     },
     "execution_count": 21,
     "metadata": {},
     "output_type": "execute_result"
    }
   ],
   "source": [
    "df.sample(5)"
   ]
  },
  {
   "cell_type": "markdown",
   "metadata": {},
   "source": [
    "> O que fazer com os registro que possuem grande quantidade de valores repetidos como em 'release_name' e 'artist_name' ???"
   ]
  },
  {
   "cell_type": "markdown",
   "metadata": {},
   "source": [
    "## Pré-Processing"
   ]
  },
  {
   "cell_type": "markdown",
   "metadata": {},
   "source": [
    "### Removing accented characters"
   ]
  },
  {
   "cell_type": "code",
   "execution_count": 22,
   "metadata": {},
   "outputs": [],
   "source": [
    "# Removing accented characters\n",
    "for i in range(0,len(df.columns)):\n",
    "    for j in range(0, len(df)):\n",
    "        df[(df.columns.values[i])].values[j] = unidecode.unidecode(df[(df.columns.values[i])].values[j])"
   ]
  },
  {
   "cell_type": "code",
   "execution_count": 23,
   "metadata": {},
   "outputs": [
    {
     "data": {
      "text/html": [
       "<div>\n",
       "<style scoped>\n",
       "    .dataframe tbody tr th:only-of-type {\n",
       "        vertical-align: middle;\n",
       "    }\n",
       "\n",
       "    .dataframe tbody tr th {\n",
       "        vertical-align: top;\n",
       "    }\n",
       "\n",
       "    .dataframe thead th {\n",
       "        text-align: right;\n",
       "    }\n",
       "</style>\n",
       "<table border=\"1\" class=\"dataframe\">\n",
       "  <thead>\n",
       "    <tr style=\"text-align: right;\">\n",
       "      <th></th>\n",
       "      <th>artist_name</th>\n",
       "      <th>release_name</th>\n",
       "      <th>song_name</th>\n",
       "      <th>Idiom</th>\n",
       "    </tr>\n",
       "  </thead>\n",
       "  <tbody>\n",
       "    <tr>\n",
       "      <th>2475</th>\n",
       "      <td>Abhi</td>\n",
       "      <td>Country 0.2</td>\n",
       "      <td>Country 0.2 Music</td>\n",
       "      <td>Hindi</td>\n",
       "    </tr>\n",
       "    <tr>\n",
       "      <th>4780</th>\n",
       "      <td>Various</td>\n",
       "      <td>Cumbias Sonideras</td>\n",
       "      <td>El Amor De Mi Nena - Que Nota</td>\n",
       "      <td>Spanish</td>\n",
       "    </tr>\n",
       "    <tr>\n",
       "      <th>1749</th>\n",
       "      <td>Miti Miti</td>\n",
       "      <td>Miti Miti '88</td>\n",
       "      <td>Por Ti</td>\n",
       "      <td>Spanish</td>\n",
       "    </tr>\n",
       "    <tr>\n",
       "      <th>4496</th>\n",
       "      <td>Day Tripper</td>\n",
       "      <td>Ahora O Nunca</td>\n",
       "      <td>Sonico</td>\n",
       "      <td>Spanish</td>\n",
       "    </tr>\n",
       "    <tr>\n",
       "      <th>231</th>\n",
       "      <td>Zevna</td>\n",
       "      <td>Barbarroja</td>\n",
       "      <td>Contemplacion</td>\n",
       "      <td>Spanish</td>\n",
       "    </tr>\n",
       "  </tbody>\n",
       "</table>\n",
       "</div>"
      ],
      "text/plain": [
       "      artist_name       release_name                      song_name    Idiom\n",
       "2475         Abhi        Country 0.2             Country 0.2 Music     Hindi\n",
       "4780      Various  Cumbias Sonideras  El Amor De Mi Nena - Que Nota  Spanish\n",
       "1749    Miti Miti      Miti Miti '88                         Por Ti  Spanish\n",
       "4496  Day Tripper      Ahora O Nunca                         Sonico  Spanish\n",
       "231         Zevna         Barbarroja                  Contemplacion  Spanish"
      ]
     },
     "execution_count": 23,
     "metadata": {},
     "output_type": "execute_result"
    }
   ],
   "source": [
    "df.sample(5)"
   ]
  },
  {
   "cell_type": "markdown",
   "metadata": {},
   "source": [
    "### Converting the dataset to lowercase"
   ]
  },
  {
   "cell_type": "code",
   "execution_count": 24,
   "metadata": {},
   "outputs": [],
   "source": [
    "# Converting the dataset to lowercase\n",
    "for i in range(0,len(df.columns)):\n",
    "    for j in range(0, len(df)):\n",
    "        df[(df.columns.values[i])].values[j] = (df[(df.columns.values[i])].values[j]).lower()"
   ]
  },
  {
   "cell_type": "code",
   "execution_count": 25,
   "metadata": {},
   "outputs": [
    {
     "data": {
      "text/html": [
       "<div>\n",
       "<style scoped>\n",
       "    .dataframe tbody tr th:only-of-type {\n",
       "        vertical-align: middle;\n",
       "    }\n",
       "\n",
       "    .dataframe tbody tr th {\n",
       "        vertical-align: top;\n",
       "    }\n",
       "\n",
       "    .dataframe thead th {\n",
       "        text-align: right;\n",
       "    }\n",
       "</style>\n",
       "<table border=\"1\" class=\"dataframe\">\n",
       "  <thead>\n",
       "    <tr style=\"text-align: right;\">\n",
       "      <th></th>\n",
       "      <th>artist_name</th>\n",
       "      <th>release_name</th>\n",
       "      <th>song_name</th>\n",
       "      <th>Idiom</th>\n",
       "    </tr>\n",
       "  </thead>\n",
       "  <tbody>\n",
       "    <tr>\n",
       "      <th>2024</th>\n",
       "      <td>shailesh saraf</td>\n",
       "      <td>ajab saje he mahakali mor pendrawali - ajb saa...</td>\n",
       "      <td>ajab saje he mahakali mor pendrawali - ajb saa...</td>\n",
       "      <td>hindi</td>\n",
       "    </tr>\n",
       "    <tr>\n",
       "      <th>3953</th>\n",
       "      <td>manorth</td>\n",
       "      <td>descomposicion</td>\n",
       "      <td>murder</td>\n",
       "      <td>spanish</td>\n",
       "    </tr>\n",
       "    <tr>\n",
       "      <th>372</th>\n",
       "      <td>julion alvarez y su norteno banda</td>\n",
       "      <td>en vivo</td>\n",
       "      <td>manos arriba (en vivo)</td>\n",
       "      <td>spanish</td>\n",
       "    </tr>\n",
       "    <tr>\n",
       "      <th>1738</th>\n",
       "      <td>doctor shail</td>\n",
       "      <td>inception</td>\n",
       "      <td>gama male</td>\n",
       "      <td>hindi</td>\n",
       "    </tr>\n",
       "    <tr>\n",
       "      <th>4579</th>\n",
       "      <td>drinkover</td>\n",
       "      <td>arquitecto de ilusiones</td>\n",
       "      <td>arquitecto de ilusiones</td>\n",
       "      <td>spanish</td>\n",
       "    </tr>\n",
       "  </tbody>\n",
       "</table>\n",
       "</div>"
      ],
      "text/plain": [
       "                            artist_name  \\\n",
       "2024                     shailesh saraf   \n",
       "3953                            manorth   \n",
       "372   julion alvarez y su norteno banda   \n",
       "1738                       doctor shail   \n",
       "4579                          drinkover   \n",
       "\n",
       "                                           release_name  \\\n",
       "2024  ajab saje he mahakali mor pendrawali - ajb saa...   \n",
       "3953                                    descomposicion    \n",
       "372                                             en vivo   \n",
       "1738                                          inception   \n",
       "4579                            arquitecto de ilusiones   \n",
       "\n",
       "                                              song_name    Idiom  \n",
       "2024  ajab saje he mahakali mor pendrawali - ajb saa...    hindi  \n",
       "3953                                             murder  spanish  \n",
       "372                              manos arriba (en vivo)  spanish  \n",
       "1738                                          gama male    hindi  \n",
       "4579                            arquitecto de ilusiones  spanish  "
      ]
     },
     "execution_count": 25,
     "metadata": {},
     "output_type": "execute_result"
    }
   ],
   "source": [
    "df.sample(5)"
   ]
  },
  {
   "cell_type": "markdown",
   "metadata": {},
   "source": [
    "### Reducing repeated characters and punctuations"
   ]
  },
  {
   "cell_type": "code",
   "execution_count": 26,
   "metadata": {},
   "outputs": [],
   "source": [
    "# Reducing repeated characters and punctuations\n",
    "for i in range(0,len(df.columns)):\n",
    "    for j in range(0, len(df)):\n",
    "        df[(df.columns.values[i])].values[j] = reducing_incorrect_character_repeatation(df[(df.columns.values[i])].values[j])"
   ]
  },
  {
   "cell_type": "code",
   "execution_count": 27,
   "metadata": {},
   "outputs": [
    {
     "data": {
      "text/html": [
       "<div>\n",
       "<style scoped>\n",
       "    .dataframe tbody tr th:only-of-type {\n",
       "        vertical-align: middle;\n",
       "    }\n",
       "\n",
       "    .dataframe tbody tr th {\n",
       "        vertical-align: top;\n",
       "    }\n",
       "\n",
       "    .dataframe thead th {\n",
       "        text-align: right;\n",
       "    }\n",
       "</style>\n",
       "<table border=\"1\" class=\"dataframe\">\n",
       "  <thead>\n",
       "    <tr style=\"text-align: right;\">\n",
       "      <th></th>\n",
       "      <th>artist_name</th>\n",
       "      <th>release_name</th>\n",
       "      <th>song_name</th>\n",
       "      <th>Idiom</th>\n",
       "    </tr>\n",
       "  </thead>\n",
       "  <tbody>\n",
       "    <tr>\n",
       "      <th>2402</th>\n",
       "      <td>emma</td>\n",
       "      <td>el portal magico</td>\n",
       "      <td>mundo de los suenos</td>\n",
       "      <td>spanish</td>\n",
       "    </tr>\n",
       "    <tr>\n",
       "      <th>4365</th>\n",
       "      <td>shikari</td>\n",
       "      <td>kagazi lavs</td>\n",
       "      <td>kagazi lavs</td>\n",
       "      <td>hindi</td>\n",
       "    </tr>\n",
       "    <tr>\n",
       "      <th>1719</th>\n",
       "      <td>el coyote y su banda tierra santa</td>\n",
       "      <td>la carretera del amor</td>\n",
       "      <td>linda doctora</td>\n",
       "      <td>spanish</td>\n",
       "    </tr>\n",
       "    <tr>\n",
       "      <th>2531</th>\n",
       "      <td>lummy</td>\n",
       "      <td>como tu quieras\"\"</td>\n",
       "      <td>como tu quieras\" lummy\"</td>\n",
       "      <td>spanish</td>\n",
       "    </tr>\n",
       "    <tr>\n",
       "      <th>4002</th>\n",
       "      <td>diego (treinta doble d)</td>\n",
       "      <td>con calma</td>\n",
       "      <td>con calma</td>\n",
       "      <td>spanish</td>\n",
       "    </tr>\n",
       "  </tbody>\n",
       "</table>\n",
       "</div>"
      ],
      "text/plain": [
       "                            artist_name           release_name  \\\n",
       "2402                               emma      el portal magico    \n",
       "4365                            shikari            kagazi lavs   \n",
       "1719  el coyote y su banda tierra santa  la carretera del amor   \n",
       "2531                              lummy      como tu quieras\"\"   \n",
       "4002            diego (treinta doble d)              con calma   \n",
       "\n",
       "                    song_name    Idiom  \n",
       "2402     mundo de los suenos   spanish  \n",
       "4365              kagazi lavs    hindi  \n",
       "1719            linda doctora  spanish  \n",
       "2531  como tu quieras\" lummy\"  spanish  \n",
       "4002               con calma   spanish  "
      ]
     },
     "execution_count": 27,
     "metadata": {},
     "output_type": "execute_result"
    }
   ],
   "source": [
    "df.sample(5)"
   ]
  },
  {
   "cell_type": "markdown",
   "metadata": {},
   "source": [
    "> *I still need to do more cleaning regarding this part. We have a lot of songs starting with \" . \" or blank space*"
   ]
  },
  {
   "cell_type": "markdown",
   "metadata": {},
   "source": [
    "### Removing Special Characters"
   ]
  },
  {
   "cell_type": "code",
   "execution_count": 28,
   "metadata": {},
   "outputs": [],
   "source": [
    "# Removing Special Characters and also numbers(since the numbers doesn't give any hint regarding idiom)\n",
    "for i in range(0,len(df.columns)):\n",
    "    for j in range(0, len(df)):\n",
    "        df[(df.columns.values[i])].values[j] = re.sub(\"[.,;/0-9!?¿%@|~'#+:()-]\", '', df[(df.columns.values[i])].values[j])"
   ]
  },
  {
   "cell_type": "code",
   "execution_count": 29,
   "metadata": {},
   "outputs": [
    {
     "data": {
      "text/html": [
       "<div>\n",
       "<style scoped>\n",
       "    .dataframe tbody tr th:only-of-type {\n",
       "        vertical-align: middle;\n",
       "    }\n",
       "\n",
       "    .dataframe tbody tr th {\n",
       "        vertical-align: top;\n",
       "    }\n",
       "\n",
       "    .dataframe thead th {\n",
       "        text-align: right;\n",
       "    }\n",
       "</style>\n",
       "<table border=\"1\" class=\"dataframe\">\n",
       "  <thead>\n",
       "    <tr style=\"text-align: right;\">\n",
       "      <th></th>\n",
       "      <th>artist_name</th>\n",
       "      <th>release_name</th>\n",
       "      <th>song_name</th>\n",
       "      <th>Idiom</th>\n",
       "    </tr>\n",
       "  </thead>\n",
       "  <tbody>\n",
       "    <tr>\n",
       "      <th>2040</th>\n",
       "      <td>beshav</td>\n",
       "      <td>abhikaran</td>\n",
       "      <td>abhikaran</td>\n",
       "      <td>hindi</td>\n",
       "    </tr>\n",
       "    <tr>\n",
       "      <th>3752</th>\n",
       "      <td>x rhymer</td>\n",
       "      <td>baby i told you</td>\n",
       "      <td>baby i told you mastered</td>\n",
       "      <td>hindi</td>\n",
       "    </tr>\n",
       "    <tr>\n",
       "      <th>3907</th>\n",
       "      <td>jugglerboy</td>\n",
       "      <td>corazon duro</td>\n",
       "      <td>corazon duro</td>\n",
       "      <td>spanish</td>\n",
       "    </tr>\n",
       "    <tr>\n",
       "      <th>4678</th>\n",
       "      <td>trio samaritano</td>\n",
       "      <td>solo un poco mas</td>\n",
       "      <td>la creacion</td>\n",
       "      <td>spanish</td>\n",
       "    </tr>\n",
       "    <tr>\n",
       "      <th>2773</th>\n",
       "      <td>leiss z</td>\n",
       "      <td>leiss z rkt</td>\n",
       "      <td>leiss z rkt</td>\n",
       "      <td>spanish</td>\n",
       "    </tr>\n",
       "  </tbody>\n",
       "</table>\n",
       "</div>"
      ],
      "text/plain": [
       "           artist_name       release_name                 song_name    Idiom\n",
       "2040            beshav          abhikaran                 abhikaran    hindi\n",
       "3752          x rhymer    baby i told you  baby i told you mastered    hindi\n",
       "3907       jugglerboy        corazon duro              corazon duro  spanish\n",
       "4678  trio samaritano   solo un poco mas                la creacion  spanish\n",
       "2773           leiss z       leiss z rkt                leiss z rkt  spanish"
      ]
     },
     "execution_count": 29,
     "metadata": {},
     "output_type": "execute_result"
    }
   ],
   "source": [
    "df.sample(5)"
   ]
  },
  {
   "cell_type": "code",
   "execution_count": 30,
   "metadata": {},
   "outputs": [
    {
     "data": {
      "text/html": [
       "<div>\n",
       "<style scoped>\n",
       "    .dataframe tbody tr th:only-of-type {\n",
       "        vertical-align: middle;\n",
       "    }\n",
       "\n",
       "    .dataframe tbody tr th {\n",
       "        vertical-align: top;\n",
       "    }\n",
       "\n",
       "    .dataframe thead th {\n",
       "        text-align: right;\n",
       "    }\n",
       "</style>\n",
       "<table border=\"1\" class=\"dataframe\">\n",
       "  <thead>\n",
       "    <tr style=\"text-align: right;\">\n",
       "      <th></th>\n",
       "      <th>artist_name</th>\n",
       "      <th>release_name</th>\n",
       "      <th>song_name</th>\n",
       "      <th>Idiom</th>\n",
       "    </tr>\n",
       "  </thead>\n",
       "  <tbody>\n",
       "    <tr>\n",
       "      <th>3205</th>\n",
       "      <td>walther pro</td>\n",
       "      <td>resonancia</td>\n",
       "      <td></td>\n",
       "      <td>spanish</td>\n",
       "    </tr>\n",
       "    <tr>\n",
       "      <th>1316</th>\n",
       "      <td>cxcile</td>\n",
       "      <td></td>\n",
       "      <td></td>\n",
       "      <td>spanish</td>\n",
       "    </tr>\n",
       "    <tr>\n",
       "      <th>671</th>\n",
       "      <td>zevna  javi cheuke</td>\n",
       "      <td>jardin botanico</td>\n",
       "      <td></td>\n",
       "      <td>spanish</td>\n",
       "    </tr>\n",
       "    <tr>\n",
       "      <th>4036</th>\n",
       "      <td>zanmala</td>\n",
       "      <td></td>\n",
       "      <td></td>\n",
       "      <td>spanish</td>\n",
       "    </tr>\n",
       "    <tr>\n",
       "      <th>1908</th>\n",
       "      <td>tchad</td>\n",
       "      <td>ivory waali irony</td>\n",
       "      <td></td>\n",
       "      <td>hindi</td>\n",
       "    </tr>\n",
       "    <tr>\n",
       "      <th>...</th>\n",
       "      <td>...</td>\n",
       "      <td>...</td>\n",
       "      <td>...</td>\n",
       "      <td>...</td>\n",
       "    </tr>\n",
       "    <tr>\n",
       "      <th>1792</th>\n",
       "      <td>d i c</td>\n",
       "      <td>zona sur rkt</td>\n",
       "      <td>zona sur rkt</td>\n",
       "      <td>spanish</td>\n",
       "    </tr>\n",
       "    <tr>\n",
       "      <th>585</th>\n",
       "      <td>soledad bravo live dec</td>\n",
       "      <td>lost and found latin music tapes</td>\n",
       "      <td>zorongo</td>\n",
       "      <td>spanish</td>\n",
       "    </tr>\n",
       "    <tr>\n",
       "      <th>2510</th>\n",
       "      <td>zeta</td>\n",
       "      <td>zta music sessions vol</td>\n",
       "      <td>zta music sessions vol</td>\n",
       "      <td>spanish</td>\n",
       "    </tr>\n",
       "    <tr>\n",
       "      <th>1791</th>\n",
       "      <td>bsk brothers</td>\n",
       "      <td>absolute desi vol</td>\n",
       "      <td>zul zul vahe</td>\n",
       "      <td>hindi</td>\n",
       "    </tr>\n",
       "    <tr>\n",
       "      <th>1348</th>\n",
       "      <td>tia juana</td>\n",
       "      <td>de genuina tradicion</td>\n",
       "      <td>zulia colosal</td>\n",
       "      <td>spanish</td>\n",
       "    </tr>\n",
       "  </tbody>\n",
       "</table>\n",
       "<p>9781 rows × 4 columns</p>\n",
       "</div>"
      ],
      "text/plain": [
       "                   artist_name                      release_name  \\\n",
       "3205               walther pro                        resonancia   \n",
       "1316                    cxcile                                     \n",
       "671         zevna  javi cheuke                  jardin botanico    \n",
       "4036                   zanmala                                     \n",
       "1908                     tchad                 ivory waali irony   \n",
       "...                        ...                               ...   \n",
       "1792                     d i c                      zona sur rkt   \n",
       "585   soledad bravo live dec    lost and found latin music tapes   \n",
       "2510                      zeta            zta music sessions vol   \n",
       "1791              bsk brothers                 absolute desi vol   \n",
       "1348                 tia juana              de genuina tradicion   \n",
       "\n",
       "                   song_name    Idiom  \n",
       "3205                          spanish  \n",
       "1316                          spanish  \n",
       "671                           spanish  \n",
       "4036                          spanish  \n",
       "1908                            hindi  \n",
       "...                      ...      ...  \n",
       "1792           zona sur rkt   spanish  \n",
       "585                  zorongo  spanish  \n",
       "2510  zta music sessions vol  spanish  \n",
       "1791           zul zul vahe     hindi  \n",
       "1348           zulia colosal  spanish  \n",
       "\n",
       "[9781 rows x 4 columns]"
      ]
     },
     "execution_count": 30,
     "metadata": {},
     "output_type": "execute_result"
    }
   ],
   "source": [
    "# Visualizing data \n",
    "df.sort_values('song_name')"
   ]
  },
  {
   "cell_type": "code",
   "execution_count": 31,
   "metadata": {},
   "outputs": [
    {
     "data": {
      "text/html": [
       "<div>\n",
       "<style scoped>\n",
       "    .dataframe tbody tr th:only-of-type {\n",
       "        vertical-align: middle;\n",
       "    }\n",
       "\n",
       "    .dataframe tbody tr th {\n",
       "        vertical-align: top;\n",
       "    }\n",
       "\n",
       "    .dataframe thead th {\n",
       "        text-align: right;\n",
       "    }\n",
       "</style>\n",
       "<table border=\"1\" class=\"dataframe\">\n",
       "  <thead>\n",
       "    <tr style=\"text-align: right;\">\n",
       "      <th></th>\n",
       "      <th>artist_name</th>\n",
       "      <th>release_name</th>\n",
       "      <th>song_name</th>\n",
       "      <th>Idiom</th>\n",
       "    </tr>\n",
       "  </thead>\n",
       "  <tbody>\n",
       "    <tr>\n",
       "      <th>671</th>\n",
       "      <td>zevna  javi cheuke</td>\n",
       "      <td>jardin botanico</td>\n",
       "      <td></td>\n",
       "      <td>spanish</td>\n",
       "    </tr>\n",
       "    <tr>\n",
       "      <th>1316</th>\n",
       "      <td>cxcile</td>\n",
       "      <td></td>\n",
       "      <td></td>\n",
       "      <td>spanish</td>\n",
       "    </tr>\n",
       "    <tr>\n",
       "      <th>1998</th>\n",
       "      <td>oniricboii</td>\n",
       "      <td></td>\n",
       "      <td></td>\n",
       "      <td>spanish</td>\n",
       "    </tr>\n",
       "    <tr>\n",
       "      <th>2348</th>\n",
       "      <td>seven</td>\n",
       "      <td></td>\n",
       "      <td></td>\n",
       "      <td>spanish</td>\n",
       "    </tr>\n",
       "    <tr>\n",
       "      <th>2903</th>\n",
       "      <td>j boi</td>\n",
       "      <td></td>\n",
       "      <td></td>\n",
       "      <td>spanish</td>\n",
       "    </tr>\n",
       "    <tr>\n",
       "      <th>2921</th>\n",
       "      <td>jadix</td>\n",
       "      <td>tena</td>\n",
       "      <td></td>\n",
       "      <td>spanish</td>\n",
       "    </tr>\n",
       "    <tr>\n",
       "      <th>3205</th>\n",
       "      <td>walther pro</td>\n",
       "      <td>resonancia</td>\n",
       "      <td></td>\n",
       "      <td>spanish</td>\n",
       "    </tr>\n",
       "    <tr>\n",
       "      <th>4028</th>\n",
       "      <td>ruido julio</td>\n",
       "      <td></td>\n",
       "      <td></td>\n",
       "      <td>spanish</td>\n",
       "    </tr>\n",
       "    <tr>\n",
       "      <th>4036</th>\n",
       "      <td>zanmala</td>\n",
       "      <td></td>\n",
       "      <td></td>\n",
       "      <td>spanish</td>\n",
       "    </tr>\n",
       "    <tr>\n",
       "      <th>1908</th>\n",
       "      <td>tchad</td>\n",
       "      <td>ivory waali irony</td>\n",
       "      <td></td>\n",
       "      <td>hindi</td>\n",
       "    </tr>\n",
       "  </tbody>\n",
       "</table>\n",
       "</div>"
      ],
      "text/plain": [
       "             artist_name       release_name song_name    Idiom\n",
       "671   zevna  javi cheuke   jardin botanico             spanish\n",
       "1316              cxcile                               spanish\n",
       "1998          oniricboii                               spanish\n",
       "2348               seven                               spanish\n",
       "2903               j boi                               spanish\n",
       "2921               jadix               tena            spanish\n",
       "3205         walther pro         resonancia            spanish\n",
       "4028         ruido julio                               spanish\n",
       "4036             zanmala                               spanish\n",
       "1908               tchad  ivory waali irony              hindi"
      ]
     },
     "execution_count": 31,
     "metadata": {},
     "output_type": "execute_result"
    }
   ],
   "source": [
    "# Remove the rows where we got empty values after the pre-processing and couldn't be removed by .dropna()\n",
    "df[(df.song_name == '')]"
   ]
  },
  {
   "cell_type": "code",
   "execution_count": 32,
   "metadata": {},
   "outputs": [],
   "source": [
    "df = df[(df.song_name != '') & (df.release_name != '') & (df.artist_name != '')]"
   ]
  },
  {
   "cell_type": "code",
   "execution_count": 33,
   "metadata": {},
   "outputs": [
    {
     "data": {
      "text/html": [
       "<div>\n",
       "<style scoped>\n",
       "    .dataframe tbody tr th:only-of-type {\n",
       "        vertical-align: middle;\n",
       "    }\n",
       "\n",
       "    .dataframe tbody tr th {\n",
       "        vertical-align: top;\n",
       "    }\n",
       "\n",
       "    .dataframe thead th {\n",
       "        text-align: right;\n",
       "    }\n",
       "</style>\n",
       "<table border=\"1\" class=\"dataframe\">\n",
       "  <thead>\n",
       "    <tr style=\"text-align: right;\">\n",
       "      <th></th>\n",
       "      <th>artist_name</th>\n",
       "      <th>release_name</th>\n",
       "      <th>song_name</th>\n",
       "      <th>Idiom</th>\n",
       "    </tr>\n",
       "  </thead>\n",
       "  <tbody>\n",
       "    <tr>\n",
       "      <th>4801</th>\n",
       "      <td>various</td>\n",
       "      <td>cumbias sonideras</td>\n",
       "      <td>cumbia callejera</td>\n",
       "      <td>spanish</td>\n",
       "    </tr>\n",
       "    <tr>\n",
       "      <th>1089</th>\n",
       "      <td>bad bunny x jhay cortez</td>\n",
       "      <td>dakiti</td>\n",
       "      <td>bad bunny x jhay cortez  dakiti alberto morecalde</td>\n",
       "      <td>spanish</td>\n",
       "    </tr>\n",
       "    <tr>\n",
       "      <th>4698</th>\n",
       "      <td>ace</td>\n",
       "      <td>riha</td>\n",
       "      <td>aud  wa</td>\n",
       "      <td>hindi</td>\n",
       "    </tr>\n",
       "    <tr>\n",
       "      <th>65</th>\n",
       "      <td>toy toy rana</td>\n",
       "      <td>kisi ke bure waqt mein uska sath do</td>\n",
       "      <td>kisi ke bure waqt mein uska sath do</td>\n",
       "      <td>hindi</td>\n",
       "    </tr>\n",
       "    <tr>\n",
       "      <th>307</th>\n",
       "      <td>diksha chaubey</td>\n",
       "      <td>walking home</td>\n",
       "      <td>kho gaye hum kahan</td>\n",
       "      <td>hindi</td>\n",
       "    </tr>\n",
       "  </tbody>\n",
       "</table>\n",
       "</div>"
      ],
      "text/plain": [
       "                  artist_name                         release_name  \\\n",
       "4801                  various                    cumbias sonideras   \n",
       "1089  bad bunny x jhay cortez                              dakiti    \n",
       "4698                      ace                                 riha   \n",
       "65               toy toy rana  kisi ke bure waqt mein uska sath do   \n",
       "307            diksha chaubey                         walking home   \n",
       "\n",
       "                                              song_name    Idiom  \n",
       "4801                                   cumbia callejera  spanish  \n",
       "1089  bad bunny x jhay cortez  dakiti alberto morecalde  spanish  \n",
       "4698                                            aud  wa    hindi  \n",
       "65                  kisi ke bure waqt mein uska sath do    hindi  \n",
       "307                                  kho gaye hum kahan    hindi  "
      ]
     },
     "execution_count": 33,
     "metadata": {},
     "output_type": "execute_result"
    }
   ],
   "source": [
    "df.sample(5)"
   ]
  },
  {
   "cell_type": "markdown",
   "metadata": {},
   "source": [
    "> We could see that some albuns had the 'vol' in its end (indicating which volum it is). Since it's a generic word, it won't help to keep them in our dataset. Let's remove the word then.\n",
    " Now that we took the numbers out, lets see how many we have left"
   ]
  },
  {
   "cell_type": "code",
   "execution_count": 34,
   "metadata": {},
   "outputs": [
    {
     "name": "stdout",
     "output_type": "stream",
     "text": [
      "49\n",
      "49\n"
     ]
    }
   ],
   "source": [
    "print(df['release_name'].str.endswith('vol ').sum())\n",
    "print(df['release_name'].str.endswith('vol').sum())"
   ]
  },
  {
   "cell_type": "code",
   "execution_count": 35,
   "metadata": {},
   "outputs": [],
   "source": [
    "# Removing 'vol' and 'vol ' in the end of the albuns\n",
    "for i in range(0, len(df)):\n",
    "    if df.release_name.str.endswith('vol ').values[i]:\n",
    "        df.release_name.values[i] = df.release_name.values[i].replace('vol ', '')\n",
    "    elif df.release_name.str.endswith('vol').values[i]:\n",
    "        df.release_name.values[i] = df.release_name.values[i].replace('vol', '')"
   ]
  },
  {
   "cell_type": "code",
   "execution_count": 36,
   "metadata": {},
   "outputs": [
    {
     "name": "stdout",
     "output_type": "stream",
     "text": [
      "0\n",
      "0\n"
     ]
    }
   ],
   "source": [
    "# Checking if they were fully removed.\n",
    "print(df['release_name'].str.endswith('vol ').sum())\n",
    "print(df['release_name'].str.endswith('vol').sum())"
   ]
  },
  {
   "cell_type": "code",
   "execution_count": 37,
   "metadata": {},
   "outputs": [
    {
     "data": {
      "text/html": [
       "<div>\n",
       "<style scoped>\n",
       "    .dataframe tbody tr th:only-of-type {\n",
       "        vertical-align: middle;\n",
       "    }\n",
       "\n",
       "    .dataframe tbody tr th {\n",
       "        vertical-align: top;\n",
       "    }\n",
       "\n",
       "    .dataframe thead th {\n",
       "        text-align: right;\n",
       "    }\n",
       "</style>\n",
       "<table border=\"1\" class=\"dataframe\">\n",
       "  <thead>\n",
       "    <tr style=\"text-align: right;\">\n",
       "      <th></th>\n",
       "      <th>artist_name</th>\n",
       "      <th>release_name</th>\n",
       "      <th>song_name</th>\n",
       "      <th>Idiom</th>\n",
       "    </tr>\n",
       "  </thead>\n",
       "  <tbody>\n",
       "    <tr>\n",
       "      <th>4177</th>\n",
       "      <td>eliceboy</td>\n",
       "      <td>khoya tune mujhko</td>\n",
       "      <td>khoya tune mujhko</td>\n",
       "      <td>hindi</td>\n",
       "    </tr>\n",
       "    <tr>\n",
       "      <th>975</th>\n",
       "      <td>anurag bambori</td>\n",
       "      <td>malwa aadesh ho</td>\n",
       "      <td>malwa aadesh ho</td>\n",
       "      <td>hindi</td>\n",
       "    </tr>\n",
       "    <tr>\n",
       "      <th>2609</th>\n",
       "      <td>kiara</td>\n",
       "      <td>besharmi ki height slowed reverb</td>\n",
       "      <td>besharmi ki height slowed reverb</td>\n",
       "      <td>hindi</td>\n",
       "    </tr>\n",
       "    <tr>\n",
       "      <th>2378</th>\n",
       "      <td>nacho y los igualados</td>\n",
       "      <td>nacho y los igualados</td>\n",
       "      <td>vuela libre</td>\n",
       "      <td>spanish</td>\n",
       "    </tr>\n",
       "    <tr>\n",
       "      <th>196</th>\n",
       "      <td>ricardo j escajadillo</td>\n",
       "      <td>ricodillo</td>\n",
       "      <td>yendo pal norte</td>\n",
       "      <td>spanish</td>\n",
       "    </tr>\n",
       "  </tbody>\n",
       "</table>\n",
       "</div>"
      ],
      "text/plain": [
       "                artist_name                      release_name  \\\n",
       "4177               eliceboy                 khoya tune mujhko   \n",
       "975          anurag bambori                   malwa aadesh ho   \n",
       "2609                  kiara  besharmi ki height slowed reverb   \n",
       "2378  nacho y los igualados             nacho y los igualados   \n",
       "196   ricardo j escajadillo                         ricodillo   \n",
       "\n",
       "                             song_name    Idiom  \n",
       "4177                 khoya tune mujhko    hindi  \n",
       "975                    malwa aadesh ho    hindi  \n",
       "2609  besharmi ki height slowed reverb    hindi  \n",
       "2378                       vuela libre  spanish  \n",
       "196                    yendo pal norte  spanish  "
      ]
     },
     "execution_count": 37,
     "metadata": {},
     "output_type": "execute_result"
    }
   ],
   "source": [
    "df.sample(5)"
   ]
  },
  {
   "cell_type": "code",
   "execution_count": 38,
   "metadata": {},
   "outputs": [],
   "source": [
    "# Transformando a variável target 'Idiom' and 0 e 1 (\"0\" -> 'hindi ; \"1\" -> spanish)\n",
    "df['Idiom'] = np.where((df['Idiom']) == 'spanish', 1,0)"
   ]
  },
  {
   "cell_type": "code",
   "execution_count": 39,
   "metadata": {},
   "outputs": [
    {
     "data": {
      "text/plain": [
       "0    4875\n",
       "1    4873\n",
       "Name: Idiom, dtype: int64"
      ]
     },
     "execution_count": 39,
     "metadata": {},
     "output_type": "execute_result"
    }
   ],
   "source": [
    "df['Idiom'].value_counts()"
   ]
  },
  {
   "cell_type": "code",
   "execution_count": 40,
   "metadata": {},
   "outputs": [
    {
     "data": {
      "text/html": [
       "<div>\n",
       "<style scoped>\n",
       "    .dataframe tbody tr th:only-of-type {\n",
       "        vertical-align: middle;\n",
       "    }\n",
       "\n",
       "    .dataframe tbody tr th {\n",
       "        vertical-align: top;\n",
       "    }\n",
       "\n",
       "    .dataframe thead th {\n",
       "        text-align: right;\n",
       "    }\n",
       "</style>\n",
       "<table border=\"1\" class=\"dataframe\">\n",
       "  <thead>\n",
       "    <tr style=\"text-align: right;\">\n",
       "      <th></th>\n",
       "      <th>artist_name</th>\n",
       "      <th>release_name</th>\n",
       "      <th>song_name</th>\n",
       "      <th>Idiom</th>\n",
       "    </tr>\n",
       "  </thead>\n",
       "  <tbody>\n",
       "    <tr>\n",
       "      <th>3981</th>\n",
       "      <td>latan villegas avelino</td>\n",
       "      <td>quiero verte de nuevo</td>\n",
       "      <td>quiero verte de nuevo</td>\n",
       "      <td>1</td>\n",
       "    </tr>\n",
       "    <tr>\n",
       "      <th>1637</th>\n",
       "      <td>igor lavrov</td>\n",
       "      <td>miniaturas revividas de carlos figueredo</td>\n",
       "      <td>corriente</td>\n",
       "      <td>1</td>\n",
       "    </tr>\n",
       "    <tr>\n",
       "      <th>4468</th>\n",
       "      <td>ashna v raju</td>\n",
       "      <td>abhi to mile bepannah</td>\n",
       "      <td>bepanahh</td>\n",
       "      <td>0</td>\n",
       "    </tr>\n",
       "    <tr>\n",
       "      <th>4464</th>\n",
       "      <td>fakka dj</td>\n",
       "      <td>plato music</td>\n",
       "      <td>sonreir vol</td>\n",
       "      <td>1</td>\n",
       "    </tr>\n",
       "    <tr>\n",
       "      <th>2795</th>\n",
       "      <td>anand ghosh</td>\n",
       "      <td>my melodious journey</td>\n",
       "      <td>na tum jaano hum</td>\n",
       "      <td>0</td>\n",
       "    </tr>\n",
       "  </tbody>\n",
       "</table>\n",
       "</div>"
      ],
      "text/plain": [
       "                 artist_name                              release_name  \\\n",
       "3981  latan villegas avelino                     quiero verte de nuevo   \n",
       "1637             igor lavrov  miniaturas revividas de carlos figueredo   \n",
       "4468            ashna v raju                    abhi to mile bepannah    \n",
       "4464                fakka dj                               plato music   \n",
       "2795             anand ghosh                      my melodious journey   \n",
       "\n",
       "                  song_name  Idiom  \n",
       "3981  quiero verte de nuevo      1  \n",
       "1637              corriente      1  \n",
       "4468               bepanahh      0  \n",
       "4464           sonreir vol       1  \n",
       "2795       na tum jaano hum      0  "
      ]
     },
     "execution_count": 40,
     "metadata": {},
     "output_type": "execute_result"
    }
   ],
   "source": [
    "df.sample(5)"
   ]
  },
  {
   "cell_type": "markdown",
   "metadata": {},
   "source": [
    "## Model Training"
   ]
  },
  {
   "cell_type": "markdown",
   "metadata": {},
   "source": [
    "### Train and Test Dataset"
   ]
  },
  {
   "cell_type": "code",
   "execution_count": 41,
   "metadata": {},
   "outputs": [],
   "source": [
    "x = (df.drop(['Idiom'], axis = 1)) # predictors\n",
    "y = (df['Idiom']) # target"
   ]
  },
  {
   "cell_type": "code",
   "execution_count": 42,
   "metadata": {},
   "outputs": [
    {
     "data": {
      "text/plain": [
       "pandas.core.frame.DataFrame"
      ]
     },
     "execution_count": 42,
     "metadata": {},
     "output_type": "execute_result"
    }
   ],
   "source": [
    "type(x)"
   ]
  },
  {
   "cell_type": "code",
   "execution_count": 43,
   "metadata": {},
   "outputs": [],
   "source": [
    "cv = CountVectorizer()\n",
    "ct = make_column_transformer((cv,'artist_name'),(cv,'song_name'),(cv,'release_name'))\n",
    "X = ct.fit_transform(x)"
   ]
  },
  {
   "cell_type": "code",
   "execution_count": 44,
   "metadata": {},
   "outputs": [],
   "source": [
    "# Separating them into train/test\n",
    "X_train, X_test, y_train, y_test = train_test_split(X, y, test_size = 0.33)"
   ]
  },
  {
   "cell_type": "code",
   "execution_count": 45,
   "metadata": {},
   "outputs": [
    {
     "name": "stderr",
     "output_type": "stream",
     "text": [
      "c:\\Users\\rafajovelho\\anaconda3\\lib\\site-packages\\seaborn\\_decorators.py:36: FutureWarning: Pass the following variable as a keyword arg: x. From version 0.12, the only valid positional argument will be `data`, and passing other arguments without an explicit keyword will result in an error or misinterpretation.\n",
      "  warnings.warn(\n"
     ]
    },
    {
     "data": {
      "image/png": "[encoded data removed]",
      "text/plain": [
       "<Figure size 576x432 with 1 Axes>"
      ]
     },
     "metadata": {
      "needs_background": "light"
     },
     "output_type": "display_data"
    }
   ],
   "source": [
    "# Verifying if the variable is balanced\n",
    "plt.figure(figsize = (8,6))\n",
    "\n",
    "ax = sns.countplot(y_train)"
   ]
  },
  {
   "cell_type": "code",
   "execution_count": 46,
   "metadata": {},
   "outputs": [
    {
     "data": {
      "text/plain": [
       "MultinomialNB()"
      ]
     },
     "execution_count": 46,
     "metadata": {},
     "output_type": "execute_result"
    }
   ],
   "source": [
    "model = MultinomialNB()\n",
    "model.fit(X_train, y_train)"
   ]
  },
  {
   "cell_type": "markdown",
   "metadata": {},
   "source": [
    "## Score"
   ]
  },
  {
   "cell_type": "code",
   "execution_count": 47,
   "metadata": {},
   "outputs": [
    {
     "name": "stdout",
     "output_type": "stream",
     "text": [
      "0.9564811936586882\n"
     ]
    }
   ],
   "source": [
    "score = model.score(X_test, y_test)\n",
    "print(score)"
   ]
  },
  {
   "cell_type": "code",
   "execution_count": 48,
   "metadata": {},
   "outputs": [
    {
     "name": "stdout",
     "output_type": "stream",
     "text": [
      "[[1509   78]\n",
      " [  62 1568]]\n"
     ]
    }
   ],
   "source": [
    "# Confusion Matrix\n",
    "predictions = model.predict(X_test)\n",
    "print(metrics.confusion_matrix(y_test, predictions))"
   ]
  },
  {
   "cell_type": "code",
   "execution_count": 49,
   "metadata": {},
   "outputs": [
    {
     "name": "stdout",
     "output_type": "stream",
     "text": [
      "              precision    recall  f1-score   support\n",
      "\n",
      "           0       0.96      0.95      0.96      1587\n",
      "           1       0.95      0.96      0.96      1630\n",
      "\n",
      "    accuracy                           0.96      3217\n",
      "   macro avg       0.96      0.96      0.96      3217\n",
      "weighted avg       0.96      0.96      0.96      3217\n",
      "\n"
     ]
    }
   ],
   "source": [
    "# Precision\n",
    "print(metrics.classification_report(y_test, predictions))"
   ]
  },
  {
   "cell_type": "markdown",
   "metadata": {},
   "source": [
    "I'll be testing the same model, but now using only the \"song_name\" as predictor variable."
   ]
  },
  {
   "cell_type": "markdown",
   "metadata": {},
   "source": [
    "In the other 2 columns we have many values repeating (we have one album for more than 10 songs for example). So I guess it will be a more generic model if we use it with the song_name only"
   ]
  },
  {
   "cell_type": "markdown",
   "metadata": {},
   "source": [
    "### Train and Test Dataset"
   ]
  },
  {
   "cell_type": "code",
   "execution_count": 50,
   "metadata": {},
   "outputs": [],
   "source": [
    "x = np.array((df['song_name'])) # predictors\n",
    "y = np.array((df['Idiom'])) # target"
   ]
  },
  {
   "cell_type": "code",
   "execution_count": 51,
   "metadata": {},
   "outputs": [],
   "source": [
    "cv = CountVectorizer()\n",
    "X = cv.fit_transform(x)"
   ]
  },
  {
   "cell_type": "code",
   "execution_count": 52,
   "metadata": {},
   "outputs": [],
   "source": [
    "# Separating them into train/test\n",
    "X_train, X_test, y_train, y_test = train_test_split(X, y, test_size = 0.33)"
   ]
  },
  {
   "cell_type": "code",
   "execution_count": 53,
   "metadata": {},
   "outputs": [
    {
     "name": "stderr",
     "output_type": "stream",
     "text": [
      "c:\\Users\\rafajovelho\\anaconda3\\lib\\site-packages\\seaborn\\_decorators.py:36: FutureWarning: Pass the following variable as a keyword arg: x. From version 0.12, the only valid positional argument will be `data`, and passing other arguments without an explicit keyword will result in an error or misinterpretation.\n",
      "  warnings.warn(\n"
     ]
    },
    {
     "data": {
      "image/png": "[encoded data removed]",
      "text/plain": [
       "<Figure size 576x432 with 1 Axes>"
      ]
     },
     "metadata": {
      "needs_background": "light"
     },
     "output_type": "display_data"
    }
   ],
   "source": [
    "# Verifying if the variable is balanced\n",
    "plt.figure(figsize = (8,6))\n",
    "\n",
    "ax = sns.countplot(y_train)"
   ]
  },
  {
   "cell_type": "code",
   "execution_count": 54,
   "metadata": {},
   "outputs": [
    {
     "data": {
      "text/plain": [
       "MultinomialNB()"
      ]
     },
     "execution_count": 54,
     "metadata": {},
     "output_type": "execute_result"
    }
   ],
   "source": [
    "model1 = MultinomialNB()\n",
    "model1.fit(X_train, y_train)"
   ]
  },
  {
   "cell_type": "markdown",
   "metadata": {},
   "source": [
    "### Score"
   ]
  },
  {
   "cell_type": "code",
   "execution_count": 55,
   "metadata": {},
   "outputs": [
    {
     "name": "stdout",
     "output_type": "stream",
     "text": [
      "0.8874728007460366\n"
     ]
    }
   ],
   "source": [
    "score = model1.score(X_test, y_test)\n",
    "print(score)"
   ]
  },
  {
   "cell_type": "code",
   "execution_count": 56,
   "metadata": {},
   "outputs": [
    {
     "name": "stdout",
     "output_type": "stream",
     "text": [
      "[[1311  286]\n",
      " [  76 1544]]\n",
      "              precision    recall  f1-score   support\n",
      "\n",
      "           0       0.95      0.82      0.88      1597\n",
      "           1       0.84      0.95      0.90      1620\n",
      "\n",
      "    accuracy                           0.89      3217\n",
      "   macro avg       0.89      0.89      0.89      3217\n",
      "weighted avg       0.89      0.89      0.89      3217\n",
      "\n"
     ]
    }
   ],
   "source": [
    "predictions = model1.predict(X_test)\n",
    "print(metrics.confusion_matrix(y_test, predictions))\n",
    "print(metrics.classification_report(y_test, predictions))"
   ]
  },
  {
   "cell_type": "markdown",
   "metadata": {},
   "source": [
    "We got a worse result using only the 'song_name' variable. But it actually might be better for futures datasets, since for this one we have a lot of repeated values for albuns and artists name."
   ]
  },
  {
   "cell_type": "markdown",
   "metadata": {},
   "source": [
    "### KNN"
   ]
  },
  {
   "cell_type": "code",
   "execution_count": 57,
   "metadata": {},
   "outputs": [],
   "source": [
    "x = (df.drop(['Idiom'], axis = 1)) # predictors\n",
    "y = (df['Idiom']) # target"
   ]
  },
  {
   "cell_type": "code",
   "execution_count": 58,
   "metadata": {},
   "outputs": [],
   "source": [
    "cv = CountVectorizer()\n",
    "ct = make_column_transformer((cv,'artist_name'),(cv,'song_name'),(cv,'release_name'))\n",
    "X = ct.fit_transform(x)"
   ]
  },
  {
   "cell_type": "code",
   "execution_count": 59,
   "metadata": {},
   "outputs": [],
   "source": [
    "# Separating them into train/test\n",
    "X_train, X_test, y_train, y_test = train_test_split(X, y, test_size = 0.33)"
   ]
  },
  {
   "cell_type": "code",
   "execution_count": 60,
   "metadata": {},
   "outputs": [
    {
     "data": {
      "text/plain": [
       "KNeighborsClassifier()"
      ]
     },
     "execution_count": 60,
     "metadata": {},
     "output_type": "execute_result"
    }
   ],
   "source": [
    "model2 = KNeighborsClassifier()\n",
    "model2.fit(X_train, y_train)"
   ]
  },
  {
   "cell_type": "code",
   "execution_count": 61,
   "metadata": {},
   "outputs": [
    {
     "name": "stdout",
     "output_type": "stream",
     "text": [
      "0.8234379857009636\n"
     ]
    }
   ],
   "source": [
    "score = model2.score(X_test, y_test)\n",
    "print(score)"
   ]
  },
  {
   "cell_type": "code",
   "execution_count": 62,
   "metadata": {},
   "outputs": [
    {
     "name": "stdout",
     "output_type": "stream",
     "text": [
      "[[1090  523]\n",
      " [  45 1559]]\n",
      "              precision    recall  f1-score   support\n",
      "\n",
      "           0       0.96      0.68      0.79      1613\n",
      "           1       0.75      0.97      0.85      1604\n",
      "\n",
      "    accuracy                           0.82      3217\n",
      "   macro avg       0.85      0.82      0.82      3217\n",
      "weighted avg       0.85      0.82      0.82      3217\n",
      "\n"
     ]
    }
   ],
   "source": [
    "predictions = model2.predict(X_test)\n",
    "print(metrics.confusion_matrix(y_test, predictions))\n",
    "print(metrics.classification_report(y_test, predictions))"
   ]
  },
  {
   "cell_type": "markdown",
   "metadata": {},
   "source": [
    "Now using only song_name as predictor"
   ]
  },
  {
   "cell_type": "code",
   "execution_count": 63,
   "metadata": {},
   "outputs": [],
   "source": [
    "x = np.array((df['song_name'])) # predictors\n",
    "y = np.array((df['Idiom'])) # target"
   ]
  },
  {
   "cell_type": "code",
   "execution_count": 64,
   "metadata": {},
   "outputs": [],
   "source": [
    "cv = CountVectorizer()\n",
    "X = cv.fit_transform(x)"
   ]
  },
  {
   "cell_type": "code",
   "execution_count": 65,
   "metadata": {},
   "outputs": [],
   "source": [
    "# Separating them into train/test\n",
    "X_train, X_test, y_train, y_test = train_test_split(X, y, test_size = 0.33)"
   ]
  },
  {
   "cell_type": "code",
   "execution_count": 66,
   "metadata": {},
   "outputs": [
    {
     "data": {
      "text/plain": [
       "KNeighborsClassifier()"
      ]
     },
     "execution_count": 66,
     "metadata": {},
     "output_type": "execute_result"
    }
   ],
   "source": [
    "# Trainning model\n",
    "model3 = KNeighborsClassifier()\n",
    "model3.fit(X_train, y_train)"
   ]
  },
  {
   "cell_type": "code",
   "execution_count": 67,
   "metadata": {},
   "outputs": [
    {
     "name": "stdout",
     "output_type": "stream",
     "text": [
      "0.7556729872552067\n"
     ]
    }
   ],
   "source": [
    "# Score\n",
    "score = model3.score(X_test, y_test)\n",
    "print(score)"
   ]
  },
  {
   "cell_type": "code",
   "execution_count": 68,
   "metadata": {},
   "outputs": [
    {
     "name": "stdout",
     "output_type": "stream",
     "text": [
      "[[ 858  740]\n",
      " [  46 1573]]\n",
      "              precision    recall  f1-score   support\n",
      "\n",
      "           0       0.95      0.54      0.69      1598\n",
      "           1       0.68      0.97      0.80      1619\n",
      "\n",
      "    accuracy                           0.76      3217\n",
      "   macro avg       0.81      0.75      0.74      3217\n",
      "weighted avg       0.81      0.76      0.74      3217\n",
      "\n"
     ]
    }
   ],
   "source": [
    "predictions = model3.predict(X_test)\n",
    "print(metrics.confusion_matrix(y_test, predictions))\n",
    "print(metrics.classification_report(y_test, predictions))"
   ]
  }
 ],
 "metadata": {
  "kernelspec": {
   "display_name": "Python 3.9.12 ('base')",
   "language": "python",
   "name": "python3"
  },
  "language_info": {
   "codemirror_mode": {
    "name": "ipython",
    "version": 3
   },
   "file_extension": ".py",
   "mimetype": "text/x-python",
   "name": "python",
   "nbconvert_exporter": "python",
   "pygments_lexer": "ipython3",
   "version": "3.9.12"
  },
  "orig_nbformat": 4,
  "vscode": {
   "interpreter": {
    "hash": "789211c298edb5e664485b63a967a0f90e13561e856db0bcfe03f526a35fad28"
   }
  }
 },
 "nbformat": 4,
 "nbformat_minor": 2
}
