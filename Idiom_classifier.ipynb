{
 "cells": [
  {
   "cell_type": "markdown",
   "metadata": {},
   "source": [
    "Teste de ciência de dados Magroove\n",
    "=======================\n",
    "\n",
    "### Introdução\n",
    "O objetivo deste teste é acessar sua capacidade de usar a ciência de dados para resolver um problema da vida real. Como a natureza do problema é tão complexa, não esperamos que sua solução seja definitiva ou de alto desempenho - na verdade, não nos importamos com a precisão de seus resultados. O que realmente nos importa é o seu processo de pensamento ou a maneira como você lida com um problema, destila-o em algo solucionável por uma máquina e transforma tudo isso em código. Como você pode imaginar neste momento, este teste girará em torno de um problema de aprendizado de máquina - um de classificação para ser mais específico, então vamos ao que interessa.\n",
    "\n",
    "### O problema\n",
    "Ao enviar um álbum para plataformas de streaming digital (DPSs) como Spotify, Apple ou assim por diante, é importante que todos os metadados que acompanham esse álbum sejam precisos. Os metadados incluem informações básicas como o nome do álbum, o ano em que foi gravado, os artistas envolvidos nas faixas e muito mais. Neste exercício estamos particularmente interessados ​​em um elemento específico dos metadados - idioma.\n",
    "\n",
    "O idioma é uma parte importante dos metadados, pois ajuda os DPSs a recomendar um determinado álbum para ouvintes que entendem esse idioma e provavelmente o apreciarão. Por causa disso, os DSPs são bastante rigorosos com o idioma correto sendo atribuído ao receber um álbum.\n",
    "\n",
    "No entanto, ocorre com bastante frequência que nossos usuários preencham incorretamente o campo de idioma em nosso formulário ao enviar um álbum, o que posteriormente leva a conflitos entre o usuário em questão, nossa empresa e os DSPs. O objetivo deste teste então é trabalhar em uma solução para uma versão simplificada desse problema.\n",
    "\n",
    "Junto com esta descrição, você encontrará dois arquivos - dataset-hindi.csv e dataset-spanish.csv. Os nomes são bastante intuitivos, cada um contém metadados de álbuns que já distribuímos e que sabemos que seus metadados estão escritos em espanhol ou hindi. Cada CSV contém três colunas - artist_name, release_name e song_name. Embora os nomes sejam bastante intuitivos, deve-se atentar para o fato de que as colunas nome_do_artista e nome_do_lançamento tendem a ter entradas repetidas, pois o mesmo artista pode ter vários álbuns e um álbum pode ter várias músicas.\n",
    "\n",
    "**Seu objetivo é criar um modelo para classificar metadados futuros como escritos em espanhol ou hindi.**\n",
    "\n",
    "### As entregas\n",
    "Esperamos receber de você um único script python (run.py) e um arquivo de requisitos (requirements.txt) listando todas as dependências para executá-lo. Seu script deve ser escrito usando Python 3.xe deve gerar um modelo que possamos usar posteriormente para inferência em um ambiente semelhante à produção. Você pode usar qualquer pacote ou biblioteca que desejar, desde que não use nenhum modelo pré-treinado. Você também está proibido de usar APIs ou serviços de terceiros para inferência de idioma, como AWS Comprehend ou GCP Translation. Seu script único deve conter tudo, desde limpeza e pré-processamento de dados até treinamento e inferência de modelos.\n",
    "\n",
    "### Avaliação e considerações finais\n",
    "\n",
    "Novamente, mesmo que a precisão seja sempre uma boa métrica, nosso foco principal definitivamente não será o desempenho (estaríamos realizando uma competição Kaggle se fosse =) ). Nossa atenção estará na lógica que você usou para tentar resolver o problema e como ele foi traduzido em código. Portanto, não se preocupe se o seu modelo tiver um desempenho ruim no final - escolheríamos nove em cada dez vezes um desempenho ruim do modelo com uma abordagem inteligente e tentaremos resolver o problema em questão.\n",
    "\n",
    "E, finalmente, não hesite em entrar em contato se tiver alguma dúvida, dúvida ou simplesmente precisar de um pontapé inicial. Aqui na Magroove temos uma forte cultura de ajudar uns aos outros - então você pode definitivamente contar conosco - e prometemos que qualquer pedido de ajuda não afetará sua avaliação. No final, resolver problemas desafiadores é principalmente fazer as perguntas certas, então perguntas bem pensadas são mais do que bem-vindas. Então boa sorte com seu teste e nos mantenha informados!"
   ]
  },
  {
   "cell_type": "markdown",
   "metadata": {},
   "source": [
    "##  Visualização dos Dados"
   ]
  },
  {
   "cell_type": "code",
   "execution_count": 1,
   "metadata": {},
   "outputs": [],
   "source": [
    "import pandas as pd\n",
    "import numpy as np\n",
    "import unidecode\n",
    "import os\n",
    "import re\n",
    "import matplotlib.pyplot as plt\n",
    "import seaborn as sns\n",
    "from sklearn.compose import make_column_transformer\n",
    "from sklearn.feature_extraction.text import CountVectorizer # (converter as colunas em um array)\n",
    "from sklearn.model_selection import train_test_split\n",
    "from sklearn.naive_bayes import MultinomialNB"
   ]
  },
  {
   "cell_type": "code",
   "execution_count": 2,
   "metadata": {},
   "outputs": [],
   "source": [
    "# Importando os dados\n",
    "df_sp = pd.read_csv('dataset-spanish.csv', header = 0)\n",
    "df_hi = pd.read_csv('dataset-hindi.csv', header = 0)"
   ]
  },
  {
   "cell_type": "code",
   "execution_count": 3,
   "metadata": {},
   "outputs": [
    {
     "data": {
      "text/html": [
       "<div>\n",
       "<style scoped>\n",
       "    .dataframe tbody tr th:only-of-type {\n",
       "        vertical-align: middle;\n",
       "    }\n",
       "\n",
       "    .dataframe tbody tr th {\n",
       "        vertical-align: top;\n",
       "    }\n",
       "\n",
       "    .dataframe thead th {\n",
       "        text-align: right;\n",
       "    }\n",
       "</style>\n",
       "<table border=\"1\" class=\"dataframe\">\n",
       "  <thead>\n",
       "    <tr style=\"text-align: right;\">\n",
       "      <th></th>\n",
       "      <th>artist_name</th>\n",
       "      <th>release_name</th>\n",
       "      <th>song_name</th>\n",
       "    </tr>\n",
       "  </thead>\n",
       "  <tbody>\n",
       "    <tr>\n",
       "      <th>2624</th>\n",
       "      <td>Esteban Estevez</td>\n",
       "      <td>Senderos</td>\n",
       "      <td>Nena Nena</td>\n",
       "    </tr>\n",
       "    <tr>\n",
       "      <th>3813</th>\n",
       "      <td>LGL10</td>\n",
       "      <td>Mi Primera Vez</td>\n",
       "      <td>Feb 28, 04.58 Pm</td>\n",
       "    </tr>\n",
       "    <tr>\n",
       "      <th>1275</th>\n",
       "      <td>Asumandão</td>\n",
       "      <td>Andar Y Andar</td>\n",
       "      <td>Andar Y Andar</td>\n",
       "    </tr>\n",
       "    <tr>\n",
       "      <th>4376</th>\n",
       "      <td>Groovit</td>\n",
       "      <td>The Arrival</td>\n",
       "      <td>Su Brillante Razon</td>\n",
       "    </tr>\n",
       "    <tr>\n",
       "      <th>1151</th>\n",
       "      <td>Rocky Walrus</td>\n",
       "      <td>Green Light</td>\n",
       "      <td>Love</td>\n",
       "    </tr>\n",
       "  </tbody>\n",
       "</table>\n",
       "</div>"
      ],
      "text/plain": [
       "          artist_name    release_name           song_name\n",
       "2624  Esteban Estevez       Senderos            Nena Nena\n",
       "3813            LGL10  Mi Primera Vez    Feb 28, 04.58 Pm\n",
       "1275        Asumandão   Andar Y Andar       Andar Y Andar\n",
       "4376          Groovit    The Arrival   Su Brillante Razon\n",
       "1151     Rocky Walrus     Green Light               Love "
      ]
     },
     "execution_count": 3,
     "metadata": {},
     "output_type": "execute_result"
    }
   ],
   "source": [
    "# Visualização dos dados\n",
    "df_sp.sample(5)"
   ]
  },
  {
   "cell_type": "code",
   "execution_count": 4,
   "metadata": {},
   "outputs": [
    {
     "data": {
      "text/html": [
       "<div>\n",
       "<style scoped>\n",
       "    .dataframe tbody tr th:only-of-type {\n",
       "        vertical-align: middle;\n",
       "    }\n",
       "\n",
       "    .dataframe tbody tr th {\n",
       "        vertical-align: top;\n",
       "    }\n",
       "\n",
       "    .dataframe thead th {\n",
       "        text-align: right;\n",
       "    }\n",
       "</style>\n",
       "<table border=\"1\" class=\"dataframe\">\n",
       "  <thead>\n",
       "    <tr style=\"text-align: right;\">\n",
       "      <th></th>\n",
       "      <th>artist_name</th>\n",
       "      <th>release_name</th>\n",
       "      <th>song_name</th>\n",
       "    </tr>\n",
       "  </thead>\n",
       "  <tbody>\n",
       "    <tr>\n",
       "      <th>2774</th>\n",
       "      <td>WeWakeMusic</td>\n",
       "      <td>Bekhabar</td>\n",
       "      <td>Bekhabar</td>\n",
       "    </tr>\n",
       "    <tr>\n",
       "      <th>830</th>\n",
       "      <td>Sawriz</td>\n",
       "      <td>Gangsta Shit</td>\n",
       "      <td>Gangsta Shit</td>\n",
       "    </tr>\n",
       "    <tr>\n",
       "      <th>4756</th>\n",
       "      <td>Shiny Happy People</td>\n",
       "      <td>Aao Blog Lagao Radhe Mohan</td>\n",
       "      <td>(Online Audio converter.com)</td>\n",
       "    </tr>\n",
       "    <tr>\n",
       "      <th>1633</th>\n",
       "      <td>Devansu Rathva</td>\n",
       "      <td>Hasi Wadiya Mix</td>\n",
       "      <td>Hasi Wadiya Mix</td>\n",
       "    </tr>\n",
       "    <tr>\n",
       "      <th>4711</th>\n",
       "      <td>BHOLE KA PRASAD By Jassi mahant 36</td>\n",
       "      <td>Bhole Ka Prasad by Jassi Mahant 36</td>\n",
       "      <td>Bhole Ka Prasad</td>\n",
       "    </tr>\n",
       "  </tbody>\n",
       "</table>\n",
       "</div>"
      ],
      "text/plain": [
       "                              artist_name  \\\n",
       "2774                          WeWakeMusic   \n",
       "830                                Sawriz   \n",
       "4756                   Shiny Happy People   \n",
       "1633                       Devansu Rathva   \n",
       "4711  BHOLE KA PRASAD By Jassi mahant 36    \n",
       "\n",
       "                             release_name                     song_name  \n",
       "2774                             Bekhabar                      Bekhabar  \n",
       "830                          Gangsta Shit                  Gangsta Shit  \n",
       "4756           Aao Blog Lagao Radhe Mohan  (Online Audio converter.com)  \n",
       "1633                     Hasi Wadiya Mix                Hasi Wadiya Mix  \n",
       "4711  Bhole Ka Prasad by Jassi Mahant 36                Bhole Ka Prasad  "
      ]
     },
     "execution_count": 4,
     "metadata": {},
     "output_type": "execute_result"
    }
   ],
   "source": [
    "# Visualização dos dados\n",
    "df_hi.sample(5)"
   ]
  },
  {
   "cell_type": "code",
   "execution_count": 5,
   "metadata": {},
   "outputs": [
    {
     "name": "stdout",
     "output_type": "stream",
     "text": [
      "Spanish dataset length: 5000 \n",
      "Hindi dataset lenght: 5000\n"
     ]
    }
   ],
   "source": [
    "# Checking the dataset lenght\n",
    "print(f'Spanish dataset length: {len(df_sp)} \\nHindi dataset lenght: {len(df_hi)}')"
   ]
  },
  {
   "cell_type": "code",
   "execution_count": 6,
   "metadata": {},
   "outputs": [
    {
     "data": {
      "text/html": [
       "<div>\n",
       "<style scoped>\n",
       "    .dataframe tbody tr th:only-of-type {\n",
       "        vertical-align: middle;\n",
       "    }\n",
       "\n",
       "    .dataframe tbody tr th {\n",
       "        vertical-align: top;\n",
       "    }\n",
       "\n",
       "    .dataframe thead th {\n",
       "        text-align: right;\n",
       "    }\n",
       "</style>\n",
       "<table border=\"1\" class=\"dataframe\">\n",
       "  <thead>\n",
       "    <tr style=\"text-align: right;\">\n",
       "      <th></th>\n",
       "      <th>artist_name</th>\n",
       "      <th>release_name</th>\n",
       "      <th>song_name</th>\n",
       "    </tr>\n",
       "  </thead>\n",
       "  <tbody>\n",
       "    <tr>\n",
       "      <th>count</th>\n",
       "      <td>5000</td>\n",
       "      <td>4999</td>\n",
       "      <td>4999</td>\n",
       "    </tr>\n",
       "    <tr>\n",
       "      <th>unique</th>\n",
       "      <td>1415</td>\n",
       "      <td>1870</td>\n",
       "      <td>4702</td>\n",
       "    </tr>\n",
       "    <tr>\n",
       "      <th>top</th>\n",
       "      <td>Various</td>\n",
       "      <td>Cumbias Sonideras</td>\n",
       "      <td>Title Error</td>\n",
       "    </tr>\n",
       "    <tr>\n",
       "      <th>freq</th>\n",
       "      <td>134</td>\n",
       "      <td>134</td>\n",
       "      <td>24</td>\n",
       "    </tr>\n",
       "  </tbody>\n",
       "</table>\n",
       "</div>"
      ],
      "text/plain": [
       "       artist_name       release_name    song_name\n",
       "count         5000               4999         4999\n",
       "unique        1415               1870         4702\n",
       "top        Various  Cumbias Sonideras  Title Error\n",
       "freq           134                134           24"
      ]
     },
     "execution_count": 6,
     "metadata": {},
     "output_type": "execute_result"
    }
   ],
   "source": [
    "# Describe dos dados\n",
    "df_sp.describe()\n"
   ]
  },
  {
   "cell_type": "code",
   "execution_count": 7,
   "metadata": {},
   "outputs": [
    {
     "data": {
      "text/html": [
       "<div>\n",
       "<style scoped>\n",
       "    .dataframe tbody tr th:only-of-type {\n",
       "        vertical-align: middle;\n",
       "    }\n",
       "\n",
       "    .dataframe tbody tr th {\n",
       "        vertical-align: top;\n",
       "    }\n",
       "\n",
       "    .dataframe thead th {\n",
       "        text-align: right;\n",
       "    }\n",
       "</style>\n",
       "<table border=\"1\" class=\"dataframe\">\n",
       "  <thead>\n",
       "    <tr style=\"text-align: right;\">\n",
       "      <th></th>\n",
       "      <th>artist_name</th>\n",
       "      <th>release_name</th>\n",
       "      <th>song_name</th>\n",
       "    </tr>\n",
       "  </thead>\n",
       "  <tbody>\n",
       "    <tr>\n",
       "      <th>count</th>\n",
       "      <td>5000</td>\n",
       "      <td>5000</td>\n",
       "      <td>4997</td>\n",
       "    </tr>\n",
       "    <tr>\n",
       "      <th>unique</th>\n",
       "      <td>2436</td>\n",
       "      <td>4034</td>\n",
       "      <td>4616</td>\n",
       "    </tr>\n",
       "    <tr>\n",
       "      <th>top</th>\n",
       "      <td>Visual Chinmay</td>\n",
       "      <td>Vibeee:)</td>\n",
       "      <td>Title Error</td>\n",
       "    </tr>\n",
       "    <tr>\n",
       "      <th>freq</th>\n",
       "      <td>134</td>\n",
       "      <td>59</td>\n",
       "      <td>33</td>\n",
       "    </tr>\n",
       "  </tbody>\n",
       "</table>\n",
       "</div>"
      ],
      "text/plain": [
       "           artist_name release_name    song_name\n",
       "count             5000         5000         4997\n",
       "unique            2436         4034         4616\n",
       "top     Visual Chinmay     Vibeee:)  Title Error\n",
       "freq               134           59           33"
      ]
     },
     "execution_count": 7,
     "metadata": {},
     "output_type": "execute_result"
    }
   ],
   "source": [
    "df_hi.describe()"
   ]
  },
  {
   "cell_type": "markdown",
   "metadata": {},
   "source": [
    "## Data Cleaning"
   ]
  },
  {
   "cell_type": "markdown",
   "metadata": {},
   "source": [
    "> Before starting the data cleaning process, I'll add the column Idiom in the datasets so I can already concatenate them to make the cleaning only for one dataset"
   ]
  },
  {
   "cell_type": "code",
   "execution_count": 8,
   "metadata": {},
   "outputs": [],
   "source": [
    "# Adding a 'Idiom' column\n",
    "df_sp['Idiom'] = 'Spanish'\n",
    "df_hi['Idiom'] = 'Hindi'"
   ]
  },
  {
   "cell_type": "code",
   "execution_count": 9,
   "metadata": {},
   "outputs": [
    {
     "data": {
      "text/plain": [
       "10000"
      ]
     },
     "execution_count": 9,
     "metadata": {},
     "output_type": "execute_result"
    }
   ],
   "source": [
    "# Concatenating the datasets\n",
    "df = pd.concat([df_sp, df_hi])\n",
    "len(df)"
   ]
  },
  {
   "cell_type": "code",
   "execution_count": 10,
   "metadata": {},
   "outputs": [],
   "source": [
    "# Dropping duplicated rows\n",
    "df.drop_duplicates(inplace= True)"
   ]
  },
  {
   "cell_type": "code",
   "execution_count": 11,
   "metadata": {},
   "outputs": [
    {
     "data": {
      "text/plain": [
       "artist_name     0\n",
       "release_name    1\n",
       "song_name       4\n",
       "Idiom           0\n",
       "dtype: int64"
      ]
     },
     "execution_count": 11,
     "metadata": {},
     "output_type": "execute_result"
    }
   ],
   "source": [
    "# Checkin missing values\n",
    "df.isna().sum()"
   ]
  },
  {
   "cell_type": "code",
   "execution_count": 12,
   "metadata": {},
   "outputs": [],
   "source": [
    "# Dropping the rows with missing values\n",
    "df.dropna(inplace=True)"
   ]
  },
  {
   "cell_type": "code",
   "execution_count": 13,
   "metadata": {},
   "outputs": [
    {
     "name": "stdout",
     "output_type": "stream",
     "text": [
      "Spanish dataset length: 4935 \n",
      "Hindi dataset lenght: 4906\n"
     ]
    }
   ],
   "source": [
    "# Checking dataset lenght after dropping the duplications for the spanish and the hindi (so we can see if it's still balanced)\n",
    "print(f\"Spanish dataset length: {len(df[(df.Idiom == 'Spanish')])} \\nHindi dataset lenght: {len(df[(df.Idiom == 'Hindi')])}\")"
   ]
  },
  {
   "cell_type": "code",
   "execution_count": 14,
   "metadata": {},
   "outputs": [
    {
     "data": {
      "text/html": [
       "<div>\n",
       "<style scoped>\n",
       "    .dataframe tbody tr th:only-of-type {\n",
       "        vertical-align: middle;\n",
       "    }\n",
       "\n",
       "    .dataframe tbody tr th {\n",
       "        vertical-align: top;\n",
       "    }\n",
       "\n",
       "    .dataframe thead th {\n",
       "        text-align: right;\n",
       "    }\n",
       "</style>\n",
       "<table border=\"1\" class=\"dataframe\">\n",
       "  <thead>\n",
       "    <tr style=\"text-align: right;\">\n",
       "      <th></th>\n",
       "      <th>artist_name</th>\n",
       "      <th>release_name</th>\n",
       "      <th>song_name</th>\n",
       "      <th>Idiom</th>\n",
       "    </tr>\n",
       "  </thead>\n",
       "  <tbody>\n",
       "    <tr>\n",
       "      <th>count</th>\n",
       "      <td>9841</td>\n",
       "      <td>9841</td>\n",
       "      <td>9841</td>\n",
       "      <td>9841</td>\n",
       "    </tr>\n",
       "    <tr>\n",
       "      <th>unique</th>\n",
       "      <td>3843</td>\n",
       "      <td>5891</td>\n",
       "      <td>9299</td>\n",
       "      <td>2</td>\n",
       "    </tr>\n",
       "    <tr>\n",
       "      <th>top</th>\n",
       "      <td>Various</td>\n",
       "      <td>Cumbias Sonideras</td>\n",
       "      <td>Title Error</td>\n",
       "      <td>Spanish</td>\n",
       "    </tr>\n",
       "    <tr>\n",
       "      <th>freq</th>\n",
       "      <td>134</td>\n",
       "      <td>134</td>\n",
       "      <td>31</td>\n",
       "      <td>4935</td>\n",
       "    </tr>\n",
       "  </tbody>\n",
       "</table>\n",
       "</div>"
      ],
      "text/plain": [
       "       artist_name       release_name    song_name    Idiom\n",
       "count         9841               9841         9841     9841\n",
       "unique        3843               5891         9299        2\n",
       "top        Various  Cumbias Sonideras  Title Error  Spanish\n",
       "freq           134                134           31     4935"
      ]
     },
     "execution_count": 14,
     "metadata": {},
     "output_type": "execute_result"
    }
   ],
   "source": [
    "df.describe()"
   ]
  },
  {
   "cell_type": "code",
   "execution_count": 15,
   "metadata": {},
   "outputs": [
    {
     "data": {
      "text/plain": [
       "Title Error              31\n",
       "Intro                     9\n",
       "TITLE_ERROR               7\n",
       "Contigo                   6\n",
       "Ranjha                    5\n",
       "                         ..\n",
       "Me Llevo a Las Gyales     1\n",
       "Yuca                      1\n",
       "Cash Out                  1\n",
       "Lunes Rahib               1\n",
       "The Devue                 1\n",
       "Name: song_name, Length: 9299, dtype: int64"
      ]
     },
     "execution_count": 15,
     "metadata": {},
     "output_type": "execute_result"
    }
   ],
   "source": [
    "# Taking a deep look into the variables to clean it properly\n",
    "df['song_name'].value_counts()"
   ]
  },
  {
   "cell_type": "code",
   "execution_count": 16,
   "metadata": {},
   "outputs": [],
   "source": [
    "# I'll remove the rows with Title Error (and TITLE_ERROR) and also the Intro songs, since it doesn't mean much about the idiom of the song (which is what we are looking for in this project)\n",
    "df = df[(df.song_name != 'Title Error') & (df.song_name != 'TITLE_ERROR') & (df.song_name.str.startswith('Intro') == False)]"
   ]
  },
  {
   "cell_type": "code",
   "execution_count": 17,
   "metadata": {},
   "outputs": [
    {
     "data": {
      "text/html": [
       "<div>\n",
       "<style scoped>\n",
       "    .dataframe tbody tr th:only-of-type {\n",
       "        vertical-align: middle;\n",
       "    }\n",
       "\n",
       "    .dataframe tbody tr th {\n",
       "        vertical-align: top;\n",
       "    }\n",
       "\n",
       "    .dataframe thead th {\n",
       "        text-align: right;\n",
       "    }\n",
       "</style>\n",
       "<table border=\"1\" class=\"dataframe\">\n",
       "  <thead>\n",
       "    <tr style=\"text-align: right;\">\n",
       "      <th></th>\n",
       "      <th>artist_name</th>\n",
       "      <th>release_name</th>\n",
       "      <th>song_name</th>\n",
       "      <th>Idiom</th>\n",
       "    </tr>\n",
       "  </thead>\n",
       "  <tbody>\n",
       "    <tr>\n",
       "      <th>count</th>\n",
       "      <td>9781</td>\n",
       "      <td>9781</td>\n",
       "      <td>9781</td>\n",
       "      <td>9781</td>\n",
       "    </tr>\n",
       "    <tr>\n",
       "      <th>unique</th>\n",
       "      <td>3822</td>\n",
       "      <td>5864</td>\n",
       "      <td>9283</td>\n",
       "      <td>2</td>\n",
       "    </tr>\n",
       "    <tr>\n",
       "      <th>top</th>\n",
       "      <td>Various</td>\n",
       "      <td>Cumbias Sonideras</td>\n",
       "      <td>Contigo</td>\n",
       "      <td>Spanish</td>\n",
       "    </tr>\n",
       "    <tr>\n",
       "      <th>freq</th>\n",
       "      <td>134</td>\n",
       "      <td>134</td>\n",
       "      <td>6</td>\n",
       "      <td>4903</td>\n",
       "    </tr>\n",
       "  </tbody>\n",
       "</table>\n",
       "</div>"
      ],
      "text/plain": [
       "       artist_name       release_name song_name    Idiom\n",
       "count         9781               9781      9781     9781\n",
       "unique        3822               5864      9283        2\n",
       "top        Various  Cumbias Sonideras   Contigo  Spanish\n",
       "freq           134                134         6     4903"
      ]
     },
     "execution_count": 17,
     "metadata": {},
     "output_type": "execute_result"
    }
   ],
   "source": [
    "df.describe()"
   ]
  },
  {
   "cell_type": "code",
   "execution_count": 18,
   "metadata": {},
   "outputs": [],
   "source": [
    "# Removing possible double whitespace in the text\n",
    "for i in range(0,len(df.columns)):\n",
    "    for j in range(0, len(df)):\n",
    "        df[(df.columns.values[i])].values[j] = re.sub(r'\\s+', ' ', df[(df.columns.values[i])].values[j])"
   ]
  },
  {
   "cell_type": "code",
   "execution_count": 19,
   "metadata": {},
   "outputs": [
    {
     "data": {
      "text/html": [
       "<div>\n",
       "<style scoped>\n",
       "    .dataframe tbody tr th:only-of-type {\n",
       "        vertical-align: middle;\n",
       "    }\n",
       "\n",
       "    .dataframe tbody tr th {\n",
       "        vertical-align: top;\n",
       "    }\n",
       "\n",
       "    .dataframe thead th {\n",
       "        text-align: right;\n",
       "    }\n",
       "</style>\n",
       "<table border=\"1\" class=\"dataframe\">\n",
       "  <thead>\n",
       "    <tr style=\"text-align: right;\">\n",
       "      <th></th>\n",
       "      <th>artist_name</th>\n",
       "      <th>release_name</th>\n",
       "      <th>song_name</th>\n",
       "      <th>Idiom</th>\n",
       "    </tr>\n",
       "  </thead>\n",
       "  <tbody>\n",
       "    <tr>\n",
       "      <th>1025</th>\n",
       "      <td>La Caja Negra Produce</td>\n",
       "      <td>Recopilacion</td>\n",
       "      <td>En Mi Nave</td>\n",
       "      <td>Spanish</td>\n",
       "    </tr>\n",
       "    <tr>\n",
       "      <th>937</th>\n",
       "      <td>Young Vega</td>\n",
       "      <td>Pa Que Tiras?</td>\n",
       "      <td>Pa Que Tiras?</td>\n",
       "      <td>Spanish</td>\n",
       "    </tr>\n",
       "    <tr>\n",
       "      <th>653</th>\n",
       "      <td>Visual Chinmay</td>\n",
       "      <td>Brown Munde X Bajre Da Sitta X Competition X B...</td>\n",
       "      <td>Brown Munde X Bajre Da Sitta X Boro Boro Mashup</td>\n",
       "      <td>Hindi</td>\n",
       "    </tr>\n",
       "    <tr>\n",
       "      <th>4380</th>\n",
       "      <td>Dj Victor Hugo Carrillo Melendez</td>\n",
       "      <td>Somos Del Barrio</td>\n",
       "      <td>Somos Del Barrio</td>\n",
       "      <td>Spanish</td>\n",
       "    </tr>\n",
       "    <tr>\n",
       "      <th>4516</th>\n",
       "      <td>Rosario Vallejos Angulo (Rossy Vallejos)</td>\n",
       "      <td>Tú Me Diste Valor</td>\n",
       "      <td>Digno De Loor</td>\n",
       "      <td>Spanish</td>\n",
       "    </tr>\n",
       "  </tbody>\n",
       "</table>\n",
       "</div>"
      ],
      "text/plain": [
       "                                   artist_name  \\\n",
       "1025                     La Caja Negra Produce   \n",
       "937                                 Young Vega   \n",
       "653                             Visual Chinmay   \n",
       "4380         Dj Victor Hugo Carrillo Melendez    \n",
       "4516  Rosario Vallejos Angulo (Rossy Vallejos)   \n",
       "\n",
       "                                           release_name  \\\n",
       "1025                                       Recopilacion   \n",
       "937                                      Pa Que Tiras?    \n",
       "653   Brown Munde X Bajre Da Sitta X Competition X B...   \n",
       "4380                                  Somos Del Barrio    \n",
       "4516                                 Tú Me Diste Valor    \n",
       "\n",
       "                                            song_name    Idiom  \n",
       "1025                                       En Mi Nave  Spanish  \n",
       "937                                     Pa Que Tiras?  Spanish  \n",
       "653   Brown Munde X Bajre Da Sitta X Boro Boro Mashup    Hindi  \n",
       "4380                                Somos Del Barrio   Spanish  \n",
       "4516                                    Digno De Loor  Spanish  "
      ]
     },
     "execution_count": 19,
     "metadata": {},
     "output_type": "execute_result"
    }
   ],
   "source": [
    "df.sample(5)"
   ]
  },
  {
   "cell_type": "markdown",
   "metadata": {},
   "source": [
    "> O que fazer com os registro que possuem grande quantidade de valores repetidos como em 'release_name' e 'artist_name' ???"
   ]
  },
  {
   "cell_type": "markdown",
   "metadata": {},
   "source": [
    "## Pré-Processing"
   ]
  },
  {
   "cell_type": "markdown",
   "metadata": {},
   "source": [
    "> Fisrt of all, in my understanding the artist_name usually is not related to the Idiom, since names are names, and we also have a lot of 'fake' name for artists, that many times don't make sense, or is even in another language"
   ]
  },
  {
   "cell_type": "code",
   "execution_count": 20,
   "metadata": {},
   "outputs": [],
   "source": [
    "# # Dropping the artist_name column\n",
    "# df.drop('artist_name', axis = 1, inplace = True)"
   ]
  },
  {
   "cell_type": "markdown",
   "metadata": {},
   "source": [
    "### Removing accented characters"
   ]
  },
  {
   "cell_type": "code",
   "execution_count": 21,
   "metadata": {},
   "outputs": [],
   "source": [
    "# Removing accented characters\n",
    "for i in range(0,len(df.columns)):\n",
    "    for j in range(0, len(df)):\n",
    "        df[(df.columns.values[i])].values[j] = unidecode.unidecode(df[(df.columns.values[i])].values[j])"
   ]
  },
  {
   "cell_type": "code",
   "execution_count": 22,
   "metadata": {},
   "outputs": [
    {
     "data": {
      "text/html": [
       "<div>\n",
       "<style scoped>\n",
       "    .dataframe tbody tr th:only-of-type {\n",
       "        vertical-align: middle;\n",
       "    }\n",
       "\n",
       "    .dataframe tbody tr th {\n",
       "        vertical-align: top;\n",
       "    }\n",
       "\n",
       "    .dataframe thead th {\n",
       "        text-align: right;\n",
       "    }\n",
       "</style>\n",
       "<table border=\"1\" class=\"dataframe\">\n",
       "  <thead>\n",
       "    <tr style=\"text-align: right;\">\n",
       "      <th></th>\n",
       "      <th>artist_name</th>\n",
       "      <th>release_name</th>\n",
       "      <th>song_name</th>\n",
       "      <th>Idiom</th>\n",
       "    </tr>\n",
       "  </thead>\n",
       "  <tbody>\n",
       "    <tr>\n",
       "      <th>1836</th>\n",
       "      <td>The S.L King</td>\n",
       "      <td>Cypher(Jymc,Lilbe,RgKlan)</td>\n",
       "      <td>Cypher</td>\n",
       "      <td>Spanish</td>\n",
       "    </tr>\n",
       "    <tr>\n",
       "      <th>847</th>\n",
       "      <td>Soyab Khan Barota</td>\n",
       "      <td>Soyab Khan Barota</td>\n",
       "      <td>Soyab Khan Barota</td>\n",
       "      <td>Hindi</td>\n",
       "    </tr>\n",
       "    <tr>\n",
       "      <th>4762</th>\n",
       "      <td>Various</td>\n",
       "      <td>Cumbias Sonideras</td>\n",
       "      <td>Gritaria</td>\n",
       "      <td>Spanish</td>\n",
       "    </tr>\n",
       "    <tr>\n",
       "      <th>3359</th>\n",
       "      <td>Rubiel soto el cantante del amor</td>\n",
       "      <td>Rubiel Soto El Cantante Del Amor</td>\n",
       "      <td>Un Novio Como Yo</td>\n",
       "      <td>Spanish</td>\n",
       "    </tr>\n",
       "    <tr>\n",
       "      <th>2757</th>\n",
       "      <td>Veinticuatrosiete</td>\n",
       "      <td>JAMAS VENCIDOS (todo el pinche guato)</td>\n",
       "      <td>Avanzar</td>\n",
       "      <td>Spanish</td>\n",
       "    </tr>\n",
       "  </tbody>\n",
       "</table>\n",
       "</div>"
      ],
      "text/plain": [
       "                           artist_name                           release_name  \\\n",
       "1836                      The S.L King              Cypher(Jymc,Lilbe,RgKlan)   \n",
       "847                  Soyab Khan Barota                      Soyab Khan Barota   \n",
       "4762                           Various                      Cumbias Sonideras   \n",
       "3359  Rubiel soto el cantante del amor       Rubiel Soto El Cantante Del Amor   \n",
       "2757                 Veinticuatrosiete  JAMAS VENCIDOS (todo el pinche guato)   \n",
       "\n",
       "              song_name    Idiom  \n",
       "1836             Cypher  Spanish  \n",
       "847   Soyab Khan Barota    Hindi  \n",
       "4762           Gritaria  Spanish  \n",
       "3359   Un Novio Como Yo  Spanish  \n",
       "2757            Avanzar  Spanish  "
      ]
     },
     "execution_count": 22,
     "metadata": {},
     "output_type": "execute_result"
    }
   ],
   "source": [
    "df.sample(5)"
   ]
  },
  {
   "cell_type": "markdown",
   "metadata": {},
   "source": [
    "### Converting the dataset to lowercase"
   ]
  },
  {
   "cell_type": "code",
   "execution_count": 23,
   "metadata": {},
   "outputs": [],
   "source": [
    "# Converting the dataset to lowercase\n",
    "for i in range(0,len(df.columns)):\n",
    "    for j in range(0, len(df)):\n",
    "        df[(df.columns.values[i])].values[j] = (df[(df.columns.values[i])].values[j]).lower()"
   ]
  },
  {
   "cell_type": "code",
   "execution_count": 24,
   "metadata": {},
   "outputs": [
    {
     "data": {
      "text/html": [
       "<div>\n",
       "<style scoped>\n",
       "    .dataframe tbody tr th:only-of-type {\n",
       "        vertical-align: middle;\n",
       "    }\n",
       "\n",
       "    .dataframe tbody tr th {\n",
       "        vertical-align: top;\n",
       "    }\n",
       "\n",
       "    .dataframe thead th {\n",
       "        text-align: right;\n",
       "    }\n",
       "</style>\n",
       "<table border=\"1\" class=\"dataframe\">\n",
       "  <thead>\n",
       "    <tr style=\"text-align: right;\">\n",
       "      <th></th>\n",
       "      <th>artist_name</th>\n",
       "      <th>release_name</th>\n",
       "      <th>song_name</th>\n",
       "      <th>Idiom</th>\n",
       "    </tr>\n",
       "  </thead>\n",
       "  <tbody>\n",
       "    <tr>\n",
       "      <th>4734</th>\n",
       "      <td>lavish rajora</td>\n",
       "      <td>yaado ka karwa</td>\n",
       "      <td>yaado ka karwa</td>\n",
       "      <td>hindi</td>\n",
       "    </tr>\n",
       "    <tr>\n",
       "      <th>4710</th>\n",
       "      <td>jassi mahant 36</td>\n",
       "      <td>cg ka ladka</td>\n",
       "      <td>cg ka ladka</td>\n",
       "      <td>hindi</td>\n",
       "    </tr>\n",
       "    <tr>\n",
       "      <th>2928</th>\n",
       "      <td>dream yb</td>\n",
       "      <td>new me</td>\n",
       "      <td>pa' la vuelta</td>\n",
       "      <td>spanish</td>\n",
       "    </tr>\n",
       "    <tr>\n",
       "      <th>4534</th>\n",
       "      <td>z-jabetey</td>\n",
       "      <td>rko-music.</td>\n",
       "      <td>ft. juanfer 323 - en la cherokee remix (lyric ...</td>\n",
       "      <td>spanish</td>\n",
       "    </tr>\n",
       "    <tr>\n",
       "      <th>1510</th>\n",
       "      <td>calvario death metal</td>\n",
       "      <td>dimension de muerte</td>\n",
       "      <td>dimension de muerte f01</td>\n",
       "      <td>spanish</td>\n",
       "    </tr>\n",
       "  </tbody>\n",
       "</table>\n",
       "</div>"
      ],
      "text/plain": [
       "               artist_name         release_name  \\\n",
       "4734         lavish rajora       yaado ka karwa   \n",
       "4710       jassi mahant 36         cg ka ladka    \n",
       "2928              dream yb               new me   \n",
       "4534             z-jabetey           rko-music.   \n",
       "1510  calvario death metal  dimension de muerte   \n",
       "\n",
       "                                              song_name    Idiom  \n",
       "4734                                     yaado ka karwa    hindi  \n",
       "4710                                        cg ka ladka    hindi  \n",
       "2928                                      pa' la vuelta  spanish  \n",
       "4534  ft. juanfer 323 - en la cherokee remix (lyric ...  spanish  \n",
       "1510                            dimension de muerte f01  spanish  "
      ]
     },
     "execution_count": 24,
     "metadata": {},
     "output_type": "execute_result"
    }
   ],
   "source": [
    "df.sample(5)"
   ]
  },
  {
   "cell_type": "markdown",
   "metadata": {},
   "source": [
    "### Reducing repeated characters and punctuations"
   ]
  },
  {
   "cell_type": "code",
   "execution_count": 25,
   "metadata": {},
   "outputs": [],
   "source": [
    "# Reducing repeated characters and punctuations\n",
    "def reducing_incorrect_character_repeatation(text):\n",
    "    \"\"\"\n",
    "    This Function will reduce repeatition to two characters \n",
    "    for alphabets and to one character for punctuations.\n",
    "    \n",
    "    arguments:\n",
    "         input_text: \"text\" of type \"String\".\n",
    "         \n",
    "    return:\n",
    "        value: Finally formatted text with alphabets repeating to \n",
    "        two characters & punctuations limited to one repeatition \n",
    "        \n",
    "    Example:\n",
    "    Input : Realllllllllyyyyy,        Greeeeaaaatttt   !!!!?....;;;;:)\n",
    "    Output : Reallyy, Greeaatt !?.;:)\n",
    "    \n",
    "    \"\"\"\n",
    "    # Pattern matching for all case alphabets\n",
    "    Pattern_alpha = re.compile(r\"([A-Za-z])\\1{1,}\", re.DOTALL)\n",
    "    \n",
    "    # Limiting all the  repeatation to two characters.\n",
    "    Formatted_text = Pattern_alpha.sub(r\"\\1\\1\", text) \n",
    "    \n",
    "    # Pattern matching for all the punctuations that can occur\n",
    "    Pattern_Punct = re.compile(r'([.,/#!$%^&*?;:{}=_`~()+-])\\1{1,}')\n",
    "    \n",
    "    # Limiting punctuations in previously formatted string to only one.\n",
    "    Combined_Formatted = Pattern_Punct.sub(r'\\1', Formatted_text)\n",
    "    \n",
    "    # The below statement is replacing repeatation of spaces that occur more than two times with that of one occurrence.\n",
    "    Final_Formatted = re.sub(' {2,}',' ', Combined_Formatted)\n",
    "    return Final_Formatted"
   ]
  },
  {
   "cell_type": "code",
   "execution_count": 26,
   "metadata": {},
   "outputs": [],
   "source": [
    "for i in range(0,len(df.columns)):\n",
    "    for j in range(0, len(df)):\n",
    "        df[(df.columns.values[i])].values[j] = reducing_incorrect_character_repeatation(df[(df.columns.values[i])].values[j])"
   ]
  },
  {
   "cell_type": "code",
   "execution_count": 27,
   "metadata": {},
   "outputs": [
    {
     "data": {
      "text/html": [
       "<div>\n",
       "<style scoped>\n",
       "    .dataframe tbody tr th:only-of-type {\n",
       "        vertical-align: middle;\n",
       "    }\n",
       "\n",
       "    .dataframe tbody tr th {\n",
       "        vertical-align: top;\n",
       "    }\n",
       "\n",
       "    .dataframe thead th {\n",
       "        text-align: right;\n",
       "    }\n",
       "</style>\n",
       "<table border=\"1\" class=\"dataframe\">\n",
       "  <thead>\n",
       "    <tr style=\"text-align: right;\">\n",
       "      <th></th>\n",
       "      <th>artist_name</th>\n",
       "      <th>release_name</th>\n",
       "      <th>song_name</th>\n",
       "      <th>Idiom</th>\n",
       "    </tr>\n",
       "  </thead>\n",
       "  <tbody>\n",
       "    <tr>\n",
       "      <th>3690</th>\n",
       "      <td>diego</td>\n",
       "      <td>chill kid</td>\n",
       "      <td>atardecer desde el mirador</td>\n",
       "      <td>spanish</td>\n",
       "    </tr>\n",
       "    <tr>\n",
       "      <th>1468</th>\n",
       "      <td>mantike</td>\n",
       "      <td>ep2</td>\n",
       "      <td>jungla</td>\n",
       "      <td>spanish</td>\n",
       "    </tr>\n",
       "    <tr>\n",
       "      <th>1970</th>\n",
       "      <td>victor anom</td>\n",
       "      <td>i'm fine</td>\n",
       "      <td>i'm fine</td>\n",
       "      <td>hindi</td>\n",
       "    </tr>\n",
       "    <tr>\n",
       "      <th>135</th>\n",
       "      <td>mario ojeda</td>\n",
       "      <td>a contramano</td>\n",
       "      <td>ayer, sin ir mas lejos</td>\n",
       "      <td>spanish</td>\n",
       "    </tr>\n",
       "    <tr>\n",
       "      <th>4724</th>\n",
       "      <td>various</td>\n",
       "      <td>cumbias sonideras</td>\n",
       "      <td>no te pongas brava</td>\n",
       "      <td>spanish</td>\n",
       "    </tr>\n",
       "  </tbody>\n",
       "</table>\n",
       "</div>"
      ],
      "text/plain": [
       "      artist_name       release_name                   song_name    Idiom\n",
       "3690        diego          chill kid  atardecer desde el mirador  spanish\n",
       "1468      mantike                ep2                      jungla  spanish\n",
       "1970  victor anom           i'm fine                    i'm fine    hindi\n",
       "135   mario ojeda       a contramano      ayer, sin ir mas lejos  spanish\n",
       "4724      various  cumbias sonideras          no te pongas brava  spanish"
      ]
     },
     "execution_count": 27,
     "metadata": {},
     "output_type": "execute_result"
    }
   ],
   "source": [
    "df.sample(5)"
   ]
  },
  {
   "cell_type": "markdown",
   "metadata": {},
   "source": [
    "> *I still need to do more cleaning regarding this part. We have a lot of songs starting with \" . \" or blank space*"
   ]
  },
  {
   "cell_type": "markdown",
   "metadata": {},
   "source": [
    "### Removing Special Characters"
   ]
  },
  {
   "cell_type": "code",
   "execution_count": 28,
   "metadata": {},
   "outputs": [],
   "source": [
    "# # Removing Special Characters\n",
    "# for i in range(0,len(df.columns)):\n",
    "#     for j in range(0, len(df)):\n",
    "#         df[(df.columns.values[i])].values[j] = re.sub(r\"[^a-zA-Z0-9:$-,%.?!]+\", ' ', df[(df.columns.values[i])].values[j])"
   ]
  },
  {
   "cell_type": "code",
   "execution_count": 29,
   "metadata": {},
   "outputs": [],
   "source": [
    "# Removing Special Characters and also numbers(since the numbers doesn't give any hint regarding idiom)\n",
    "for i in range(0,len(df.columns)):\n",
    "    for j in range(0, len(df)):\n",
    "        df[(df.columns.values[i])].values[j] = re.sub(\"[.,;/0-9!?¿%@|~'#+:()-]\", '', df[(df.columns.values[i])].values[j])"
   ]
  },
  {
   "cell_type": "code",
   "execution_count": 30,
   "metadata": {},
   "outputs": [
    {
     "data": {
      "text/html": [
       "<div>\n",
       "<style scoped>\n",
       "    .dataframe tbody tr th:only-of-type {\n",
       "        vertical-align: middle;\n",
       "    }\n",
       "\n",
       "    .dataframe tbody tr th {\n",
       "        vertical-align: top;\n",
       "    }\n",
       "\n",
       "    .dataframe thead th {\n",
       "        text-align: right;\n",
       "    }\n",
       "</style>\n",
       "<table border=\"1\" class=\"dataframe\">\n",
       "  <thead>\n",
       "    <tr style=\"text-align: right;\">\n",
       "      <th></th>\n",
       "      <th>artist_name</th>\n",
       "      <th>release_name</th>\n",
       "      <th>song_name</th>\n",
       "      <th>Idiom</th>\n",
       "    </tr>\n",
       "  </thead>\n",
       "  <tbody>\n",
       "    <tr>\n",
       "      <th>4509</th>\n",
       "      <td>rosario vallejos angulo rossy vallejos</td>\n",
       "      <td>tu me diste valor</td>\n",
       "      <td>te quiero adorar pista</td>\n",
       "      <td>spanish</td>\n",
       "    </tr>\n",
       "    <tr>\n",
       "      <th>1049</th>\n",
       "      <td>torcacita de canaria</td>\n",
       "      <td>dulce naranjita</td>\n",
       "      <td>rosa rosa</td>\n",
       "      <td>spanish</td>\n",
       "    </tr>\n",
       "    <tr>\n",
       "      <th>3193</th>\n",
       "      <td>eastern ind</td>\n",
       "      <td>lemas bestie mintapompa</td>\n",
       "      <td>lemas bestie mintapompa</td>\n",
       "      <td>spanish</td>\n",
       "    </tr>\n",
       "    <tr>\n",
       "      <th>292</th>\n",
       "      <td>mika singh</td>\n",
       "      <td>tum par hum hai atke</td>\n",
       "      <td>tum par hum hai atke</td>\n",
       "      <td>hindi</td>\n",
       "    </tr>\n",
       "    <tr>\n",
       "      <th>750</th>\n",
       "      <td>themadwriter</td>\n",
       "      <td>meri kahani</td>\n",
       "      <td>meri kahani</td>\n",
       "      <td>hindi</td>\n",
       "    </tr>\n",
       "  </tbody>\n",
       "</table>\n",
       "</div>"
      ],
      "text/plain": [
       "                                 artist_name             release_name  \\\n",
       "4509  rosario vallejos angulo rossy vallejos       tu me diste valor    \n",
       "1049                    torcacita de canaria          dulce naranjita   \n",
       "3193                             eastern ind  lemas bestie mintapompa   \n",
       "292                               mika singh     tum par hum hai atke   \n",
       "750                             themadwriter              meri kahani   \n",
       "\n",
       "                    song_name    Idiom  \n",
       "4509   te quiero adorar pista  spanish  \n",
       "1049                rosa rosa  spanish  \n",
       "3193  lemas bestie mintapompa  spanish  \n",
       "292      tum par hum hai atke    hindi  \n",
       "750               meri kahani    hindi  "
      ]
     },
     "execution_count": 30,
     "metadata": {},
     "output_type": "execute_result"
    }
   ],
   "source": [
    "df.sample(5)"
   ]
  },
  {
   "cell_type": "code",
   "execution_count": 31,
   "metadata": {},
   "outputs": [
    {
     "data": {
      "text/html": [
       "<div>\n",
       "<style scoped>\n",
       "    .dataframe tbody tr th:only-of-type {\n",
       "        vertical-align: middle;\n",
       "    }\n",
       "\n",
       "    .dataframe tbody tr th {\n",
       "        vertical-align: top;\n",
       "    }\n",
       "\n",
       "    .dataframe thead th {\n",
       "        text-align: right;\n",
       "    }\n",
       "</style>\n",
       "<table border=\"1\" class=\"dataframe\">\n",
       "  <thead>\n",
       "    <tr style=\"text-align: right;\">\n",
       "      <th></th>\n",
       "      <th>artist_name</th>\n",
       "      <th>release_name</th>\n",
       "      <th>song_name</th>\n",
       "      <th>Idiom</th>\n",
       "    </tr>\n",
       "  </thead>\n",
       "  <tbody>\n",
       "    <tr>\n",
       "      <th>3205</th>\n",
       "      <td>walther pro</td>\n",
       "      <td>resonancia</td>\n",
       "      <td></td>\n",
       "      <td>spanish</td>\n",
       "    </tr>\n",
       "    <tr>\n",
       "      <th>1316</th>\n",
       "      <td>cxcile</td>\n",
       "      <td></td>\n",
       "      <td></td>\n",
       "      <td>spanish</td>\n",
       "    </tr>\n",
       "    <tr>\n",
       "      <th>671</th>\n",
       "      <td>zevna  javi cheuke</td>\n",
       "      <td>jardin botanico</td>\n",
       "      <td></td>\n",
       "      <td>spanish</td>\n",
       "    </tr>\n",
       "    <tr>\n",
       "      <th>4036</th>\n",
       "      <td>zanmala</td>\n",
       "      <td></td>\n",
       "      <td></td>\n",
       "      <td>spanish</td>\n",
       "    </tr>\n",
       "    <tr>\n",
       "      <th>1908</th>\n",
       "      <td>tchad</td>\n",
       "      <td>ivory waali irony</td>\n",
       "      <td></td>\n",
       "      <td>hindi</td>\n",
       "    </tr>\n",
       "    <tr>\n",
       "      <th>...</th>\n",
       "      <td>...</td>\n",
       "      <td>...</td>\n",
       "      <td>...</td>\n",
       "      <td>...</td>\n",
       "    </tr>\n",
       "    <tr>\n",
       "      <th>1792</th>\n",
       "      <td>d i c</td>\n",
       "      <td>zona sur rkt</td>\n",
       "      <td>zona sur rkt</td>\n",
       "      <td>spanish</td>\n",
       "    </tr>\n",
       "    <tr>\n",
       "      <th>585</th>\n",
       "      <td>soledad bravo live dec</td>\n",
       "      <td>lost and found latin music tapes</td>\n",
       "      <td>zorongo</td>\n",
       "      <td>spanish</td>\n",
       "    </tr>\n",
       "    <tr>\n",
       "      <th>2510</th>\n",
       "      <td>zeta</td>\n",
       "      <td>zta music sessions vol</td>\n",
       "      <td>zta music sessions vol</td>\n",
       "      <td>spanish</td>\n",
       "    </tr>\n",
       "    <tr>\n",
       "      <th>1791</th>\n",
       "      <td>bsk brothers</td>\n",
       "      <td>absolute desi vol</td>\n",
       "      <td>zul zul vahe</td>\n",
       "      <td>hindi</td>\n",
       "    </tr>\n",
       "    <tr>\n",
       "      <th>1348</th>\n",
       "      <td>tia juana</td>\n",
       "      <td>de genuina tradicion</td>\n",
       "      <td>zulia colosal</td>\n",
       "      <td>spanish</td>\n",
       "    </tr>\n",
       "  </tbody>\n",
       "</table>\n",
       "<p>9781 rows × 4 columns</p>\n",
       "</div>"
      ],
      "text/plain": [
       "                   artist_name                      release_name  \\\n",
       "3205               walther pro                        resonancia   \n",
       "1316                    cxcile                                     \n",
       "671         zevna  javi cheuke                  jardin botanico    \n",
       "4036                   zanmala                                     \n",
       "1908                     tchad                 ivory waali irony   \n",
       "...                        ...                               ...   \n",
       "1792                     d i c                      zona sur rkt   \n",
       "585   soledad bravo live dec    lost and found latin music tapes   \n",
       "2510                      zeta            zta music sessions vol   \n",
       "1791              bsk brothers                 absolute desi vol   \n",
       "1348                 tia juana              de genuina tradicion   \n",
       "\n",
       "                   song_name    Idiom  \n",
       "3205                          spanish  \n",
       "1316                          spanish  \n",
       "671                           spanish  \n",
       "4036                          spanish  \n",
       "1908                            hindi  \n",
       "...                      ...      ...  \n",
       "1792           zona sur rkt   spanish  \n",
       "585                  zorongo  spanish  \n",
       "2510  zta music sessions vol  spanish  \n",
       "1791           zul zul vahe     hindi  \n",
       "1348           zulia colosal  spanish  \n",
       "\n",
       "[9781 rows x 4 columns]"
      ]
     },
     "execution_count": 31,
     "metadata": {},
     "output_type": "execute_result"
    }
   ],
   "source": [
    "# Visualizing data \n",
    "df.sort_values('song_name')"
   ]
  },
  {
   "cell_type": "code",
   "execution_count": 32,
   "metadata": {},
   "outputs": [
    {
     "data": {
      "text/html": [
       "<div>\n",
       "<style scoped>\n",
       "    .dataframe tbody tr th:only-of-type {\n",
       "        vertical-align: middle;\n",
       "    }\n",
       "\n",
       "    .dataframe tbody tr th {\n",
       "        vertical-align: top;\n",
       "    }\n",
       "\n",
       "    .dataframe thead th {\n",
       "        text-align: right;\n",
       "    }\n",
       "</style>\n",
       "<table border=\"1\" class=\"dataframe\">\n",
       "  <thead>\n",
       "    <tr style=\"text-align: right;\">\n",
       "      <th></th>\n",
       "      <th>artist_name</th>\n",
       "      <th>release_name</th>\n",
       "      <th>song_name</th>\n",
       "      <th>Idiom</th>\n",
       "    </tr>\n",
       "  </thead>\n",
       "  <tbody>\n",
       "    <tr>\n",
       "      <th>671</th>\n",
       "      <td>zevna  javi cheuke</td>\n",
       "      <td>jardin botanico</td>\n",
       "      <td></td>\n",
       "      <td>spanish</td>\n",
       "    </tr>\n",
       "    <tr>\n",
       "      <th>1316</th>\n",
       "      <td>cxcile</td>\n",
       "      <td></td>\n",
       "      <td></td>\n",
       "      <td>spanish</td>\n",
       "    </tr>\n",
       "    <tr>\n",
       "      <th>1998</th>\n",
       "      <td>oniricboii</td>\n",
       "      <td></td>\n",
       "      <td></td>\n",
       "      <td>spanish</td>\n",
       "    </tr>\n",
       "    <tr>\n",
       "      <th>2348</th>\n",
       "      <td>seven</td>\n",
       "      <td></td>\n",
       "      <td></td>\n",
       "      <td>spanish</td>\n",
       "    </tr>\n",
       "    <tr>\n",
       "      <th>2903</th>\n",
       "      <td>j boi</td>\n",
       "      <td></td>\n",
       "      <td></td>\n",
       "      <td>spanish</td>\n",
       "    </tr>\n",
       "    <tr>\n",
       "      <th>2921</th>\n",
       "      <td>jadix</td>\n",
       "      <td>tena</td>\n",
       "      <td></td>\n",
       "      <td>spanish</td>\n",
       "    </tr>\n",
       "    <tr>\n",
       "      <th>3205</th>\n",
       "      <td>walther pro</td>\n",
       "      <td>resonancia</td>\n",
       "      <td></td>\n",
       "      <td>spanish</td>\n",
       "    </tr>\n",
       "    <tr>\n",
       "      <th>4028</th>\n",
       "      <td>ruido julio</td>\n",
       "      <td></td>\n",
       "      <td></td>\n",
       "      <td>spanish</td>\n",
       "    </tr>\n",
       "    <tr>\n",
       "      <th>4036</th>\n",
       "      <td>zanmala</td>\n",
       "      <td></td>\n",
       "      <td></td>\n",
       "      <td>spanish</td>\n",
       "    </tr>\n",
       "    <tr>\n",
       "      <th>1908</th>\n",
       "      <td>tchad</td>\n",
       "      <td>ivory waali irony</td>\n",
       "      <td></td>\n",
       "      <td>hindi</td>\n",
       "    </tr>\n",
       "  </tbody>\n",
       "</table>\n",
       "</div>"
      ],
      "text/plain": [
       "             artist_name       release_name song_name    Idiom\n",
       "671   zevna  javi cheuke   jardin botanico             spanish\n",
       "1316              cxcile                               spanish\n",
       "1998          oniricboii                               spanish\n",
       "2348               seven                               spanish\n",
       "2903               j boi                               spanish\n",
       "2921               jadix               tena            spanish\n",
       "3205         walther pro         resonancia            spanish\n",
       "4028         ruido julio                               spanish\n",
       "4036             zanmala                               spanish\n",
       "1908               tchad  ivory waali irony              hindi"
      ]
     },
     "execution_count": 32,
     "metadata": {},
     "output_type": "execute_result"
    }
   ],
   "source": [
    "# Remove the rows where we got empty values after the pre-processing and couldn't be removed by .dropna()\n",
    "df[(df.song_name == '')]"
   ]
  },
  {
   "cell_type": "code",
   "execution_count": 33,
   "metadata": {},
   "outputs": [],
   "source": [
    "df = df[(df.song_name != '') & (df.release_name != '') & (df.artist_name != '')]"
   ]
  },
  {
   "cell_type": "code",
   "execution_count": 34,
   "metadata": {},
   "outputs": [
    {
     "data": {
      "text/html": [
       "<div>\n",
       "<style scoped>\n",
       "    .dataframe tbody tr th:only-of-type {\n",
       "        vertical-align: middle;\n",
       "    }\n",
       "\n",
       "    .dataframe tbody tr th {\n",
       "        vertical-align: top;\n",
       "    }\n",
       "\n",
       "    .dataframe thead th {\n",
       "        text-align: right;\n",
       "    }\n",
       "</style>\n",
       "<table border=\"1\" class=\"dataframe\">\n",
       "  <thead>\n",
       "    <tr style=\"text-align: right;\">\n",
       "      <th></th>\n",
       "      <th>artist_name</th>\n",
       "      <th>release_name</th>\n",
       "      <th>song_name</th>\n",
       "      <th>Idiom</th>\n",
       "    </tr>\n",
       "  </thead>\n",
       "  <tbody>\n",
       "    <tr>\n",
       "      <th>3256</th>\n",
       "      <td>royal dvirus</td>\n",
       "      <td>pyar ka pareenda</td>\n",
       "      <td>pyar ka pareenda</td>\n",
       "      <td>hindi</td>\n",
       "    </tr>\n",
       "    <tr>\n",
       "      <th>1585</th>\n",
       "      <td>apni nagpuri adda</td>\n",
       "      <td>ringtone darling</td>\n",
       "      <td>ringtone darling</td>\n",
       "      <td>hindi</td>\n",
       "    </tr>\n",
       "    <tr>\n",
       "      <th>2443</th>\n",
       "      <td>rajat khare</td>\n",
       "      <td>zindagi hai adhoori si</td>\n",
       "      <td>zindagi hai adhoori si</td>\n",
       "      <td>hindi</td>\n",
       "    </tr>\n",
       "    <tr>\n",
       "      <th>1377</th>\n",
       "      <td>claver rax</td>\n",
       "      <td>respect</td>\n",
       "      <td>respect</td>\n",
       "      <td>spanish</td>\n",
       "    </tr>\n",
       "    <tr>\n",
       "      <th>3903</th>\n",
       "      <td>shri draupadi giri g maharaj</td>\n",
       "      <td>aarti</td>\n",
       "      <td>tulsi mata aarti</td>\n",
       "      <td>hindi</td>\n",
       "    </tr>\n",
       "  </tbody>\n",
       "</table>\n",
       "</div>"
      ],
      "text/plain": [
       "                       artist_name            release_name  \\\n",
       "3256                  royal dvirus        pyar ka pareenda   \n",
       "1585             apni nagpuri adda        ringtone darling   \n",
       "2443                   rajat khare  zindagi hai adhoori si   \n",
       "1377                    claver rax                 respect   \n",
       "3903  shri draupadi giri g maharaj                   aarti   \n",
       "\n",
       "                   song_name    Idiom  \n",
       "3256        pyar ka pareenda    hindi  \n",
       "1585        ringtone darling    hindi  \n",
       "2443  zindagi hai adhoori si    hindi  \n",
       "1377                 respect  spanish  \n",
       "3903        tulsi mata aarti    hindi  "
      ]
     },
     "execution_count": 34,
     "metadata": {},
     "output_type": "execute_result"
    }
   ],
   "source": [
    "df.sample(5)"
   ]
  },
  {
   "cell_type": "markdown",
   "metadata": {},
   "source": [
    "> We could see that some albuns had the 'vol' in its end (indicating which volum it is). Since it's a generic word, it won't help to keep them in our dataset. Let's remove the word then.\n",
    " Now that we took the numbers out, lets see how many we have left"
   ]
  },
  {
   "cell_type": "code",
   "execution_count": 35,
   "metadata": {},
   "outputs": [
    {
     "data": {
      "text/plain": [
       "49"
      ]
     },
     "execution_count": 35,
     "metadata": {},
     "output_type": "execute_result"
    }
   ],
   "source": [
    "df['release_name'].str.endswith('vol ').sum()"
   ]
  },
  {
   "cell_type": "code",
   "execution_count": 36,
   "metadata": {},
   "outputs": [
    {
     "data": {
      "text/plain": [
       "49"
      ]
     },
     "execution_count": 36,
     "metadata": {},
     "output_type": "execute_result"
    }
   ],
   "source": [
    "df['release_name'].str.endswith('vol').sum()"
   ]
  },
  {
   "cell_type": "code",
   "execution_count": 37,
   "metadata": {},
   "outputs": [],
   "source": [
    "# This waay do not work because I'm replacing 'vol' not only in the end of the text\n",
    "for i in range(0, len(df)):\n",
    "    if df.release_name.str.endswith('vol ').values[i]:\n",
    "        df.release_name.values[i] = df.release_name.values[i].replace('vol ', '')\n",
    "    elif df.release_name.str.endswith('vol').values[i]:\n",
    "        df.release_name.values[i] = df.release_name.values[i].replace('vol', '')"
   ]
  },
  {
   "cell_type": "code",
   "execution_count": 38,
   "metadata": {},
   "outputs": [
    {
     "data": {
      "text/plain": [
       "0"
      ]
     },
     "execution_count": 38,
     "metadata": {},
     "output_type": "execute_result"
    }
   ],
   "source": [
    "df['release_name'].str.endswith('vol ').sum()"
   ]
  },
  {
   "cell_type": "code",
   "execution_count": 39,
   "metadata": {},
   "outputs": [
    {
     "data": {
      "text/plain": [
       "0"
      ]
     },
     "execution_count": 39,
     "metadata": {},
     "output_type": "execute_result"
    }
   ],
   "source": [
    "df['release_name'].str.endswith('vol').sum()"
   ]
  },
  {
   "cell_type": "code",
   "execution_count": 40,
   "metadata": {},
   "outputs": [
    {
     "data": {
      "text/html": [
       "<div>\n",
       "<style scoped>\n",
       "    .dataframe tbody tr th:only-of-type {\n",
       "        vertical-align: middle;\n",
       "    }\n",
       "\n",
       "    .dataframe tbody tr th {\n",
       "        vertical-align: top;\n",
       "    }\n",
       "\n",
       "    .dataframe thead th {\n",
       "        text-align: right;\n",
       "    }\n",
       "</style>\n",
       "<table border=\"1\" class=\"dataframe\">\n",
       "  <thead>\n",
       "    <tr style=\"text-align: right;\">\n",
       "      <th></th>\n",
       "      <th>artist_name</th>\n",
       "      <th>release_name</th>\n",
       "      <th>song_name</th>\n",
       "      <th>Idiom</th>\n",
       "    </tr>\n",
       "  </thead>\n",
       "  <tbody>\n",
       "    <tr>\n",
       "      <th>3763</th>\n",
       "      <td>ganesh kumar hempur</td>\n",
       "      <td>mor sapna me</td>\n",
       "      <td>mor sapna me</td>\n",
       "      <td>hindi</td>\n",
       "    </tr>\n",
       "    <tr>\n",
       "      <th>142</th>\n",
       "      <td>aditya music factors</td>\n",
       "      <td>aditya fun zone</td>\n",
       "      <td>gllvniuiu</td>\n",
       "      <td>hindi</td>\n",
       "    </tr>\n",
       "    <tr>\n",
       "      <th>135</th>\n",
       "      <td>mario ojeda</td>\n",
       "      <td>a contramano</td>\n",
       "      <td>ayer sin ir mas lejos</td>\n",
       "      <td>spanish</td>\n",
       "    </tr>\n",
       "    <tr>\n",
       "      <th>4898</th>\n",
       "      <td>muhammed sharif raza</td>\n",
       "      <td>khawajaekhawajga</td>\n",
       "      <td>khawjaekhawjga</td>\n",
       "      <td>hindi</td>\n",
       "    </tr>\n",
       "    <tr>\n",
       "      <th>1162</th>\n",
       "      <td>rocky walrus</td>\n",
       "      <td>green light</td>\n",
       "      <td>a sonar</td>\n",
       "      <td>spanish</td>\n",
       "    </tr>\n",
       "  </tbody>\n",
       "</table>\n",
       "</div>"
      ],
      "text/plain": [
       "                artist_name      release_name              song_name    Idiom\n",
       "3763    ganesh kumar hempur      mor sapna me          mor sapna me     hindi\n",
       "142    aditya music factors   aditya fun zone          gllvniuiu        hindi\n",
       "135             mario ojeda      a contramano  ayer sin ir mas lejos  spanish\n",
       "4898  muhammed sharif raza   khawajaekhawajga         khawjaekhawjga    hindi\n",
       "1162           rocky walrus       green light               a sonar   spanish"
      ]
     },
     "execution_count": 40,
     "metadata": {},
     "output_type": "execute_result"
    }
   ],
   "source": [
    "df.sample(5)"
   ]
  },
  {
   "cell_type": "code",
   "execution_count": 41,
   "metadata": {},
   "outputs": [],
   "source": [
    "# Transformando a variável target 'Idiom' and 0 e 1 (\"0\" -> 'hindi ; \"1\" -> spanish)\n",
    "df['Idiom'] = np.where((df['Idiom']) == 'spanish', 1,0)"
   ]
  },
  {
   "cell_type": "code",
   "execution_count": 42,
   "metadata": {},
   "outputs": [
    {
     "data": {
      "text/plain": [
       "0    4875\n",
       "1    4873\n",
       "Name: Idiom, dtype: int64"
      ]
     },
     "execution_count": 42,
     "metadata": {},
     "output_type": "execute_result"
    }
   ],
   "source": [
    "df['Idiom'].value_counts()"
   ]
  },
  {
   "cell_type": "code",
   "execution_count": 43,
   "metadata": {},
   "outputs": [
    {
     "data": {
      "text/html": [
       "<div>\n",
       "<style scoped>\n",
       "    .dataframe tbody tr th:only-of-type {\n",
       "        vertical-align: middle;\n",
       "    }\n",
       "\n",
       "    .dataframe tbody tr th {\n",
       "        vertical-align: top;\n",
       "    }\n",
       "\n",
       "    .dataframe thead th {\n",
       "        text-align: right;\n",
       "    }\n",
       "</style>\n",
       "<table border=\"1\" class=\"dataframe\">\n",
       "  <thead>\n",
       "    <tr style=\"text-align: right;\">\n",
       "      <th></th>\n",
       "      <th>artist_name</th>\n",
       "      <th>release_name</th>\n",
       "      <th>song_name</th>\n",
       "      <th>Idiom</th>\n",
       "    </tr>\n",
       "  </thead>\n",
       "  <tbody>\n",
       "    <tr>\n",
       "      <th>999</th>\n",
       "      <td>arijit singh  kk  ar rahman  shankar mahadevan...</td>\n",
       "      <td>loveria mashup in coordination</td>\n",
       "      <td>loveria mashup in coordination</td>\n",
       "      <td>0</td>\n",
       "    </tr>\n",
       "    <tr>\n",
       "      <th>3789</th>\n",
       "      <td>udit narayan</td>\n",
       "      <td>udit narayan songs</td>\n",
       "      <td>oodhni</td>\n",
       "      <td>0</td>\n",
       "    </tr>\n",
       "    <tr>\n",
       "      <th>2953</th>\n",
       "      <td>hijos del rigor</td>\n",
       "      <td>hechos de la nada</td>\n",
       "      <td>colorado heroe suburbano</td>\n",
       "      <td>1</td>\n",
       "    </tr>\n",
       "    <tr>\n",
       "      <th>1116</th>\n",
       "      <td>md nabeel</td>\n",
       "      <td>khud se khafa hu mai</td>\n",
       "      <td>khud se khafa hu mai</td>\n",
       "      <td>0</td>\n",
       "    </tr>\n",
       "    <tr>\n",
       "      <th>1546</th>\n",
       "      <td>visual chinmay</td>\n",
       "      <td>kabhi tumhe lofi mashup</td>\n",
       "      <td>kabhi tumhe lofi mashup amtee k</td>\n",
       "      <td>0</td>\n",
       "    </tr>\n",
       "  </tbody>\n",
       "</table>\n",
       "</div>"
      ],
      "text/plain": [
       "                                            artist_name  \\\n",
       "999   arijit singh  kk  ar rahman  shankar mahadevan...   \n",
       "3789                                       udit narayan   \n",
       "2953                                    hijos del rigor   \n",
       "1116                                          md nabeel   \n",
       "1546                                     visual chinmay   \n",
       "\n",
       "                         release_name                        song_name  Idiom  \n",
       "999   loveria mashup in coordination   loveria mashup in coordination       0  \n",
       "3789               udit narayan songs                           oodhni      0  \n",
       "2953                hechos de la nada         colorado heroe suburbano      1  \n",
       "1116             khud se khafa hu mai            khud se khafa hu mai       0  \n",
       "1546         kabhi tumhe lofi mashup   kabhi tumhe lofi mashup amtee k      0  "
      ]
     },
     "execution_count": 43,
     "metadata": {},
     "output_type": "execute_result"
    }
   ],
   "source": [
    "df.sample(5)"
   ]
  },
  {
   "cell_type": "markdown",
   "metadata": {},
   "source": [
    "## Machine Learning"
   ]
  },
  {
   "cell_type": "markdown",
   "metadata": {},
   "source": [
    "### Dados de treino e de teste"
   ]
  },
  {
   "cell_type": "code",
   "execution_count": 44,
   "metadata": {},
   "outputs": [],
   "source": [
    "# x = (df['artist_name'])\n",
    "x = (df.drop(['Idiom'], axis = 1)) # predictors\n",
    "y = (df['Idiom']) # target"
   ]
  },
  {
   "cell_type": "code",
   "execution_count": 45,
   "metadata": {},
   "outputs": [],
   "source": [
    "cv = CountVectorizer()\n",
    "ct = make_column_transformer((cv,'artist_name'),(cv,'song_name'),(cv,'release_name'))\n",
    "X = ct.fit_transform(x)"
   ]
  },
  {
   "cell_type": "code",
   "execution_count": 46,
   "metadata": {},
   "outputs": [],
   "source": [
    "# Separating them into train/test\n",
    "X_train, X_test, y_train, y_test = train_test_split(X, y, test_size = 0.3)"
   ]
  },
  {
   "cell_type": "code",
   "execution_count": 47,
   "metadata": {},
   "outputs": [
    {
     "name": "stderr",
     "output_type": "stream",
     "text": [
      "c:\\Users\\rafajovelho\\anaconda3\\lib\\site-packages\\seaborn\\_decorators.py:36: FutureWarning: Pass the following variable as a keyword arg: x. From version 0.12, the only valid positional argument will be `data`, and passing other arguments without an explicit keyword will result in an error or misinterpretation.\n",
      "  warnings.warn(\n"
     ]
    },
    {
     "data": {
      "image/png": "[encoded data removed]",
      "text/plain": [
       "<Figure size 576x432 with 1 Axes>"
      ]
     },
     "metadata": {
      "needs_background": "light"
     },
     "output_type": "display_data"
    }
   ],
   "source": [
    "# Verifying if the variable is balanced\n",
    "plt.figure(figsize = (8,6))\n",
    "\n",
    "ax = sns.countplot(y_train)"
   ]
  },
  {
   "cell_type": "markdown",
   "metadata": {},
   "source": [
    "### Algorithm"
   ]
  },
  {
   "cell_type": "code",
   "execution_count": 48,
   "metadata": {},
   "outputs": [
    {
     "data": {
      "text/plain": [
       "0.9603418803418804"
      ]
     },
     "execution_count": 48,
     "metadata": {},
     "output_type": "execute_result"
    }
   ],
   "source": [
    "model = MultinomialNB()\n",
    "model.fit(X_train, y_train)\n",
    "model.score(X_test, y_test)"
   ]
  },
  {
   "cell_type": "code",
   "execution_count": null,
   "metadata": {},
   "outputs": [],
   "source": []
  },
  {
   "cell_type": "markdown",
   "metadata": {},
   "source": [
    "Talvez criar um algoritmo que não leve o nome do artista em consideração, visto que pode ser qualquer coisa, como siglas, ou um nome em ingles mesmo, msm sendo de outra nacionalidade\n"
   ]
  }
 ],
 "metadata": {
  "kernelspec": {
   "display_name": "Python 3.9.12 ('base')",
   "language": "python",
   "name": "python3"
  },
  "language_info": {
   "codemirror_mode": {
    "name": "ipython",
    "version": 3
   },
   "file_extension": ".py",
   "mimetype": "text/x-python",
   "name": "python",
   "nbconvert_exporter": "python",
   "pygments_lexer": "ipython3",
   "version": "3.9.12"
  },
  "orig_nbformat": 4,
  "vscode": {
   "interpreter": {
    "hash": "789211c298edb5e664485b63a967a0f90e13561e856db0bcfe03f526a35fad28"
   }
  }
 },
 "nbformat": 4,
 "nbformat_minor": 2
}
