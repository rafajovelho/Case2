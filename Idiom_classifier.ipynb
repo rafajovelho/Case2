{
 "cells": [
  {
   "cell_type": "markdown",
   "metadata": {},
   "source": [
    "Magroove Data Science Test\n",
    "=======================\n",
    "\n",
    "### Intro\n",
    "The goal of this test is to access your ability to use data science to tackle a real life issue. Because the nature of the issue is just so complex, we do not expect your solution to be definitive or highly performant - we actually don’t really care about the accuracy of your results at all. What we really care about is your thought process or the way you take an issue, distill it into something solvable by a machine and turn all that into code. As you may imagine at this point, this test will revolve around a machine learning problem - a classification one to be more specific, so let’s get to it.\n",
    "\n",
    "### The Problem\n",
    "When uploading an album to digital streaming platforms (DPSs) like Spotify, Apple or so on, it is important that all the metadata that goes with that album to be accurate. Metadata includes basic information like the album name, the year when it was recorded, the artists involved in the tracks and much more. In this exercise we are particularly interested in a specific element of the metadata - language.\n",
    "\n",
    "Language is an important piece of metadata as it helps the DPSs recommend a given album to listeners that understand that language and will most likely appreciate it. Because of that, DSPs are quite strict with the correct language being assigned when receiving an album.\n",
    "\n",
    "However, it does occur quite frequently for our users to incorrectly fill the language field in our form when submitting an album, which later leads to conflicts between the given user, our company and the DSPs. The goal of this test then is to work on a solution for a simplified version of such problem.\n",
    "\n",
    "Together with this description you will find two files - dataset-hindi.csv and dataset-spanish.csv. The names are quite intuitive, each contains metadata from albums we already distribute and that we know their metadata are either written in Spanish or Hindi. Each CSV contains three columns - artist_name, release_name and song_name. Even though the names are rather intuitive, you should pay attention to the fact that the columns artist_name and release_name tend to have repeated entries as the same artist can have several albums and an album can have several songs.\n",
    "\n",
    "**Your goal then is to create a model to classify future metadata as either written in Spanish or Hindi.**\n",
    "\n",
    "### The deliverables\n",
    "We expect to receive from you a single python script (run.py) and a requirements (requirements.txt) file listing all the dependencies to run it. Your script should be written using Python 3.x and it should output a model we could later use for inference in a production-like environment. You can use any packages or libraries you want as long as you don’t use any pre-trained model. You are also forbidden to use third party APIs or services for language inference like AWS Comprehend or GCP Translation. Your single script should contain everything from data cleaning and preprocessing all the way to model training and inference.\n",
    "\n",
    "### Evaluation and final thoughts\n",
    "\n",
    "Again, even though accuracy is always a good metric, our primary focus will definitely not be performance (we would be running a Kaggle competition if it was =) ). Our attention will be on the logic you used to try and solve the issue and how it translated into code. So don’t worry if your model performs poorly at the end - we would choose nine out of ten times a poor model performance with a smart approach and attempt to solve the problem in question.\n",
    "\n",
    "And finally, don’t hesitate to get in touch if you have any questions, doubts or simply need a kick start. Here at Magroove we have a strong culture of helping each other out - so you can definitely count on us - and we promise that any calls for help will not affect your evaluation at all. In the end solving challenging problems is mostly about asking the right questions, so well thought questions are more than welcome. So good luck with your test and keep us in the loop!\n"
   ]
  },
  {
   "cell_type": "markdown",
   "metadata": {},
   "source": [
    "##  Visualização dos Dados"
   ]
  },
  {
   "cell_type": "code",
   "execution_count": 1,
   "metadata": {},
   "outputs": [],
   "source": [
    "import pandas as pd\n",
    "import numpy as np\n",
    "import unidecode\n",
    "import os\n",
    "import re\n",
    "import matplotlib.pyplot as plt\n",
    "import seaborn as sns\n",
    "from sklearn import metrics\n",
    "from sklearn.compose import make_column_transformer\n",
    "from sklearn.feature_extraction.text import CountVectorizer # (converter as colunas em um array)\n",
    "from sklearn.model_selection import train_test_split\n",
    "from sklearn.naive_bayes import MultinomialNB\n",
    "from sklearn.neighbors import KNeighborsClassifier"
   ]
  },
  {
   "cell_type": "code",
   "execution_count": 2,
   "metadata": {},
   "outputs": [],
   "source": [
    "# Function to Reduce repeated characters and punctuations\n",
    "def reducing_incorrect_character_repeatation(text):\n",
    "    \"\"\"\n",
    "    This Function will reduce repeatition to two characters \n",
    "    for alphabets and to one character for punctuations.\n",
    "    \n",
    "    arguments:\n",
    "         input_text: \"text\" of type \"String\".\n",
    "         \n",
    "    return:\n",
    "        value: Finally formatted text with alphabets repeating to \n",
    "        two characters & punctuations limited to one repeatition \n",
    "        \n",
    "    Example:\n",
    "    Input : Realllllllllyyyyy,        Greeeeaaaatttt   !!!!?....;;;;:)\n",
    "    Output : Reallyy, Greeaatt !?.;:)\n",
    "    \n",
    "    \"\"\"\n",
    "    # Pattern matching for all case alphabets\n",
    "    Pattern_alpha = re.compile(r\"([A-Za-z])\\1{1,}\", re.DOTALL)\n",
    "    \n",
    "    # Limiting all the  repeatation to two characters.\n",
    "    Formatted_text = Pattern_alpha.sub(r\"\\1\\1\", text) \n",
    "    \n",
    "    # Pattern matching for all the punctuations that can occur\n",
    "    Pattern_Punct = re.compile(r'([.,/#!$%^&*?;:{}=_`~()+-])\\1{1,}')\n",
    "    \n",
    "    # Limiting punctuations in previously formatted string to only one.\n",
    "    Combined_Formatted = Pattern_Punct.sub(r'\\1', Formatted_text)\n",
    "    \n",
    "    # The below statement is replacing repeatation of spaces that occur more than two times with that of one occurrence.\n",
    "    Final_Formatted = re.sub(' {2,}',' ', Combined_Formatted)\n",
    "    return Final_Formatted"
   ]
  },
  {
   "cell_type": "markdown",
   "metadata": {},
   "source": [
    "## Análise Exploratória"
   ]
  },
  {
   "cell_type": "code",
   "execution_count": 3,
   "metadata": {},
   "outputs": [],
   "source": [
    "# Importando os dados\n",
    "df_sp = pd.read_csv('dataset-spanish.csv', header = 0)\n",
    "df_hi = pd.read_csv('dataset-hindi.csv', header = 0)"
   ]
  },
  {
   "cell_type": "code",
   "execution_count": 4,
   "metadata": {},
   "outputs": [
    {
     "data": {
      "text/html": [
       "<div>\n",
       "<style scoped>\n",
       "    .dataframe tbody tr th:only-of-type {\n",
       "        vertical-align: middle;\n",
       "    }\n",
       "\n",
       "    .dataframe tbody tr th {\n",
       "        vertical-align: top;\n",
       "    }\n",
       "\n",
       "    .dataframe thead th {\n",
       "        text-align: right;\n",
       "    }\n",
       "</style>\n",
       "<table border=\"1\" class=\"dataframe\">\n",
       "  <thead>\n",
       "    <tr style=\"text-align: right;\">\n",
       "      <th></th>\n",
       "      <th>artist_name</th>\n",
       "      <th>release_name</th>\n",
       "      <th>song_name</th>\n",
       "    </tr>\n",
       "  </thead>\n",
       "  <tbody>\n",
       "    <tr>\n",
       "      <th>3943</th>\n",
       "      <td>Manorth</td>\n",
       "      <td>Descomposición\\n</td>\n",
       "      <td>Summer</td>\n",
       "    </tr>\n",
       "    <tr>\n",
       "      <th>4559</th>\n",
       "      <td>Los Jr</td>\n",
       "      <td>El Larios</td>\n",
       "      <td>El Larios</td>\n",
       "    </tr>\n",
       "    <tr>\n",
       "      <th>1100</th>\n",
       "      <td>Myriam Hernandez</td>\n",
       "      <td>Myriam Hernández</td>\n",
       "      <td>Quiero Cantarle Al Amor</td>\n",
       "    </tr>\n",
       "    <tr>\n",
       "      <th>1900</th>\n",
       "      <td>B4st4rdo</td>\n",
       "      <td>Volacuatica6969</td>\n",
       "      <td>Homenajepro</td>\n",
       "    </tr>\n",
       "    <tr>\n",
       "      <th>3858</th>\n",
       "      <td>Su Majestad La Brissa</td>\n",
       "      <td>40º Aniversario: Se Va Muriendo Mi Alma</td>\n",
       "      <td>Vas a Pagar</td>\n",
       "    </tr>\n",
       "  </tbody>\n",
       "</table>\n",
       "</div>"
      ],
      "text/plain": [
       "                artist_name                             release_name  \\\n",
       "3943                Manorth                         Descomposición\\n   \n",
       "4559                 Los Jr                                El Larios   \n",
       "1100       Myriam Hernandez                         Myriam Hernández   \n",
       "1900               B4st4rdo                          Volacuatica6969   \n",
       "3858  Su Majestad La Brissa  40º Aniversario: Se Va Muriendo Mi Alma   \n",
       "\n",
       "                    song_name  \n",
       "3943                   Summer  \n",
       "4559                El Larios  \n",
       "1100  Quiero Cantarle Al Amor  \n",
       "1900              Homenajepro  \n",
       "3858              Vas a Pagar  "
      ]
     },
     "execution_count": 4,
     "metadata": {},
     "output_type": "execute_result"
    }
   ],
   "source": [
    "# Visualização dos dados\n",
    "df_sp.sample(5)"
   ]
  },
  {
   "cell_type": "code",
   "execution_count": 5,
   "metadata": {},
   "outputs": [
    {
     "data": {
      "text/html": [
       "<div>\n",
       "<style scoped>\n",
       "    .dataframe tbody tr th:only-of-type {\n",
       "        vertical-align: middle;\n",
       "    }\n",
       "\n",
       "    .dataframe tbody tr th {\n",
       "        vertical-align: top;\n",
       "    }\n",
       "\n",
       "    .dataframe thead th {\n",
       "        text-align: right;\n",
       "    }\n",
       "</style>\n",
       "<table border=\"1\" class=\"dataframe\">\n",
       "  <thead>\n",
       "    <tr style=\"text-align: right;\">\n",
       "      <th></th>\n",
       "      <th>artist_name</th>\n",
       "      <th>release_name</th>\n",
       "      <th>song_name</th>\n",
       "    </tr>\n",
       "  </thead>\n",
       "  <tbody>\n",
       "    <tr>\n",
       "      <th>304</th>\n",
       "      <td>Diksha Chaubey</td>\n",
       "      <td>Walking Home</td>\n",
       "      <td>Older</td>\n",
       "    </tr>\n",
       "    <tr>\n",
       "      <th>1806</th>\n",
       "      <td>Rrabi Bir</td>\n",
       "      <td>Mere Shambhu</td>\n",
       "      <td>Mere Shambhu  Rrabi Bir</td>\n",
       "    </tr>\n",
       "    <tr>\n",
       "      <th>3759</th>\n",
       "      <td>Om Sompura</td>\n",
       "      <td>Alag Asmaan</td>\n",
       "      <td>Alag Asmaan</td>\n",
       "    </tr>\n",
       "    <tr>\n",
       "      <th>2336</th>\n",
       "      <td>Ganesh Kumar Hempur</td>\n",
       "      <td>Suno Na Nagpuri</td>\n",
       "      <td>Suno Na Nagpuri</td>\n",
       "    </tr>\n",
       "    <tr>\n",
       "      <th>1080</th>\n",
       "      <td>Mukesh Karma</td>\n",
       "      <td>Mera Hota</td>\n",
       "      <td>Mera Hota</td>\n",
       "    </tr>\n",
       "  </tbody>\n",
       "</table>\n",
       "</div>"
      ],
      "text/plain": [
       "              artist_name     release_name                song_name\n",
       "304        Diksha Chaubey     Walking Home                    Older\n",
       "1806            Rrabi Bir     Mere Shambhu  Mere Shambhu  Rrabi Bir\n",
       "3759           Om Sompura      Alag Asmaan              Alag Asmaan\n",
       "2336  Ganesh Kumar Hempur  Suno Na Nagpuri         Suno Na Nagpuri \n",
       "1080         Mukesh Karma        Mera Hota                Mera Hota"
      ]
     },
     "execution_count": 5,
     "metadata": {},
     "output_type": "execute_result"
    }
   ],
   "source": [
    "# Visualização dos dados\n",
    "df_hi.sample(5)"
   ]
  },
  {
   "cell_type": "code",
   "execution_count": 6,
   "metadata": {},
   "outputs": [
    {
     "name": "stdout",
     "output_type": "stream",
     "text": [
      "Spanish dataset length: 5000 \n",
      "Hindi dataset lenght: 5000\n"
     ]
    }
   ],
   "source": [
    "# Checking the dataset lenght\n",
    "print(f'Spanish dataset length: {len(df_sp)} \\nHindi dataset lenght: {len(df_hi)}')"
   ]
  },
  {
   "cell_type": "code",
   "execution_count": 7,
   "metadata": {},
   "outputs": [
    {
     "data": {
      "text/html": [
       "<div>\n",
       "<style scoped>\n",
       "    .dataframe tbody tr th:only-of-type {\n",
       "        vertical-align: middle;\n",
       "    }\n",
       "\n",
       "    .dataframe tbody tr th {\n",
       "        vertical-align: top;\n",
       "    }\n",
       "\n",
       "    .dataframe thead th {\n",
       "        text-align: right;\n",
       "    }\n",
       "</style>\n",
       "<table border=\"1\" class=\"dataframe\">\n",
       "  <thead>\n",
       "    <tr style=\"text-align: right;\">\n",
       "      <th></th>\n",
       "      <th>artist_name</th>\n",
       "      <th>release_name</th>\n",
       "      <th>song_name</th>\n",
       "    </tr>\n",
       "  </thead>\n",
       "  <tbody>\n",
       "    <tr>\n",
       "      <th>count</th>\n",
       "      <td>5000</td>\n",
       "      <td>4999</td>\n",
       "      <td>4999</td>\n",
       "    </tr>\n",
       "    <tr>\n",
       "      <th>unique</th>\n",
       "      <td>1415</td>\n",
       "      <td>1870</td>\n",
       "      <td>4702</td>\n",
       "    </tr>\n",
       "    <tr>\n",
       "      <th>top</th>\n",
       "      <td>Various</td>\n",
       "      <td>Cumbias Sonideras</td>\n",
       "      <td>Title Error</td>\n",
       "    </tr>\n",
       "    <tr>\n",
       "      <th>freq</th>\n",
       "      <td>134</td>\n",
       "      <td>134</td>\n",
       "      <td>24</td>\n",
       "    </tr>\n",
       "  </tbody>\n",
       "</table>\n",
       "</div>"
      ],
      "text/plain": [
       "       artist_name       release_name    song_name\n",
       "count         5000               4999         4999\n",
       "unique        1415               1870         4702\n",
       "top        Various  Cumbias Sonideras  Title Error\n",
       "freq           134                134           24"
      ]
     },
     "execution_count": 7,
     "metadata": {},
     "output_type": "execute_result"
    }
   ],
   "source": [
    "# Describe dos dados\n",
    "df_sp.describe()\n"
   ]
  },
  {
   "cell_type": "code",
   "execution_count": 8,
   "metadata": {},
   "outputs": [
    {
     "data": {
      "text/html": [
       "<div>\n",
       "<style scoped>\n",
       "    .dataframe tbody tr th:only-of-type {\n",
       "        vertical-align: middle;\n",
       "    }\n",
       "\n",
       "    .dataframe tbody tr th {\n",
       "        vertical-align: top;\n",
       "    }\n",
       "\n",
       "    .dataframe thead th {\n",
       "        text-align: right;\n",
       "    }\n",
       "</style>\n",
       "<table border=\"1\" class=\"dataframe\">\n",
       "  <thead>\n",
       "    <tr style=\"text-align: right;\">\n",
       "      <th></th>\n",
       "      <th>artist_name</th>\n",
       "      <th>release_name</th>\n",
       "      <th>song_name</th>\n",
       "    </tr>\n",
       "  </thead>\n",
       "  <tbody>\n",
       "    <tr>\n",
       "      <th>count</th>\n",
       "      <td>5000</td>\n",
       "      <td>5000</td>\n",
       "      <td>4997</td>\n",
       "    </tr>\n",
       "    <tr>\n",
       "      <th>unique</th>\n",
       "      <td>2436</td>\n",
       "      <td>4034</td>\n",
       "      <td>4616</td>\n",
       "    </tr>\n",
       "    <tr>\n",
       "      <th>top</th>\n",
       "      <td>Visual Chinmay</td>\n",
       "      <td>Vibeee:)</td>\n",
       "      <td>Title Error</td>\n",
       "    </tr>\n",
       "    <tr>\n",
       "      <th>freq</th>\n",
       "      <td>134</td>\n",
       "      <td>59</td>\n",
       "      <td>33</td>\n",
       "    </tr>\n",
       "  </tbody>\n",
       "</table>\n",
       "</div>"
      ],
      "text/plain": [
       "           artist_name release_name    song_name\n",
       "count             5000         5000         4997\n",
       "unique            2436         4034         4616\n",
       "top     Visual Chinmay     Vibeee:)  Title Error\n",
       "freq               134           59           33"
      ]
     },
     "execution_count": 8,
     "metadata": {},
     "output_type": "execute_result"
    }
   ],
   "source": [
    "df_hi.describe()"
   ]
  },
  {
   "cell_type": "markdown",
   "metadata": {},
   "source": [
    "## Data Cleaning"
   ]
  },
  {
   "cell_type": "markdown",
   "metadata": {},
   "source": [
    "> Before starting the data cleaning process, I'll add the column 'Idiom' in the datasets so I can already concatenate them to make the cleaning for the whole dataset"
   ]
  },
  {
   "cell_type": "code",
   "execution_count": 9,
   "metadata": {},
   "outputs": [],
   "source": [
    "# Adding a 'Idiom' column\n",
    "df_sp['Idiom'] = 'Spanish'\n",
    "df_hi['Idiom'] = 'Hindi'"
   ]
  },
  {
   "cell_type": "code",
   "execution_count": 10,
   "metadata": {},
   "outputs": [
    {
     "data": {
      "text/plain": [
       "10000"
      ]
     },
     "execution_count": 10,
     "metadata": {},
     "output_type": "execute_result"
    }
   ],
   "source": [
    "# Concatenating the datasets\n",
    "df = pd.concat([df_sp, df_hi])\n",
    "len(df)"
   ]
  },
  {
   "cell_type": "code",
   "execution_count": 11,
   "metadata": {},
   "outputs": [
    {
     "name": "stdout",
     "output_type": "stream",
     "text": [
      "154\n"
     ]
    }
   ],
   "source": [
    "print(df.duplicated().sum())"
   ]
  },
  {
   "cell_type": "code",
   "execution_count": 12,
   "metadata": {},
   "outputs": [],
   "source": [
    "# Dropping duplicated rows\n",
    "df.drop_duplicates(inplace= True)"
   ]
  },
  {
   "cell_type": "code",
   "execution_count": 13,
   "metadata": {},
   "outputs": [
    {
     "data": {
      "text/plain": [
       "artist_name     0\n",
       "release_name    1\n",
       "song_name       4\n",
       "Idiom           0\n",
       "dtype: int64"
      ]
     },
     "execution_count": 13,
     "metadata": {},
     "output_type": "execute_result"
    }
   ],
   "source": [
    "# Checkin missing values\n",
    "df.isna().sum()"
   ]
  },
  {
   "cell_type": "code",
   "execution_count": 14,
   "metadata": {},
   "outputs": [],
   "source": [
    "# Dropping the rows with missing values\n",
    "df.dropna(inplace=True)"
   ]
  },
  {
   "cell_type": "code",
   "execution_count": 15,
   "metadata": {},
   "outputs": [
    {
     "name": "stdout",
     "output_type": "stream",
     "text": [
      "Spanish dataset length: 4935 \n",
      "Hindi dataset lenght: 4906\n"
     ]
    }
   ],
   "source": [
    "# Checking dataset lenght after dropping the duplications for the spanish and the hindi (so we can see if it's still balanced)\n",
    "print(f\"Spanish dataset length: {len(df[(df.Idiom == 'Spanish')])} \\nHindi dataset lenght: {len(df[(df.Idiom == 'Hindi')])}\")"
   ]
  },
  {
   "cell_type": "code",
   "execution_count": 16,
   "metadata": {},
   "outputs": [
    {
     "data": {
      "text/html": [
       "<div>\n",
       "<style scoped>\n",
       "    .dataframe tbody tr th:only-of-type {\n",
       "        vertical-align: middle;\n",
       "    }\n",
       "\n",
       "    .dataframe tbody tr th {\n",
       "        vertical-align: top;\n",
       "    }\n",
       "\n",
       "    .dataframe thead th {\n",
       "        text-align: right;\n",
       "    }\n",
       "</style>\n",
       "<table border=\"1\" class=\"dataframe\">\n",
       "  <thead>\n",
       "    <tr style=\"text-align: right;\">\n",
       "      <th></th>\n",
       "      <th>artist_name</th>\n",
       "      <th>release_name</th>\n",
       "      <th>song_name</th>\n",
       "      <th>Idiom</th>\n",
       "    </tr>\n",
       "  </thead>\n",
       "  <tbody>\n",
       "    <tr>\n",
       "      <th>count</th>\n",
       "      <td>9841</td>\n",
       "      <td>9841</td>\n",
       "      <td>9841</td>\n",
       "      <td>9841</td>\n",
       "    </tr>\n",
       "    <tr>\n",
       "      <th>unique</th>\n",
       "      <td>3843</td>\n",
       "      <td>5891</td>\n",
       "      <td>9299</td>\n",
       "      <td>2</td>\n",
       "    </tr>\n",
       "    <tr>\n",
       "      <th>top</th>\n",
       "      <td>Various</td>\n",
       "      <td>Cumbias Sonideras</td>\n",
       "      <td>Title Error</td>\n",
       "      <td>Spanish</td>\n",
       "    </tr>\n",
       "    <tr>\n",
       "      <th>freq</th>\n",
       "      <td>134</td>\n",
       "      <td>134</td>\n",
       "      <td>31</td>\n",
       "      <td>4935</td>\n",
       "    </tr>\n",
       "  </tbody>\n",
       "</table>\n",
       "</div>"
      ],
      "text/plain": [
       "       artist_name       release_name    song_name    Idiom\n",
       "count         9841               9841         9841     9841\n",
       "unique        3843               5891         9299        2\n",
       "top        Various  Cumbias Sonideras  Title Error  Spanish\n",
       "freq           134                134           31     4935"
      ]
     },
     "execution_count": 16,
     "metadata": {},
     "output_type": "execute_result"
    }
   ],
   "source": [
    "df.describe()"
   ]
  },
  {
   "cell_type": "code",
   "execution_count": 17,
   "metadata": {},
   "outputs": [
    {
     "data": {
      "text/plain": [
       "Title Error              31\n",
       "Intro                     9\n",
       "TITLE_ERROR               7\n",
       "Contigo                   6\n",
       "Ranjha                    5\n",
       "                         ..\n",
       "Me Llevo a Las Gyales     1\n",
       "Yuca                      1\n",
       "Cash Out                  1\n",
       "Lunes Rahib               1\n",
       "The Devue                 1\n",
       "Name: song_name, Length: 9299, dtype: int64"
      ]
     },
     "execution_count": 17,
     "metadata": {},
     "output_type": "execute_result"
    }
   ],
   "source": [
    "# Taking a deep look into the variables to clean it properly\n",
    "df['song_name'].value_counts()"
   ]
  },
  {
   "cell_type": "code",
   "execution_count": 18,
   "metadata": {},
   "outputs": [],
   "source": [
    "# I'll remove the rows with Title Error (and TITLE_ERROR) and also the Intro songs, since it doesn't mean much about the idiom of the song (which is what we are looking for in this project)\n",
    "df = df[(df.song_name != 'Title Error') & (df.song_name != 'TITLE_ERROR') & (df.song_name.str.startswith('Intro') == False)]"
   ]
  },
  {
   "cell_type": "code",
   "execution_count": 19,
   "metadata": {},
   "outputs": [
    {
     "data": {
      "text/html": [
       "<div>\n",
       "<style scoped>\n",
       "    .dataframe tbody tr th:only-of-type {\n",
       "        vertical-align: middle;\n",
       "    }\n",
       "\n",
       "    .dataframe tbody tr th {\n",
       "        vertical-align: top;\n",
       "    }\n",
       "\n",
       "    .dataframe thead th {\n",
       "        text-align: right;\n",
       "    }\n",
       "</style>\n",
       "<table border=\"1\" class=\"dataframe\">\n",
       "  <thead>\n",
       "    <tr style=\"text-align: right;\">\n",
       "      <th></th>\n",
       "      <th>artist_name</th>\n",
       "      <th>release_name</th>\n",
       "      <th>song_name</th>\n",
       "      <th>Idiom</th>\n",
       "    </tr>\n",
       "  </thead>\n",
       "  <tbody>\n",
       "    <tr>\n",
       "      <th>count</th>\n",
       "      <td>9781</td>\n",
       "      <td>9781</td>\n",
       "      <td>9781</td>\n",
       "      <td>9781</td>\n",
       "    </tr>\n",
       "    <tr>\n",
       "      <th>unique</th>\n",
       "      <td>3822</td>\n",
       "      <td>5864</td>\n",
       "      <td>9283</td>\n",
       "      <td>2</td>\n",
       "    </tr>\n",
       "    <tr>\n",
       "      <th>top</th>\n",
       "      <td>Various</td>\n",
       "      <td>Cumbias Sonideras</td>\n",
       "      <td>Contigo</td>\n",
       "      <td>Spanish</td>\n",
       "    </tr>\n",
       "    <tr>\n",
       "      <th>freq</th>\n",
       "      <td>134</td>\n",
       "      <td>134</td>\n",
       "      <td>6</td>\n",
       "      <td>4903</td>\n",
       "    </tr>\n",
       "  </tbody>\n",
       "</table>\n",
       "</div>"
      ],
      "text/plain": [
       "       artist_name       release_name song_name    Idiom\n",
       "count         9781               9781      9781     9781\n",
       "unique        3822               5864      9283        2\n",
       "top        Various  Cumbias Sonideras   Contigo  Spanish\n",
       "freq           134                134         6     4903"
      ]
     },
     "execution_count": 19,
     "metadata": {},
     "output_type": "execute_result"
    }
   ],
   "source": [
    "df.describe()"
   ]
  },
  {
   "cell_type": "code",
   "execution_count": 20,
   "metadata": {},
   "outputs": [],
   "source": [
    "# Removing possible double whitespace in the text\n",
    "for i in range(0,len(df.columns)):\n",
    "    for j in range(0, len(df)):\n",
    "        df[(df.columns.values[i])].values[j] = re.sub(r'\\s+', ' ', df[(df.columns.values[i])].values[j])"
   ]
  },
  {
   "cell_type": "code",
   "execution_count": 21,
   "metadata": {},
   "outputs": [
    {
     "data": {
      "text/html": [
       "<div>\n",
       "<style scoped>\n",
       "    .dataframe tbody tr th:only-of-type {\n",
       "        vertical-align: middle;\n",
       "    }\n",
       "\n",
       "    .dataframe tbody tr th {\n",
       "        vertical-align: top;\n",
       "    }\n",
       "\n",
       "    .dataframe thead th {\n",
       "        text-align: right;\n",
       "    }\n",
       "</style>\n",
       "<table border=\"1\" class=\"dataframe\">\n",
       "  <thead>\n",
       "    <tr style=\"text-align: right;\">\n",
       "      <th></th>\n",
       "      <th>artist_name</th>\n",
       "      <th>release_name</th>\n",
       "      <th>song_name</th>\n",
       "      <th>Idiom</th>\n",
       "    </tr>\n",
       "  </thead>\n",
       "  <tbody>\n",
       "    <tr>\n",
       "      <th>2865</th>\n",
       "      <td>Rorong Apum</td>\n",
       "      <td>Lodi Pe Mitinam No</td>\n",
       "      <td>Lodi Pe Mitinam No</td>\n",
       "      <td>Hindi</td>\n",
       "    </tr>\n",
       "    <tr>\n",
       "      <th>3083</th>\n",
       "      <td>Jaikant Bhardwaj</td>\n",
       "      <td>Kabhi Kabhi Mere Dil Main (recreated)</td>\n",
       "      <td>677537529901879 7409671830843308655 N (1)</td>\n",
       "      <td>Hindi</td>\n",
       "    </tr>\n",
       "    <tr>\n",
       "      <th>2975</th>\n",
       "      <td>Shivamm Shivone</td>\n",
       "      <td>Mai Hosh Me Hu</td>\n",
       "      <td>Mai Hosh Me Hu</td>\n",
       "      <td>Hindi</td>\n",
       "    </tr>\n",
       "    <tr>\n",
       "      <th>3676</th>\n",
       "      <td>Bhupesh Khurana</td>\n",
       "      <td>Jazbaat</td>\n",
       "      <td>Jazbaat - Bhupesh Khurana Rap Song 2021 (Offic...</td>\n",
       "      <td>Hindi</td>\n",
       "    </tr>\n",
       "    <tr>\n",
       "      <th>3555</th>\n",
       "      <td>Cyphrix</td>\n",
       "      <td>Revelation</td>\n",
       "      <td>Revelation</td>\n",
       "      <td>Spanish</td>\n",
       "    </tr>\n",
       "  </tbody>\n",
       "</table>\n",
       "</div>"
      ],
      "text/plain": [
       "           artist_name                           release_name  \\\n",
       "2865       Rorong Apum                     Lodi Pe Mitinam No   \n",
       "3083  Jaikant Bhardwaj  Kabhi Kabhi Mere Dil Main (recreated)   \n",
       "2975  Shivamm Shivone                         Mai Hosh Me Hu    \n",
       "3676   Bhupesh Khurana                                Jazbaat   \n",
       "3555           Cyphrix                             Revelation   \n",
       "\n",
       "                                              song_name    Idiom  \n",
       "2865                                Lodi Pe Mitinam No     Hindi  \n",
       "3083          677537529901879 7409671830843308655 N (1)    Hindi  \n",
       "2975                                    Mai Hosh Me Hu     Hindi  \n",
       "3676  Jazbaat - Bhupesh Khurana Rap Song 2021 (Offic...    Hindi  \n",
       "3555                                         Revelation  Spanish  "
      ]
     },
     "execution_count": 21,
     "metadata": {},
     "output_type": "execute_result"
    }
   ],
   "source": [
    "df.sample(5)"
   ]
  },
  {
   "cell_type": "markdown",
   "metadata": {},
   "source": [
    "## Pre-Processing"
   ]
  },
  {
   "cell_type": "markdown",
   "metadata": {},
   "source": [
    "### Removing accented characters"
   ]
  },
  {
   "cell_type": "code",
   "execution_count": 22,
   "metadata": {},
   "outputs": [],
   "source": [
    "# Removing accented characters\n",
    "for i in range(0,len(df.columns)):\n",
    "    for j in range(0, len(df)):\n",
    "        df[(df.columns.values[i])].values[j] = unidecode.unidecode(df[(df.columns.values[i])].values[j])"
   ]
  },
  {
   "cell_type": "code",
   "execution_count": 23,
   "metadata": {},
   "outputs": [
    {
     "data": {
      "text/html": [
       "<div>\n",
       "<style scoped>\n",
       "    .dataframe tbody tr th:only-of-type {\n",
       "        vertical-align: middle;\n",
       "    }\n",
       "\n",
       "    .dataframe tbody tr th {\n",
       "        vertical-align: top;\n",
       "    }\n",
       "\n",
       "    .dataframe thead th {\n",
       "        text-align: right;\n",
       "    }\n",
       "</style>\n",
       "<table border=\"1\" class=\"dataframe\">\n",
       "  <thead>\n",
       "    <tr style=\"text-align: right;\">\n",
       "      <th></th>\n",
       "      <th>artist_name</th>\n",
       "      <th>release_name</th>\n",
       "      <th>song_name</th>\n",
       "      <th>Idiom</th>\n",
       "    </tr>\n",
       "  </thead>\n",
       "  <tbody>\n",
       "    <tr>\n",
       "      <th>1021</th>\n",
       "      <td>Jorel</td>\n",
       "      <td>Amor Artificial</td>\n",
       "      <td>Amor Artificial</td>\n",
       "      <td>Spanish</td>\n",
       "    </tr>\n",
       "    <tr>\n",
       "      <th>4592</th>\n",
       "      <td>Surjan Pachwara</td>\n",
       "      <td>koii koii yaad puraanii</td>\n",
       "      <td>koii koii yaad praannii hai</td>\n",
       "      <td>Hindi</td>\n",
       "    </tr>\n",
       "    <tr>\n",
       "      <th>214</th>\n",
       "      <td>Aditi Iyangar</td>\n",
       "      <td>One Night</td>\n",
       "      <td>One Night</td>\n",
       "      <td>Hindi</td>\n",
       "    </tr>\n",
       "    <tr>\n",
       "      <th>2027</th>\n",
       "      <td>Hostil MC..</td>\n",
       "      <td>Inmunizacion...</td>\n",
       "      <td>Hostil Mc X Joe Phantom .....Error..(ceda muse...</td>\n",
       "      <td>Spanish</td>\n",
       "    </tr>\n",
       "    <tr>\n",
       "      <th>2581</th>\n",
       "      <td>Jainesh V</td>\n",
       "      <td>Hua Hai Aaj Pehli Baar</td>\n",
       "      <td>Hua Hai Aaj Pehli Baar (Slowed and Reverb)</td>\n",
       "      <td>Hindi</td>\n",
       "    </tr>\n",
       "  </tbody>\n",
       "</table>\n",
       "</div>"
      ],
      "text/plain": [
       "          artist_name              release_name  \\\n",
       "1021           Jorel           Amor Artificial    \n",
       "4592  Surjan Pachwara  koii koii yaad puraanii    \n",
       "214    Aditi Iyangar                  One Night   \n",
       "2027      Hostil MC..           Inmunizacion...   \n",
       "2581        Jainesh V   Hua Hai Aaj Pehli Baar    \n",
       "\n",
       "                                              song_name    Idiom  \n",
       "1021                                   Amor Artificial   Spanish  \n",
       "4592                       koii koii yaad praannii hai     Hindi  \n",
       "214                                           One Night    Hindi  \n",
       "2027  Hostil Mc X Joe Phantom .....Error..(ceda muse...  Spanish  \n",
       "2581         Hua Hai Aaj Pehli Baar (Slowed and Reverb)    Hindi  "
      ]
     },
     "execution_count": 23,
     "metadata": {},
     "output_type": "execute_result"
    }
   ],
   "source": [
    "df.sample(5)"
   ]
  },
  {
   "cell_type": "markdown",
   "metadata": {},
   "source": [
    "### Converting the dataset to lowercase"
   ]
  },
  {
   "cell_type": "code",
   "execution_count": 24,
   "metadata": {},
   "outputs": [],
   "source": [
    "# Converting the dataset to lowercase\n",
    "for i in range(0,len(df.columns)):\n",
    "    for j in range(0, len(df)):\n",
    "        df[(df.columns.values[i])].values[j] = (df[(df.columns.values[i])].values[j]).lower()"
   ]
  },
  {
   "cell_type": "code",
   "execution_count": 25,
   "metadata": {},
   "outputs": [
    {
     "data": {
      "text/html": [
       "<div>\n",
       "<style scoped>\n",
       "    .dataframe tbody tr th:only-of-type {\n",
       "        vertical-align: middle;\n",
       "    }\n",
       "\n",
       "    .dataframe tbody tr th {\n",
       "        vertical-align: top;\n",
       "    }\n",
       "\n",
       "    .dataframe thead th {\n",
       "        text-align: right;\n",
       "    }\n",
       "</style>\n",
       "<table border=\"1\" class=\"dataframe\">\n",
       "  <thead>\n",
       "    <tr style=\"text-align: right;\">\n",
       "      <th></th>\n",
       "      <th>artist_name</th>\n",
       "      <th>release_name</th>\n",
       "      <th>song_name</th>\n",
       "      <th>Idiom</th>\n",
       "    </tr>\n",
       "  </thead>\n",
       "  <tbody>\n",
       "    <tr>\n",
       "      <th>255</th>\n",
       "      <td>baby brazy</td>\n",
       "      <td>no hay tiempo</td>\n",
       "      <td>no hay tiempo</td>\n",
       "      <td>spanish</td>\n",
       "    </tr>\n",
       "    <tr>\n",
       "      <th>3030</th>\n",
       "      <td>q kya</td>\n",
       "      <td>hum kya jane</td>\n",
       "      <td>ek ladki ko dekha toh aisa laga</td>\n",
       "      <td>hindi</td>\n",
       "    </tr>\n",
       "    <tr>\n",
       "      <th>1124</th>\n",
       "      <td>a.r. rehman</td>\n",
       "      <td>maa tuje salam remix</td>\n",
       "      <td>2-maa tuje salam</td>\n",
       "      <td>hindi</td>\n",
       "    </tr>\n",
       "    <tr>\n",
       "      <th>3334</th>\n",
       "      <td>rachi la para</td>\n",
       "      <td>chapa par tras</td>\n",
       "      <td>chapa pa tras</td>\n",
       "      <td>spanish</td>\n",
       "    </tr>\n",
       "    <tr>\n",
       "      <th>620</th>\n",
       "      <td>boleros...en la noche</td>\n",
       "      <td>lost &amp; found latin music tapes vol. vii</td>\n",
       "      <td>no niegues que me quisiste-alfredo sadel</td>\n",
       "      <td>spanish</td>\n",
       "    </tr>\n",
       "  </tbody>\n",
       "</table>\n",
       "</div>"
      ],
      "text/plain": [
       "                artist_name                             release_name  \\\n",
       "255              baby brazy                            no hay tiempo   \n",
       "3030                  q kya                             hum kya jane   \n",
       "1124            a.r. rehman                     maa tuje salam remix   \n",
       "3334          rachi la para                           chapa par tras   \n",
       "620   boleros...en la noche  lost & found latin music tapes vol. vii   \n",
       "\n",
       "                                     song_name    Idiom  \n",
       "255                              no hay tiempo  spanish  \n",
       "3030           ek ladki ko dekha toh aisa laga    hindi  \n",
       "1124                          2-maa tuje salam    hindi  \n",
       "3334                            chapa pa tras   spanish  \n",
       "620   no niegues que me quisiste-alfredo sadel  spanish  "
      ]
     },
     "execution_count": 25,
     "metadata": {},
     "output_type": "execute_result"
    }
   ],
   "source": [
    "df.sample(5)"
   ]
  },
  {
   "cell_type": "markdown",
   "metadata": {},
   "source": [
    "### Reducing repeated characters and punctuations"
   ]
  },
  {
   "cell_type": "code",
   "execution_count": 26,
   "metadata": {},
   "outputs": [],
   "source": [
    "# Reducing repeated characters and punctuations\n",
    "for i in range(0,len(df.columns)):\n",
    "    for j in range(0, len(df)):\n",
    "        df[(df.columns.values[i])].values[j] = reducing_incorrect_character_repeatation(df[(df.columns.values[i])].values[j])"
   ]
  },
  {
   "cell_type": "code",
   "execution_count": 27,
   "metadata": {},
   "outputs": [
    {
     "data": {
      "text/html": [
       "<div>\n",
       "<style scoped>\n",
       "    .dataframe tbody tr th:only-of-type {\n",
       "        vertical-align: middle;\n",
       "    }\n",
       "\n",
       "    .dataframe tbody tr th {\n",
       "        vertical-align: top;\n",
       "    }\n",
       "\n",
       "    .dataframe thead th {\n",
       "        text-align: right;\n",
       "    }\n",
       "</style>\n",
       "<table border=\"1\" class=\"dataframe\">\n",
       "  <thead>\n",
       "    <tr style=\"text-align: right;\">\n",
       "      <th></th>\n",
       "      <th>artist_name</th>\n",
       "      <th>release_name</th>\n",
       "      <th>song_name</th>\n",
       "      <th>Idiom</th>\n",
       "    </tr>\n",
       "  </thead>\n",
       "  <tbody>\n",
       "    <tr>\n",
       "      <th>1361</th>\n",
       "      <td>sjm dj remix collection</td>\n",
       "      <td>dialogue</td>\n",
       "      <td>dialogue</td>\n",
       "      <td>hindi</td>\n",
       "    </tr>\n",
       "    <tr>\n",
       "      <th>3551</th>\n",
       "      <td>rishabh</td>\n",
       "      <td>thodi jagha</td>\n",
       "      <td>master (83)</td>\n",
       "      <td>hindi</td>\n",
       "    </tr>\n",
       "    <tr>\n",
       "      <th>1238</th>\n",
       "      <td>janet lago</td>\n",
       "      <td>janet, mis canciones my songs, at piano style</td>\n",
       "      <td>the city of the sun</td>\n",
       "      <td>spanish</td>\n",
       "    </tr>\n",
       "    <tr>\n",
       "      <th>2892</th>\n",
       "      <td>surade</td>\n",
       "      <td>surili akhiyon but lofi</td>\n",
       "      <td>surili akhiyon wale lofi flip cover rahat fate...</td>\n",
       "      <td>hindi</td>\n",
       "    </tr>\n",
       "    <tr>\n",
       "      <th>4291</th>\n",
       "      <td>matias oficial</td>\n",
       "      <td>dame fuerza</td>\n",
       "      <td>dame fuerza</td>\n",
       "      <td>spanish</td>\n",
       "    </tr>\n",
       "  </tbody>\n",
       "</table>\n",
       "</div>"
      ],
      "text/plain": [
       "                   artist_name                                   release_name  \\\n",
       "1361  sjm dj remix collection                                        dialogue   \n",
       "3551                   rishabh                                    thodi jagha   \n",
       "1238                janet lago  janet, mis canciones my songs, at piano style   \n",
       "2892                    surade                        surili akhiyon but lofi   \n",
       "4291            matias oficial                                    dame fuerza   \n",
       "\n",
       "                                              song_name    Idiom  \n",
       "1361                                           dialogue    hindi  \n",
       "3551                                        master (83)    hindi  \n",
       "1238                                the city of the sun  spanish  \n",
       "2892  surili akhiyon wale lofi flip cover rahat fate...    hindi  \n",
       "4291                                       dame fuerza   spanish  "
      ]
     },
     "execution_count": 27,
     "metadata": {},
     "output_type": "execute_result"
    }
   ],
   "source": [
    "df.sample(5)"
   ]
  },
  {
   "cell_type": "markdown",
   "metadata": {},
   "source": [
    "### Removing Special Characters"
   ]
  },
  {
   "cell_type": "code",
   "execution_count": 28,
   "metadata": {},
   "outputs": [],
   "source": [
    "# Removing Special Characters and also numbers(since the numbers doesn't give any hint regarding idiom)\n",
    "for i in range(0,len(df.columns)):\n",
    "    for j in range(0, len(df)):\n",
    "        df[(df.columns.values[i])].values[j] = re.sub(\"[.,;/0-9!?¿%@|~'#+:()-]\", '', df[(df.columns.values[i])].values[j])"
   ]
  },
  {
   "cell_type": "code",
   "execution_count": 29,
   "metadata": {},
   "outputs": [
    {
     "data": {
      "text/html": [
       "<div>\n",
       "<style scoped>\n",
       "    .dataframe tbody tr th:only-of-type {\n",
       "        vertical-align: middle;\n",
       "    }\n",
       "\n",
       "    .dataframe tbody tr th {\n",
       "        vertical-align: top;\n",
       "    }\n",
       "\n",
       "    .dataframe thead th {\n",
       "        text-align: right;\n",
       "    }\n",
       "</style>\n",
       "<table border=\"1\" class=\"dataframe\">\n",
       "  <thead>\n",
       "    <tr style=\"text-align: right;\">\n",
       "      <th></th>\n",
       "      <th>artist_name</th>\n",
       "      <th>release_name</th>\n",
       "      <th>song_name</th>\n",
       "      <th>Idiom</th>\n",
       "    </tr>\n",
       "  </thead>\n",
       "  <tbody>\n",
       "    <tr>\n",
       "      <th>3985</th>\n",
       "      <td>raul alberto cordoba</td>\n",
       "      <td>insomnio pr</td>\n",
       "      <td>paz interior</td>\n",
       "      <td>spanish</td>\n",
       "    </tr>\n",
       "    <tr>\n",
       "      <th>2489</th>\n",
       "      <td>maruf sakirin</td>\n",
       "      <td>bol na halke halke</td>\n",
       "      <td>bol na halke halke</td>\n",
       "      <td>hindi</td>\n",
       "    </tr>\n",
       "    <tr>\n",
       "      <th>2379</th>\n",
       "      <td>cyphero  kzie on the beat</td>\n",
       "      <td>sannata</td>\n",
       "      <td>santa</td>\n",
       "      <td>hindi</td>\n",
       "    </tr>\n",
       "    <tr>\n",
       "      <th>4229</th>\n",
       "      <td>zohn tandon bey</td>\n",
       "      <td>bong oi mirlori</td>\n",
       "      <td>bong oi mirlori</td>\n",
       "      <td>hindi</td>\n",
       "    </tr>\n",
       "    <tr>\n",
       "      <th>2689</th>\n",
       "      <td>esteban estevez</td>\n",
       "      <td>salgan a bailar</td>\n",
       "      <td>esta noche quiero brandy</td>\n",
       "      <td>spanish</td>\n",
       "    </tr>\n",
       "  </tbody>\n",
       "</table>\n",
       "</div>"
      ],
      "text/plain": [
       "                    artist_name         release_name  \\\n",
       "3985       raul alberto cordoba          insomnio pr   \n",
       "2489              maruf sakirin  bol na halke halke    \n",
       "2379  cyphero  kzie on the beat              sannata   \n",
       "4229            zohn tandon bey      bong oi mirlori   \n",
       "2689            esteban estevez      salgan a bailar   \n",
       "\n",
       "                     song_name    Idiom  \n",
       "3985              paz interior  spanish  \n",
       "2489       bol na halke halke     hindi  \n",
       "2379                    santa     hindi  \n",
       "4229           bong oi mirlori    hindi  \n",
       "2689  esta noche quiero brandy  spanish  "
      ]
     },
     "execution_count": 29,
     "metadata": {},
     "output_type": "execute_result"
    }
   ],
   "source": [
    "df.sample(5)"
   ]
  },
  {
   "cell_type": "code",
   "execution_count": 30,
   "metadata": {},
   "outputs": [
    {
     "data": {
      "text/html": [
       "<div>\n",
       "<style scoped>\n",
       "    .dataframe tbody tr th:only-of-type {\n",
       "        vertical-align: middle;\n",
       "    }\n",
       "\n",
       "    .dataframe tbody tr th {\n",
       "        vertical-align: top;\n",
       "    }\n",
       "\n",
       "    .dataframe thead th {\n",
       "        text-align: right;\n",
       "    }\n",
       "</style>\n",
       "<table border=\"1\" class=\"dataframe\">\n",
       "  <thead>\n",
       "    <tr style=\"text-align: right;\">\n",
       "      <th></th>\n",
       "      <th>artist_name</th>\n",
       "      <th>release_name</th>\n",
       "      <th>song_name</th>\n",
       "      <th>Idiom</th>\n",
       "    </tr>\n",
       "  </thead>\n",
       "  <tbody>\n",
       "    <tr>\n",
       "      <th>3205</th>\n",
       "      <td>walther pro</td>\n",
       "      <td>resonancia</td>\n",
       "      <td></td>\n",
       "      <td>spanish</td>\n",
       "    </tr>\n",
       "    <tr>\n",
       "      <th>1316</th>\n",
       "      <td>cxcile</td>\n",
       "      <td></td>\n",
       "      <td></td>\n",
       "      <td>spanish</td>\n",
       "    </tr>\n",
       "    <tr>\n",
       "      <th>671</th>\n",
       "      <td>zevna  javi cheuke</td>\n",
       "      <td>jardin botanico</td>\n",
       "      <td></td>\n",
       "      <td>spanish</td>\n",
       "    </tr>\n",
       "    <tr>\n",
       "      <th>4036</th>\n",
       "      <td>zanmala</td>\n",
       "      <td></td>\n",
       "      <td></td>\n",
       "      <td>spanish</td>\n",
       "    </tr>\n",
       "    <tr>\n",
       "      <th>1908</th>\n",
       "      <td>tchad</td>\n",
       "      <td>ivory waali irony</td>\n",
       "      <td></td>\n",
       "      <td>hindi</td>\n",
       "    </tr>\n",
       "    <tr>\n",
       "      <th>...</th>\n",
       "      <td>...</td>\n",
       "      <td>...</td>\n",
       "      <td>...</td>\n",
       "      <td>...</td>\n",
       "    </tr>\n",
       "    <tr>\n",
       "      <th>1792</th>\n",
       "      <td>d i c</td>\n",
       "      <td>zona sur rkt</td>\n",
       "      <td>zona sur rkt</td>\n",
       "      <td>spanish</td>\n",
       "    </tr>\n",
       "    <tr>\n",
       "      <th>585</th>\n",
       "      <td>soledad bravo live dec</td>\n",
       "      <td>lost and found latin music tapes</td>\n",
       "      <td>zorongo</td>\n",
       "      <td>spanish</td>\n",
       "    </tr>\n",
       "    <tr>\n",
       "      <th>2510</th>\n",
       "      <td>zeta</td>\n",
       "      <td>zta music sessions vol</td>\n",
       "      <td>zta music sessions vol</td>\n",
       "      <td>spanish</td>\n",
       "    </tr>\n",
       "    <tr>\n",
       "      <th>1791</th>\n",
       "      <td>bsk brothers</td>\n",
       "      <td>absolute desi vol</td>\n",
       "      <td>zul zul vahe</td>\n",
       "      <td>hindi</td>\n",
       "    </tr>\n",
       "    <tr>\n",
       "      <th>1348</th>\n",
       "      <td>tia juana</td>\n",
       "      <td>de genuina tradicion</td>\n",
       "      <td>zulia colosal</td>\n",
       "      <td>spanish</td>\n",
       "    </tr>\n",
       "  </tbody>\n",
       "</table>\n",
       "<p>9781 rows × 4 columns</p>\n",
       "</div>"
      ],
      "text/plain": [
       "                   artist_name                      release_name  \\\n",
       "3205               walther pro                        resonancia   \n",
       "1316                    cxcile                                     \n",
       "671         zevna  javi cheuke                  jardin botanico    \n",
       "4036                   zanmala                                     \n",
       "1908                     tchad                 ivory waali irony   \n",
       "...                        ...                               ...   \n",
       "1792                     d i c                      zona sur rkt   \n",
       "585   soledad bravo live dec    lost and found latin music tapes   \n",
       "2510                      zeta            zta music sessions vol   \n",
       "1791              bsk brothers                 absolute desi vol   \n",
       "1348                 tia juana              de genuina tradicion   \n",
       "\n",
       "                   song_name    Idiom  \n",
       "3205                          spanish  \n",
       "1316                          spanish  \n",
       "671                           spanish  \n",
       "4036                          spanish  \n",
       "1908                            hindi  \n",
       "...                      ...      ...  \n",
       "1792           zona sur rkt   spanish  \n",
       "585                  zorongo  spanish  \n",
       "2510  zta music sessions vol  spanish  \n",
       "1791           zul zul vahe     hindi  \n",
       "1348           zulia colosal  spanish  \n",
       "\n",
       "[9781 rows x 4 columns]"
      ]
     },
     "execution_count": 30,
     "metadata": {},
     "output_type": "execute_result"
    }
   ],
   "source": [
    "# Visualizing data \n",
    "df.sort_values('song_name')"
   ]
  },
  {
   "cell_type": "code",
   "execution_count": 31,
   "metadata": {},
   "outputs": [
    {
     "data": {
      "text/html": [
       "<div>\n",
       "<style scoped>\n",
       "    .dataframe tbody tr th:only-of-type {\n",
       "        vertical-align: middle;\n",
       "    }\n",
       "\n",
       "    .dataframe tbody tr th {\n",
       "        vertical-align: top;\n",
       "    }\n",
       "\n",
       "    .dataframe thead th {\n",
       "        text-align: right;\n",
       "    }\n",
       "</style>\n",
       "<table border=\"1\" class=\"dataframe\">\n",
       "  <thead>\n",
       "    <tr style=\"text-align: right;\">\n",
       "      <th></th>\n",
       "      <th>artist_name</th>\n",
       "      <th>release_name</th>\n",
       "      <th>song_name</th>\n",
       "      <th>Idiom</th>\n",
       "    </tr>\n",
       "  </thead>\n",
       "  <tbody>\n",
       "    <tr>\n",
       "      <th>671</th>\n",
       "      <td>zevna  javi cheuke</td>\n",
       "      <td>jardin botanico</td>\n",
       "      <td></td>\n",
       "      <td>spanish</td>\n",
       "    </tr>\n",
       "    <tr>\n",
       "      <th>1316</th>\n",
       "      <td>cxcile</td>\n",
       "      <td></td>\n",
       "      <td></td>\n",
       "      <td>spanish</td>\n",
       "    </tr>\n",
       "    <tr>\n",
       "      <th>1998</th>\n",
       "      <td>oniricboii</td>\n",
       "      <td></td>\n",
       "      <td></td>\n",
       "      <td>spanish</td>\n",
       "    </tr>\n",
       "    <tr>\n",
       "      <th>2348</th>\n",
       "      <td>seven</td>\n",
       "      <td></td>\n",
       "      <td></td>\n",
       "      <td>spanish</td>\n",
       "    </tr>\n",
       "    <tr>\n",
       "      <th>2903</th>\n",
       "      <td>j boi</td>\n",
       "      <td></td>\n",
       "      <td></td>\n",
       "      <td>spanish</td>\n",
       "    </tr>\n",
       "    <tr>\n",
       "      <th>2921</th>\n",
       "      <td>jadix</td>\n",
       "      <td>tena</td>\n",
       "      <td></td>\n",
       "      <td>spanish</td>\n",
       "    </tr>\n",
       "    <tr>\n",
       "      <th>3205</th>\n",
       "      <td>walther pro</td>\n",
       "      <td>resonancia</td>\n",
       "      <td></td>\n",
       "      <td>spanish</td>\n",
       "    </tr>\n",
       "    <tr>\n",
       "      <th>4028</th>\n",
       "      <td>ruido julio</td>\n",
       "      <td></td>\n",
       "      <td></td>\n",
       "      <td>spanish</td>\n",
       "    </tr>\n",
       "    <tr>\n",
       "      <th>4036</th>\n",
       "      <td>zanmala</td>\n",
       "      <td></td>\n",
       "      <td></td>\n",
       "      <td>spanish</td>\n",
       "    </tr>\n",
       "    <tr>\n",
       "      <th>1908</th>\n",
       "      <td>tchad</td>\n",
       "      <td>ivory waali irony</td>\n",
       "      <td></td>\n",
       "      <td>hindi</td>\n",
       "    </tr>\n",
       "  </tbody>\n",
       "</table>\n",
       "</div>"
      ],
      "text/plain": [
       "             artist_name       release_name song_name    Idiom\n",
       "671   zevna  javi cheuke   jardin botanico             spanish\n",
       "1316              cxcile                               spanish\n",
       "1998          oniricboii                               spanish\n",
       "2348               seven                               spanish\n",
       "2903               j boi                               spanish\n",
       "2921               jadix               tena            spanish\n",
       "3205         walther pro         resonancia            spanish\n",
       "4028         ruido julio                               spanish\n",
       "4036             zanmala                               spanish\n",
       "1908               tchad  ivory waali irony              hindi"
      ]
     },
     "execution_count": 31,
     "metadata": {},
     "output_type": "execute_result"
    }
   ],
   "source": [
    "# Remove the rows where we got empty values after the pre-processing and couldn't be removed by .dropna()\n",
    "df[(df.song_name == '')]"
   ]
  },
  {
   "cell_type": "code",
   "execution_count": 32,
   "metadata": {},
   "outputs": [],
   "source": [
    "df = df[(df.song_name != '') & (df.release_name != '') & (df.artist_name != '')]"
   ]
  },
  {
   "cell_type": "code",
   "execution_count": 33,
   "metadata": {},
   "outputs": [
    {
     "data": {
      "text/html": [
       "<div>\n",
       "<style scoped>\n",
       "    .dataframe tbody tr th:only-of-type {\n",
       "        vertical-align: middle;\n",
       "    }\n",
       "\n",
       "    .dataframe tbody tr th {\n",
       "        vertical-align: top;\n",
       "    }\n",
       "\n",
       "    .dataframe thead th {\n",
       "        text-align: right;\n",
       "    }\n",
       "</style>\n",
       "<table border=\"1\" class=\"dataframe\">\n",
       "  <thead>\n",
       "    <tr style=\"text-align: right;\">\n",
       "      <th></th>\n",
       "      <th>artist_name</th>\n",
       "      <th>release_name</th>\n",
       "      <th>song_name</th>\n",
       "      <th>Idiom</th>\n",
       "    </tr>\n",
       "  </thead>\n",
       "  <tbody>\n",
       "    <tr>\n",
       "      <th>3552</th>\n",
       "      <td>pr</td>\n",
       "      <td>pedro</td>\n",
       "      <td>eyes</td>\n",
       "      <td>spanish</td>\n",
       "    </tr>\n",
       "    <tr>\n",
       "      <th>3754</th>\n",
       "      <td>khushi</td>\n",
       "      <td>shikhandi  a rap on transgenders</td>\n",
       "      <td>shikhandi  a rap on transgenders</td>\n",
       "      <td>hindi</td>\n",
       "    </tr>\n",
       "    <tr>\n",
       "      <th>2087</th>\n",
       "      <td>subhranil neogi</td>\n",
       "      <td>choo lo remix  subhranil</td>\n",
       "      <td>choo lo the local train</td>\n",
       "      <td>hindi</td>\n",
       "    </tr>\n",
       "    <tr>\n",
       "      <th>2415</th>\n",
       "      <td>old vs new</td>\n",
       "      <td>raj burban &amp; deepshikha</td>\n",
       "      <td>gujarati love audio wing project</td>\n",
       "      <td>hindi</td>\n",
       "    </tr>\n",
       "    <tr>\n",
       "      <th>1716</th>\n",
       "      <td>apni nagpuri adda</td>\n",
       "      <td>ho o dear darling tore naam</td>\n",
       "      <td>ho o dear darling tore naam</td>\n",
       "      <td>hindi</td>\n",
       "    </tr>\n",
       "  </tbody>\n",
       "</table>\n",
       "</div>"
      ],
      "text/plain": [
       "            artist_name                      release_name  \\\n",
       "3552                 pr                             pedro   \n",
       "3754            khushi   shikhandi  a rap on transgenders   \n",
       "2087    subhranil neogi          choo lo remix  subhranil   \n",
       "2415         old vs new           raj burban & deepshikha   \n",
       "1716  apni nagpuri adda       ho o dear darling tore naam   \n",
       "\n",
       "                             song_name    Idiom  \n",
       "3552                              eyes  spanish  \n",
       "3754  shikhandi  a rap on transgenders    hindi  \n",
       "2087          choo lo the local train     hindi  \n",
       "2415  gujarati love audio wing project    hindi  \n",
       "1716       ho o dear darling tore naam    hindi  "
      ]
     },
     "execution_count": 33,
     "metadata": {},
     "output_type": "execute_result"
    }
   ],
   "source": [
    "df.sample(5)"
   ]
  },
  {
   "cell_type": "markdown",
   "metadata": {},
   "source": [
    "> We could see that some albuns had the 'vol' in its end (indicating which volum it is). Since it's a generic word, it won't help to keep them in our dataset. Let's remove the word then.\n",
    " Now that we took the numbers out, lets see how many we have left"
   ]
  },
  {
   "cell_type": "code",
   "execution_count": 34,
   "metadata": {},
   "outputs": [
    {
     "name": "stdout",
     "output_type": "stream",
     "text": [
      "49\n",
      "49\n"
     ]
    }
   ],
   "source": [
    "print(df['release_name'].str.endswith('vol ').sum())\n",
    "print(df['release_name'].str.endswith('vol').sum())"
   ]
  },
  {
   "cell_type": "code",
   "execution_count": 35,
   "metadata": {},
   "outputs": [],
   "source": [
    "# Removing 'vol' and 'vol ' in the end of the albuns\n",
    "for i in range(0, len(df)):\n",
    "    if df.release_name.str.endswith('vol ').values[i]:\n",
    "        df.release_name.values[i] = df.release_name.values[i].replace('vol ', '')\n",
    "    elif df.release_name.str.endswith('vol').values[i]:\n",
    "        df.release_name.values[i] = df.release_name.values[i].replace('vol', '')"
   ]
  },
  {
   "cell_type": "code",
   "execution_count": 36,
   "metadata": {},
   "outputs": [
    {
     "name": "stdout",
     "output_type": "stream",
     "text": [
      "0\n",
      "0\n"
     ]
    }
   ],
   "source": [
    "# Checking if they were fully removed.\n",
    "print(df['release_name'].str.endswith('vol ').sum())\n",
    "print(df['release_name'].str.endswith('vol').sum())"
   ]
  },
  {
   "cell_type": "code",
   "execution_count": 37,
   "metadata": {},
   "outputs": [
    {
     "data": {
      "text/html": [
       "<div>\n",
       "<style scoped>\n",
       "    .dataframe tbody tr th:only-of-type {\n",
       "        vertical-align: middle;\n",
       "    }\n",
       "\n",
       "    .dataframe tbody tr th {\n",
       "        vertical-align: top;\n",
       "    }\n",
       "\n",
       "    .dataframe thead th {\n",
       "        text-align: right;\n",
       "    }\n",
       "</style>\n",
       "<table border=\"1\" class=\"dataframe\">\n",
       "  <thead>\n",
       "    <tr style=\"text-align: right;\">\n",
       "      <th></th>\n",
       "      <th>artist_name</th>\n",
       "      <th>release_name</th>\n",
       "      <th>song_name</th>\n",
       "      <th>Idiom</th>\n",
       "    </tr>\n",
       "  </thead>\n",
       "  <tbody>\n",
       "    <tr>\n",
       "      <th>529</th>\n",
       "      <td>billos caracas boys &amp; sonora matancera</td>\n",
       "      <td>lost and found latin music tapes vol ii</td>\n",
       "      <td>sin corazon en el pecho</td>\n",
       "      <td>spanish</td>\n",
       "    </tr>\n",
       "    <tr>\n",
       "      <th>1487</th>\n",
       "      <td>davis gm</td>\n",
       "      <td>perfecta ilusion</td>\n",
       "      <td>perfecta ilusion</td>\n",
       "      <td>spanish</td>\n",
       "    </tr>\n",
       "    <tr>\n",
       "      <th>920</th>\n",
       "      <td>gryd</td>\n",
       "      <td>godzilla</td>\n",
       "      <td>godzilla</td>\n",
       "      <td>spanish</td>\n",
       "    </tr>\n",
       "    <tr>\n",
       "      <th>504</th>\n",
       "      <td>billos caracas boys &amp; sonora matancera radio b...</td>\n",
       "      <td>lost and found latin music tapes vol ii</td>\n",
       "      <td>valencia senorial</td>\n",
       "      <td>spanish</td>\n",
       "    </tr>\n",
       "    <tr>\n",
       "      <th>4471</th>\n",
       "      <td>anurag dogra</td>\n",
       "      <td>aukaat</td>\n",
       "      <td>aukaat</td>\n",
       "      <td>hindi</td>\n",
       "    </tr>\n",
       "  </tbody>\n",
       "</table>\n",
       "</div>"
      ],
      "text/plain": [
       "                                            artist_name  \\\n",
       "529              billos caracas boys & sonora matancera   \n",
       "1487                                           davis gm   \n",
       "920                                                gryd   \n",
       "504   billos caracas boys & sonora matancera radio b...   \n",
       "4471                                       anurag dogra   \n",
       "\n",
       "                                 release_name                song_name  \\\n",
       "529   lost and found latin music tapes vol ii  sin corazon en el pecho   \n",
       "1487                         perfecta ilusion         perfecta ilusion   \n",
       "920                                  godzilla                 godzilla   \n",
       "504   lost and found latin music tapes vol ii        valencia senorial   \n",
       "4471                                   aukaat                   aukaat   \n",
       "\n",
       "        Idiom  \n",
       "529   spanish  \n",
       "1487  spanish  \n",
       "920   spanish  \n",
       "504   spanish  \n",
       "4471    hindi  "
      ]
     },
     "execution_count": 37,
     "metadata": {},
     "output_type": "execute_result"
    }
   ],
   "source": [
    "df.sample(5)"
   ]
  },
  {
   "cell_type": "code",
   "execution_count": 38,
   "metadata": {},
   "outputs": [],
   "source": [
    "# Transforming the target variable ('Idiom') in 0 and 1 (\"0\" -> 'hindi ; \"1\" -> spanish)\n",
    "df['Idiom'] = np.where((df['Idiom']) == 'spanish', 1,0)"
   ]
  },
  {
   "cell_type": "code",
   "execution_count": 39,
   "metadata": {},
   "outputs": [
    {
     "data": {
      "text/plain": [
       "0    4875\n",
       "1    4873\n",
       "Name: Idiom, dtype: int64"
      ]
     },
     "execution_count": 39,
     "metadata": {},
     "output_type": "execute_result"
    }
   ],
   "source": [
    "df['Idiom'].value_counts()"
   ]
  },
  {
   "cell_type": "code",
   "execution_count": 40,
   "metadata": {},
   "outputs": [
    {
     "data": {
      "text/html": [
       "<div>\n",
       "<style scoped>\n",
       "    .dataframe tbody tr th:only-of-type {\n",
       "        vertical-align: middle;\n",
       "    }\n",
       "\n",
       "    .dataframe tbody tr th {\n",
       "        vertical-align: top;\n",
       "    }\n",
       "\n",
       "    .dataframe thead th {\n",
       "        text-align: right;\n",
       "    }\n",
       "</style>\n",
       "<table border=\"1\" class=\"dataframe\">\n",
       "  <thead>\n",
       "    <tr style=\"text-align: right;\">\n",
       "      <th></th>\n",
       "      <th>artist_name</th>\n",
       "      <th>release_name</th>\n",
       "      <th>song_name</th>\n",
       "      <th>Idiom</th>\n",
       "    </tr>\n",
       "  </thead>\n",
       "  <tbody>\n",
       "    <tr>\n",
       "      <th>4252</th>\n",
       "      <td>titanexx</td>\n",
       "      <td>extension excesiva</td>\n",
       "      <td>sin adaptacion no hay victoria</td>\n",
       "      <td>1</td>\n",
       "    </tr>\n",
       "    <tr>\n",
       "      <th>4883</th>\n",
       "      <td>vivan studio paparda</td>\n",
       "      <td>chand sitara su top</td>\n",
       "      <td>chand sitara su top</td>\n",
       "      <td>0</td>\n",
       "    </tr>\n",
       "    <tr>\n",
       "      <th>354</th>\n",
       "      <td>zi</td>\n",
       "      <td>marwei</td>\n",
       "      <td>marwei</td>\n",
       "      <td>0</td>\n",
       "    </tr>\n",
       "    <tr>\n",
       "      <th>2394</th>\n",
       "      <td>ag sandino</td>\n",
       "      <td>me canse</td>\n",
       "      <td>me canse</td>\n",
       "      <td>1</td>\n",
       "    </tr>\n",
       "    <tr>\n",
       "      <th>3162</th>\n",
       "      <td>dj selvin</td>\n",
       "      <td>en la disco freestyle</td>\n",
       "      <td>en la disco freestyle</td>\n",
       "      <td>1</td>\n",
       "    </tr>\n",
       "  </tbody>\n",
       "</table>\n",
       "</div>"
      ],
      "text/plain": [
       "               artist_name            release_name  \\\n",
       "4252              titanexx      extension excesiva   \n",
       "4883  vivan studio paparda     chand sitara su top   \n",
       "354                     zi                 marwei    \n",
       "2394            ag sandino               me canse    \n",
       "3162            dj selvin   en la disco freestyle    \n",
       "\n",
       "                           song_name  Idiom  \n",
       "4252  sin adaptacion no hay victoria      1  \n",
       "4883             chand sitara su top      0  \n",
       "354                           marwei      0  \n",
       "2394                       me canse       1  \n",
       "3162           en la disco freestyle      1  "
      ]
     },
     "execution_count": 40,
     "metadata": {},
     "output_type": "execute_result"
    }
   ],
   "source": [
    "df.sample(5)"
   ]
  },
  {
   "cell_type": "markdown",
   "metadata": {},
   "source": [
    "## Model Training"
   ]
  },
  {
   "cell_type": "markdown",
   "metadata": {},
   "source": [
    "### Train and Test Dataset"
   ]
  },
  {
   "cell_type": "markdown",
   "metadata": {},
   "source": [
    "Firstly, I'll use all the 3 variables as target. Later I'll try using only the song_name (since the we have repeated values in the album name and artist, and also artist name do not neceesary mean anything about the idiom)\n"
   ]
  },
  {
   "cell_type": "code",
   "execution_count": 41,
   "metadata": {},
   "outputs": [],
   "source": [
    "x = (df.drop(['Idiom'], axis = 1)) # predictors\n",
    "y = (df['Idiom']) # target"
   ]
  },
  {
   "cell_type": "code",
   "execution_count": 42,
   "metadata": {},
   "outputs": [
    {
     "data": {
      "text/plain": [
       "pandas.core.frame.DataFrame"
      ]
     },
     "execution_count": 42,
     "metadata": {},
     "output_type": "execute_result"
    }
   ],
   "source": [
    "type(x)"
   ]
  },
  {
   "cell_type": "code",
   "execution_count": 43,
   "metadata": {},
   "outputs": [],
   "source": [
    "# Transforming the variables to use in our algorith\n",
    "cv = CountVectorizer()\n",
    "ct = make_column_transformer((cv,'artist_name'),(cv,'song_name'),(cv,'release_name'))\n",
    "X = ct.fit_transform(x)"
   ]
  },
  {
   "cell_type": "code",
   "execution_count": 44,
   "metadata": {},
   "outputs": [],
   "source": [
    "# Separating them into train/test\n",
    "X_train, X_test, y_train, y_test = train_test_split(X, y, test_size = 0.33, random_state = 19)"
   ]
  },
  {
   "cell_type": "code",
   "execution_count": 45,
   "metadata": {},
   "outputs": [
    {
     "name": "stderr",
     "output_type": "stream",
     "text": [
      "c:\\Users\\rafajovelho\\anaconda3\\lib\\site-packages\\seaborn\\_decorators.py:36: FutureWarning: Pass the following variable as a keyword arg: x. From version 0.12, the only valid positional argument will be `data`, and passing other arguments without an explicit keyword will result in an error or misinterpretation.\n",
      "  warnings.warn(\n"
     ]
    },
    {
     "data": {
      "image/png": "[encoded data removed]",
      "text/plain": [
       "<Figure size 576x432 with 1 Axes>"
      ]
     },
     "metadata": {
      "needs_background": "light"
     },
     "output_type": "display_data"
    }
   ],
   "source": [
    "# Verifying if the variable is balanced\n",
    "plt.figure(figsize = (8,6))\n",
    "\n",
    "ax = sns.countplot(y_train)"
   ]
  },
  {
   "cell_type": "code",
   "execution_count": 46,
   "metadata": {},
   "outputs": [
    {
     "data": {
      "text/plain": [
       "MultinomialNB()"
      ]
     },
     "execution_count": 46,
     "metadata": {},
     "output_type": "execute_result"
    }
   ],
   "source": [
    "model = MultinomialNB()\n",
    "model.fit(X_train, y_train)"
   ]
  },
  {
   "cell_type": "markdown",
   "metadata": {},
   "source": [
    "## Score"
   ]
  },
  {
   "cell_type": "code",
   "execution_count": 47,
   "metadata": {},
   "outputs": [
    {
     "name": "stdout",
     "output_type": "stream",
     "text": [
      " We got 95.74% of accuraccy\n"
     ]
    }
   ],
   "source": [
    "score = model.score(X_test, y_test)\n",
    "print(f' We got {round(score*100,2)}% of accuraccy')"
   ]
  },
  {
   "cell_type": "code",
   "execution_count": 48,
   "metadata": {},
   "outputs": [
    {
     "name": "stdout",
     "output_type": "stream",
     "text": [
      "[[1500   84]\n",
      " [  53 1580]]\n"
     ]
    }
   ],
   "source": [
    "# Confusion Matrix\n",
    "predictions = model.predict(X_test)\n",
    "print(metrics.confusion_matrix(y_test, predictions))"
   ]
  },
  {
   "cell_type": "code",
   "execution_count": 49,
   "metadata": {},
   "outputs": [
    {
     "name": "stdout",
     "output_type": "stream",
     "text": [
      "              precision    recall  f1-score   support\n",
      "\n",
      "           0       0.97      0.95      0.96      1584\n",
      "           1       0.95      0.97      0.96      1633\n",
      "\n",
      "    accuracy                           0.96      3217\n",
      "   macro avg       0.96      0.96      0.96      3217\n",
      "weighted avg       0.96      0.96      0.96      3217\n",
      "\n"
     ]
    }
   ],
   "source": [
    "# Precision\n",
    "print(metrics.classification_report(y_test, predictions))"
   ]
  },
  {
   "cell_type": "markdown",
   "metadata": {},
   "source": [
    "I'll be testing the same model, but now using only the \"song_name\" as predictor variable. This one might be a more generic model."
   ]
  },
  {
   "cell_type": "markdown",
   "metadata": {},
   "source": [
    "### Train and Test Dataset"
   ]
  },
  {
   "cell_type": "code",
   "execution_count": 50,
   "metadata": {},
   "outputs": [],
   "source": [
    "x = np.array((df['song_name'])) # predictors\n",
    "y = np.array((df['Idiom'])) # target"
   ]
  },
  {
   "cell_type": "code",
   "execution_count": 51,
   "metadata": {},
   "outputs": [],
   "source": [
    "cv = CountVectorizer()\n",
    "X = cv.fit_transform(x)"
   ]
  },
  {
   "cell_type": "code",
   "execution_count": 52,
   "metadata": {},
   "outputs": [],
   "source": [
    "# Separating them into train/test\n",
    "X_train, X_test, y_train, y_test = train_test_split(X, y, test_size = 0.33, random_state= 19)"
   ]
  },
  {
   "cell_type": "code",
   "execution_count": 53,
   "metadata": {},
   "outputs": [
    {
     "name": "stderr",
     "output_type": "stream",
     "text": [
      "c:\\Users\\rafajovelho\\anaconda3\\lib\\site-packages\\seaborn\\_decorators.py:36: FutureWarning: Pass the following variable as a keyword arg: x. From version 0.12, the only valid positional argument will be `data`, and passing other arguments without an explicit keyword will result in an error or misinterpretation.\n",
      "  warnings.warn(\n"
     ]
    },
    {
     "data": {
      "image/png": "[encoded data removed]",
      "text/plain": [
       "<Figure size 576x432 with 1 Axes>"
      ]
     },
     "metadata": {
      "needs_background": "light"
     },
     "output_type": "display_data"
    }
   ],
   "source": [
    "# Verifying if the variable is balanced\n",
    "plt.figure(figsize = (8,6))\n",
    "\n",
    "ax = sns.countplot(y_train)"
   ]
  },
  {
   "cell_type": "code",
   "execution_count": 54,
   "metadata": {},
   "outputs": [
    {
     "data": {
      "text/plain": [
       "MultinomialNB()"
      ]
     },
     "execution_count": 54,
     "metadata": {},
     "output_type": "execute_result"
    }
   ],
   "source": [
    "model1 = MultinomialNB()\n",
    "model1.fit(X_train, y_train)"
   ]
  },
  {
   "cell_type": "markdown",
   "metadata": {},
   "source": [
    "### Score"
   ]
  },
  {
   "cell_type": "code",
   "execution_count": 55,
   "metadata": {},
   "outputs": [
    {
     "name": "stdout",
     "output_type": "stream",
     "text": [
      " We got 87.41% of accuraccy\n"
     ]
    }
   ],
   "source": [
    "score = model1.score(X_test, y_test)\n",
    "print(f' We got {round(score*100,2)}% of accuraccy')"
   ]
  },
  {
   "cell_type": "code",
   "execution_count": 56,
   "metadata": {},
   "outputs": [
    {
     "name": "stdout",
     "output_type": "stream",
     "text": [
      "[[1289  295]\n",
      " [ 110 1523]]\n",
      "              precision    recall  f1-score   support\n",
      "\n",
      "           0       0.92      0.81      0.86      1584\n",
      "           1       0.84      0.93      0.88      1633\n",
      "\n",
      "    accuracy                           0.87      3217\n",
      "   macro avg       0.88      0.87      0.87      3217\n",
      "weighted avg       0.88      0.87      0.87      3217\n",
      "\n"
     ]
    }
   ],
   "source": [
    "predictions = model1.predict(X_test)\n",
    "print(metrics.confusion_matrix(y_test, predictions))\n",
    "print(metrics.classification_report(y_test, predictions))"
   ]
  },
  {
   "cell_type": "markdown",
   "metadata": {},
   "source": [
    "We got a worse result using only the 'song_name' variable. But it actually might be better for futures datasets, since for this one we have a lot of repeated values for albuns and artists name."
   ]
  },
  {
   "cell_type": "markdown",
   "metadata": {},
   "source": [
    "### KNN"
   ]
  },
  {
   "cell_type": "code",
   "execution_count": 57,
   "metadata": {},
   "outputs": [],
   "source": [
    "x = (df.drop(['Idiom'], axis = 1)) # predictors\n",
    "y = (df['Idiom']) # target"
   ]
  },
  {
   "cell_type": "code",
   "execution_count": 58,
   "metadata": {},
   "outputs": [],
   "source": [
    "cv = CountVectorizer()\n",
    "ct = make_column_transformer((cv,'artist_name'),(cv,'song_name'),(cv,'release_name'))\n",
    "X = ct.fit_transform(x)"
   ]
  },
  {
   "cell_type": "code",
   "execution_count": 59,
   "metadata": {},
   "outputs": [],
   "source": [
    "# Separating them into train/test\n",
    "X_train, X_test, y_train, y_test = train_test_split(X, y, test_size = 0.33)"
   ]
  },
  {
   "cell_type": "code",
   "execution_count": 60,
   "metadata": {},
   "outputs": [
    {
     "data": {
      "text/plain": [
       "KNeighborsClassifier()"
      ]
     },
     "execution_count": 60,
     "metadata": {},
     "output_type": "execute_result"
    }
   ],
   "source": [
    "model2 = KNeighborsClassifier()\n",
    "model2.fit(X_train, y_train)"
   ]
  },
  {
   "cell_type": "code",
   "execution_count": 61,
   "metadata": {},
   "outputs": [
    {
     "name": "stdout",
     "output_type": "stream",
     "text": [
      " We got 80.11% of accuraccy\n"
     ]
    }
   ],
   "source": [
    "score = model2.score(X_test, y_test)\n",
    "print(f' We got {round(score*100,2)}% of accuraccy')"
   ]
  },
  {
   "cell_type": "code",
   "execution_count": 62,
   "metadata": {},
   "outputs": [
    {
     "name": "stdout",
     "output_type": "stream",
     "text": [
      "[[1042  604]\n",
      " [  36 1535]]\n",
      "              precision    recall  f1-score   support\n",
      "\n",
      "           0       0.97      0.63      0.77      1646\n",
      "           1       0.72      0.98      0.83      1571\n",
      "\n",
      "    accuracy                           0.80      3217\n",
      "   macro avg       0.84      0.81      0.80      3217\n",
      "weighted avg       0.85      0.80      0.80      3217\n",
      "\n"
     ]
    }
   ],
   "source": [
    "predictions = model2.predict(X_test)\n",
    "print(metrics.confusion_matrix(y_test, predictions))\n",
    "print(metrics.classification_report(y_test, predictions))"
   ]
  },
  {
   "cell_type": "markdown",
   "metadata": {},
   "source": [
    "Now using only song_name as predictor"
   ]
  },
  {
   "cell_type": "code",
   "execution_count": 63,
   "metadata": {},
   "outputs": [],
   "source": [
    "x = np.array((df['song_name'])) # predictors\n",
    "y = np.array((df['Idiom'])) # target"
   ]
  },
  {
   "cell_type": "code",
   "execution_count": 64,
   "metadata": {},
   "outputs": [],
   "source": [
    "cv = CountVectorizer()\n",
    "X = cv.fit_transform(x)"
   ]
  },
  {
   "cell_type": "code",
   "execution_count": 65,
   "metadata": {},
   "outputs": [],
   "source": [
    "# Separating them into train/test\n",
    "X_train, X_test, y_train, y_test = train_test_split(X, y, test_size = 0.33)"
   ]
  },
  {
   "cell_type": "code",
   "execution_count": 66,
   "metadata": {},
   "outputs": [
    {
     "data": {
      "text/plain": [
       "KNeighborsClassifier()"
      ]
     },
     "execution_count": 66,
     "metadata": {},
     "output_type": "execute_result"
    }
   ],
   "source": [
    "# Trainning model\n",
    "model3 = KNeighborsClassifier()\n",
    "model3.fit(X_train, y_train)"
   ]
  },
  {
   "cell_type": "code",
   "execution_count": 67,
   "metadata": {},
   "outputs": [
    {
     "name": "stdout",
     "output_type": "stream",
     "text": [
      " We got 74.32% of accuraccy\n"
     ]
    }
   ],
   "source": [
    "# Score\n",
    "score = model3.score(X_test, y_test)\n",
    "print(f' We got {round(score*100,2)}% of accuraccy')"
   ]
  },
  {
   "cell_type": "code",
   "execution_count": 68,
   "metadata": {},
   "outputs": [
    {
     "name": "stdout",
     "output_type": "stream",
     "text": [
      "[[1573   90]\n",
      " [ 736  818]]\n",
      "              precision    recall  f1-score   support\n",
      "\n",
      "           0       0.68      0.95      0.79      1663\n",
      "           1       0.90      0.53      0.66      1554\n",
      "\n",
      "    accuracy                           0.74      3217\n",
      "   macro avg       0.79      0.74      0.73      3217\n",
      "weighted avg       0.79      0.74      0.73      3217\n",
      "\n"
     ]
    }
   ],
   "source": [
    "predictions = model3.predict(X_test)\n",
    "print(metrics.confusion_matrix(y_test, predictions))\n",
    "print(metrics.classification_report(y_test, predictions))"
   ]
  },
  {
   "cell_type": "markdown",
   "metadata": {},
   "source": [
    "## Conclusion"
   ]
  },
  {
   "cell_type": "markdown",
   "metadata": {},
   "source": [
    "> We end up having a very good accuracy with the models. Altough the Naive Bayes model had a better perfomance than the KNN one. Also the result was higher when all the variables were used.  "
   ]
  },
  {
   "cell_type": "markdown",
   "metadata": {},
   "source": [
    "> Even though there were some repeated values for 'artist_name' and 'release_name' , I don't think it'll affect negatively our result, since the name is usually writen with the language the song is."
   ]
  }
 ],
 "metadata": {
  "kernelspec": {
   "display_name": "Python 3.9.12 ('base')",
   "language": "python",
   "name": "python3"
  },
  "language_info": {
   "codemirror_mode": {
    "name": "ipython",
    "version": 3
   },
   "file_extension": ".py",
   "mimetype": "text/x-python",
   "name": "python",
   "nbconvert_exporter": "python",
   "pygments_lexer": "ipython3",
   "version": "3.9.12"
  },
  "orig_nbformat": 4,
  "vscode": {
   "interpreter": {
    "hash": "789211c298edb5e664485b63a967a0f90e13561e856db0bcfe03f526a35fad28"
   }
  }
 },
 "nbformat": 4,
 "nbformat_minor": 2
}
